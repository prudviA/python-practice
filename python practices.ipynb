{
 "cells": [
  {
   "cell_type": "markdown",
   "id": "9ffb58e3-d318-482d-8db2-9aae569e2675",
   "metadata": {},
   "source": [
    "# what is extension of python file?"
   ]
  },
  {
   "cell_type": "markdown",
   "id": "6814f92c-d85b-4995-b314-95debc85337a",
   "metadata": {},
   "source": [
    "### keywords:\n",
    "Keywords are some reserved words in python that carry certains meaning. we have overall 36 keywords avaiable in python.\n",
    "import ,True ,False ,is ,for,else \n",
    "\n",
    "\n",
    "### Identifiers:\n",
    "Identifiers or variables is the concept of python that allows us to create our own words and assign meaning to it but we have to follow certain set of rules for ccreating the identifiers.\n",
    "- we cannot declare the keywords as the identifiers.\n",
    "- Identifiers always starts from alphabets or underscore _.\n",
    "- we cannot have a special characters in the identifiers.\n",
    "\n",
    "- shortcut key combination for running the cell (shift+enter)\n"
   ]
  },
  {
   "cell_type": "code",
   "execution_count": 54,
   "id": "d3c1456d-d69c-4f29-a404-946c3d154b20",
   "metadata": {},
   "outputs": [],
   "source": [
    "Pankaj=100 #this is my first identifiers."
   ]
  },
  {
   "cell_type": "code",
   "execution_count": 52,
   "id": "fbb9f961-330d-4eda-ac28-b6ab81d8a49b",
   "metadata": {},
   "outputs": [
    {
     "data": {
      "text/plain": [
       "'\\nhere is my third identifiers and we called as user defined keywords\\nso this is also called a user define keyword or identifier.\\n'"
      ]
     },
     "execution_count": 52,
     "metadata": {},
     "output_type": "execute_result"
    }
   ],
   "source": [
    "def_1=00 \n",
    "'''\n",
    "here is my third identifiers and we called as user defined keywords\n",
    "so this is also called a user define keyword or identifier.\n",
    "'''"
   ]
  },
  {
   "cell_type": "code",
   "execution_count": 1,
   "id": "8bdf5f39-5205-45a0-8083-ba80d46b38df",
   "metadata": {},
   "outputs": [],
   "source": [
    "def_1=900"
   ]
  },
  {
   "cell_type": "markdown",
   "id": "f7e3b29c-909f-4598-a9fc-b14cb5c6ee27",
   "metadata": {},
   "source": [
    "# Data Types:"
   ]
  },
  {
   "cell_type": "markdown",
   "id": "e7f5218e-f9e2-4088-af99-ac017b2009f4",
   "metadata": {},
   "source": [
    "## Primitive dtypes:"
   ]
  },
  {
   "cell_type": "code",
   "execution_count": 7,
   "id": "cb937ec9-9013-453b-8261-d00c30da98ec",
   "metadata": {},
   "outputs": [
    {
     "name": "stdout",
     "output_type": "stream",
     "text": [
      "-90\n"
     ]
    }
   ],
   "source": [
    "# int: any number coming between +infinty that is a whole number.\n",
    "int_1=-90\n",
    "print(int_1)"
   ]
  },
  {
   "cell_type": "code",
   "execution_count": 9,
   "id": "dde349d1-b20b-4a6f-9999-e72a46cbb4ac",
   "metadata": {},
   "outputs": [
    {
     "name": "stdout",
     "output_type": "stream",
     "text": [
      "100\n"
     ]
    }
   ],
   "source": [
    "int_2=100\n",
    "print(int_2)"
   ]
  },
  {
   "cell_type": "code",
   "execution_count": 11,
   "id": "be2c4a6c-2207-405e-9c9a-e9af856133f4",
   "metadata": {},
   "outputs": [
    {
     "data": {
      "text/plain": [
       "int"
      ]
     },
     "execution_count": 11,
     "metadata": {},
     "output_type": "execute_result"
    }
   ],
   "source": [
    "#built in function ex- type(),print(),help()\n",
    "#suppose I want to know data type of any identifier?\n",
    "type(int_1)"
   ]
  },
  {
   "cell_type": "code",
   "execution_count": 15,
   "id": "5022a63e-7e88-4ae6-b720-f35bd0f82443",
   "metadata": {},
   "outputs": [
    {
     "name": "stdout",
     "output_type": "stream",
     "text": [
      "78.9\n"
     ]
    },
    {
     "data": {
      "text/plain": [
       "float"
      ]
     },
     "execution_count": 15,
     "metadata": {},
     "output_type": "execute_result"
    }
   ],
   "source": [
    "#float: any number between +infinity to -infinty that is not a whole number but contain decimal we consider that as a float.\n",
    "float_3=78.90\n",
    "print(float_3) #printing the object\n",
    "type(float_3) #identifying the data type of the object"
   ]
  },
  {
   "cell_type": "code",
   "execution_count": 17,
   "id": "6b79d8b4-d2aa-4c86-a981-b55fb8a555bb",
   "metadata": {},
   "outputs": [
    {
     "name": "stdout",
     "output_type": "stream",
     "text": [
      "Hey there my phone number is 0000000999 @@@.\n",
      "Hey this string\n"
     ]
    },
    {
     "data": {
      "text/plain": [
       "str"
      ]
     },
     "execution_count": 17,
     "metadata": {},
     "output_type": "execute_result"
    }
   ],
   "source": [
    "#string: string data type contains the combination of different characters declared inside or double inverted commas.\n",
    "str_1=\"Hey there my phone number is 0000000999 @@@.\"\n",
    "print(str_1)\n",
    "print(\"Hey this string\")\n",
    "type(str_1)"
   ]
  },
  {
   "cell_type": "code",
   "execution_count": 19,
   "id": "dad250a9-93ed-49e3-9d30-2190638edad5",
   "metadata": {},
   "outputs": [
    {
     "name": "stdout",
     "output_type": "stream",
     "text": [
      "True\n"
     ]
    },
    {
     "data": {
      "text/plain": [
       "bool"
      ]
     },
     "execution_count": 19,
     "metadata": {},
     "output_type": "execute_result"
    }
   ],
   "source": [
    "#Boolean: boolean data type has only two outcomes True and Flase which gets used in conditional statements.\n",
    "bool_1=True\n",
    "bool_2=False\n",
    "\n",
    "print(bool_1)\n",
    "type(bool_1)"
   ]
  },
  {
   "cell_type": "code",
   "execution_count": 21,
   "id": "41563ad6-2899-4191-8d50-049e0ef5924a",
   "metadata": {},
   "outputs": [
    {
     "name": "stdout",
     "output_type": "stream",
     "text": [
      "(3-78j)\n"
     ]
    },
    {
     "data": {
      "text/plain": [
       "complex"
      ]
     },
     "execution_count": 21,
     "metadata": {},
     "output_type": "execute_result"
    }
   ],
   "source": [
    "#complex: its a combination of real and imaginary term\n",
    "x_1=complex(3,-78) #whenever you want to declare the complex numbers always take the help of complex() built in function.\n",
    "print(x_1)\n",
    "type(x_1)\n"
   ]
  },
  {
   "cell_type": "code",
   "execution_count": 23,
   "id": "f822b4d0-bb7e-4cb3-8649-173a27a11a6b",
   "metadata": {},
   "outputs": [
    {
     "name": "stdout",
     "output_type": "stream",
     "text": [
      "None\n"
     ]
    },
    {
     "data": {
      "text/plain": [
       "NoneType"
      ]
     },
     "execution_count": 23,
     "metadata": {},
     "output_type": "execute_result"
    }
   ],
   "source": [
    "#None:\n",
    "check=None\n",
    "print(check)\n",
    "type(check)\n"
   ]
  },
  {
   "cell_type": "markdown",
   "id": "373ad7b9-f63d-4aeb-9a43-882f1a261bd9",
   "metadata": {},
   "source": [
    "# Non primitive data type"
   ]
  },
  {
   "cell_type": "markdown",
   "id": "010ea019-86aa-42d0-b310-b051d87327a5",
   "metadata": {},
   "source": [
    "### Lists:"
   ]
  },
  {
   "cell_type": "code",
   "execution_count": 5,
   "id": "de2ac37d-a611-4180-a1b5-af121913e979",
   "metadata": {},
   "outputs": [
    {
     "name": "stdout",
     "output_type": "stream",
     "text": [
      "[88899992222, 'Name', 89.2, True, None]\n"
     ]
    }
   ],
   "source": [
    "#we declare the combination of different data types inside the list and it should be declared inside it.\n",
    "\n",
    "List_1=[88899992222,\"Name\",89.2,True,None]\n",
    "type(List_1)\n",
    "print(List_1)"
   ]
  },
  {
   "cell_type": "code",
   "execution_count": 7,
   "id": "74b49a3f-3e5a-433f-ac7b-3bf2f2e6408b",
   "metadata": {},
   "outputs": [
    {
     "data": {
      "text/plain": [
       "list"
      ]
     },
     "execution_count": 7,
     "metadata": {},
     "output_type": "execute_result"
    }
   ],
   "source": [
    "type(List_1)"
   ]
  },
  {
   "cell_type": "code",
   "execution_count": 9,
   "id": "04f23a8e-c3d1-485c-8e50-eb7841cd4e40",
   "metadata": {},
   "outputs": [],
   "source": [
    "List_fruits=[\"Apple\",\"Banana\",\"Papaya\",\"Plum\"]\n",
    "\n",
    "#indexing means fetching out the value based on its index position.\n",
    "#indexing are two types:\n",
    "#forward indexing where we move from left to right and it starts with 0.\n",
    "#backward indexing where we move from right to left and it starts with -1."
   ]
  },
  {
   "cell_type": "code",
   "execution_count": 11,
   "id": "73d4fec1-2aec-47af-80bc-145a31349013",
   "metadata": {},
   "outputs": [
    {
     "name": "stdout",
     "output_type": "stream",
     "text": [
      "Banana\n"
     ]
    }
   ],
   "source": [
    "print(List_fruits[1])"
   ]
  },
  {
   "cell_type": "code",
   "execution_count": 13,
   "id": "235ec936-ae80-4bd2-8bb0-e62e0ec944f5",
   "metadata": {},
   "outputs": [
    {
     "name": "stdout",
     "output_type": "stream",
     "text": [
      "89.2\n"
     ]
    }
   ],
   "source": [
    "print(List_1[2])"
   ]
  },
  {
   "cell_type": "code",
   "execution_count": 15,
   "id": "4e4cac4e-f02f-4dff-a1aa-1df31986df09",
   "metadata": {},
   "outputs": [],
   "source": [
    "list_check=[10,20,23,34,564,645,78,93,35,23,35,4356,3546]  "
   ]
  },
  {
   "cell_type": "code",
   "execution_count": 25,
   "id": "8e8f649f-f18d-4a9f-81e1-dde3d9488105",
   "metadata": {},
   "outputs": [
    {
     "name": "stdout",
     "output_type": "stream",
     "text": [
      "10\n"
     ]
    }
   ],
   "source": [
    "print(list_check[0])"
   ]
  },
  {
   "cell_type": "code",
   "execution_count": 23,
   "id": "ee7ac9b5-0576-4c2b-a78f-732e30734ebe",
   "metadata": {},
   "outputs": [
    {
     "name": "stdout",
     "output_type": "stream",
     "text": [
      "3546\n"
     ]
    }
   ],
   "source": [
    "print(list_check[-1])"
   ]
  },
  {
   "cell_type": "code",
   "execution_count": 27,
   "id": "ae112b96-46ff-449f-aad9-a4c3e4e2fc29",
   "metadata": {},
   "outputs": [
    {
     "data": {
      "text/plain": [
       "93"
      ]
     },
     "execution_count": 27,
     "metadata": {},
     "output_type": "execute_result"
    }
   ],
   "source": [
    "list_check[-6]"
   ]
  },
  {
   "cell_type": "markdown",
   "id": "73df251e-fd05-4b1c-8742-629a5862e2f1",
   "metadata": {},
   "source": [
    "### Nested list"
   ]
  },
  {
   "cell_type": "code",
   "execution_count": 86,
   "id": "c75344a8-7728-4200-ab00-86ba954180f1",
   "metadata": {},
   "outputs": [],
   "source": [
    "list_nest=[11,22,44,56,78,[\"prudvi\",[\"syed\"],\"physco\",\"etc\"],89,[\"cat\",\",dog\",\"horse\",\"pop\"],[\"class1\",\"class2\",\"class3\"],978,865]"
   ]
  },
  {
   "cell_type": "code",
   "execution_count": 88,
   "id": "23e7bdf0-c1e3-49b7-a9cc-e6af187fb792",
   "metadata": {},
   "outputs": [
    {
     "name": "stdout",
     "output_type": "stream",
     "text": [
      "p\n"
     ]
    }
   ],
   "source": [
    "print(list_nest[5][2][0])"
   ]
  },
  {
   "cell_type": "code",
   "execution_count": 92,
   "id": "4b41962e-ca83-40ad-a08a-5c5a5c70d704",
   "metadata": {},
   "outputs": [
    {
     "name": "stdout",
     "output_type": "stream",
     "text": [
      "syed\n"
     ]
    }
   ],
   "source": [
    "print(list_nest[5][1][-0])"
   ]
  },
  {
   "cell_type": "code",
   "execution_count": 102,
   "id": "ecf5e675-d2ad-4856-9484-532f7e622b6a",
   "metadata": {},
   "outputs": [
    {
     "name": "stdout",
     "output_type": "stream",
     "text": [
      "<class 'list'>\n"
     ]
    }
   ],
   "source": [
    "#print(list_nest)\n",
    "print(type(list_nest))"
   ]
  },
  {
   "cell_type": "code",
   "execution_count": 104,
   "id": "98447068-f041-417a-8803-1a818f6285ed",
   "metadata": {},
   "outputs": [
    {
     "name": "stdout",
     "output_type": "stream",
     "text": [
      "<class 'list'>\n"
     ]
    }
   ],
   "source": [
    "print(type(list_nest))"
   ]
  },
  {
   "cell_type": "markdown",
   "id": "dd598f86-fa76-4ca3-aede-378df48dd486",
   "metadata": {},
   "source": [
    "# functions are uninversal in nature we can use it with any data types.\n",
    "# methods are the functions but they are dedicated for a particular class."
   ]
  },
  {
   "cell_type": "code",
   "execution_count": 118,
   "id": "fbd4b63e-af36-490e-bb67-6c3724e34515",
   "metadata": {},
   "outputs": [],
   "source": [
    "List_fruits=[\"Apple\",\"Banana\",\"Papaya\",\"Plum\"]\n",
    "\n",
    "#add one element by the end of the list.\n",
    "#by anychance if we use to change/modify any list by using method function it will change the list permanently.\n",
    "List_fruits.append(\"watermelon\")"
   ]
  },
  {
   "cell_type": "raw",
   "id": "de6a6b1d-3057-443d-b6d1-46b8f0544931",
   "metadata": {},
   "source": [
    "print(List_fruits)"
   ]
  },
  {
   "cell_type": "code",
   "execution_count": 114,
   "id": "b64c12a1-60a4-4aaf-adaa-8ae985009dee",
   "metadata": {},
   "outputs": [
    {
     "data": {
      "text/plain": [
       "list"
      ]
     },
     "execution_count": 114,
     "metadata": {},
     "output_type": "execute_result"
    }
   ],
   "source": [
    "type(List_fruits)"
   ]
  },
  {
   "cell_type": "code",
   "execution_count": 120,
   "id": "dac61323-d373-4bf4-aabd-1805a856a00c",
   "metadata": {},
   "outputs": [
    {
     "name": "stdout",
     "output_type": "stream",
     "text": [
      "['Apple', 'Banana', 'Papaya', 'Plum', 'watermelon']\n"
     ]
    }
   ],
   "source": [
    "print(List_fruits)"
   ]
  },
  {
   "cell_type": "code",
   "execution_count": 122,
   "id": "d449e5c9-db60-4e5f-ba45-a000fda30fb0",
   "metadata": {},
   "outputs": [
    {
     "name": "stdout",
     "output_type": "stream",
     "text": [
      "['Apple', 'Banana', 'Papaya', 'Plum', 'watermelon']\n"
     ]
    }
   ],
   "source": [
    "print(List_fruits)"
   ]
  },
  {
   "cell_type": "code",
   "execution_count": 124,
   "id": "d48e75d4-4570-4a23-be7d-312244154cb5",
   "metadata": {},
   "outputs": [],
   "source": [
    "List_fruits.append(\"watermelon\")"
   ]
  },
  {
   "cell_type": "code",
   "execution_count": 126,
   "id": "9a236ef4-fa68-4592-b4ff-0b37f93e065d",
   "metadata": {},
   "outputs": [
    {
     "name": "stdout",
     "output_type": "stream",
     "text": [
      "['Apple', 'Banana', 'Papaya', 'Plum', 'watermelon', 'watermelon']\n"
     ]
    }
   ],
   "source": [
    "print(List_fruits)"
   ]
  },
  {
   "cell_type": "code",
   "execution_count": 134,
   "id": "d0f0718d-3077-4b21-bbf3-66e9c452f214",
   "metadata": {},
   "outputs": [],
   "source": [
    "#if you want to add multiple elements by the end of the list.\n",
    "\n",
    "List_fruits.extend([\"a\",\"b\",\"c\"])"
   ]
  },
  {
   "cell_type": "code",
   "execution_count": 132,
   "id": "6d8e547f-292a-4b64-9c9c-c1670f469842",
   "metadata": {},
   "outputs": [
    {
     "name": "stdout",
     "output_type": "stream",
     "text": [
      "['Apple', 'Banana', 'Papaya', 'Plum', 'watermelon', 'watermelon', 'a', 'b', 'c']\n"
     ]
    }
   ],
   "source": [
    "print(List_fruits)"
   ]
  },
  {
   "cell_type": "code",
   "execution_count": 140,
   "id": "4b3e38ec-0c02-4eeb-980f-6fb72a53319d",
   "metadata": {},
   "outputs": [],
   "source": [
    "List_fruits.extend([\"a\",\"b\",\"c\"])"
   ]
  },
  {
   "cell_type": "code",
   "execution_count": 142,
   "id": "70dc0b44-98d3-4c6b-8b49-10abd4be697f",
   "metadata": {},
   "outputs": [
    {
     "name": "stdout",
     "output_type": "stream",
     "text": [
      "['Apple', 'Banana', 'Papaya', 'Plum', 'watermelon', 'watermelon', 'a', 'b', 'c', ['a', 'b', 'c'], ['a', 'b', 'c'], 'a', 'b', 'c']\n"
     ]
    }
   ],
   "source": [
    "print(List_fruits)"
   ]
  },
  {
   "cell_type": "code",
   "execution_count": 148,
   "id": "3162ae53-4642-4845-920a-c534d3f92c46",
   "metadata": {},
   "outputs": [],
   "source": [
    "List_fruits.append([123,56,899])"
   ]
  },
  {
   "cell_type": "code",
   "execution_count": 150,
   "id": "f9bfeb56-1d93-4306-b48f-14cdac637d7b",
   "metadata": {},
   "outputs": [
    {
     "name": "stdout",
     "output_type": "stream",
     "text": [
      "['Apple', 'Banana', 'Papaya', 'Plum', 'watermelon', 'watermelon', 'a', 'b', 'c', ['a', 'b', 'c'], ['a', 'b', 'c'], 'a', 'b', 'c', [123, 56, 899]]\n"
     ]
    }
   ],
   "source": [
    "print(List_fruits)"
   ]
  },
  {
   "cell_type": "code",
   "execution_count": 152,
   "id": "bd64d488-c3ad-4c86-85c0-378330916cde",
   "metadata": {},
   "outputs": [],
   "source": [
    "#if I want to add an element in the desired index position of a list.\n",
    "List_1=[88899992222,\"Name\",89.2,True,None]"
   ]
  },
  {
   "cell_type": "code",
   "execution_count": 154,
   "id": "cd28ee68-bd33-46ab-a765-b642eaa8eb6f",
   "metadata": {},
   "outputs": [
    {
     "name": "stdout",
     "output_type": "stream",
     "text": [
      "[88899992222, 'Name', 89.2, True, None]\n"
     ]
    }
   ],
   "source": [
    "print(List_1)"
   ]
  },
  {
   "cell_type": "code",
   "execution_count": 156,
   "id": "3fd8a19a-d7ee-41c8-b539-8064470b6786",
   "metadata": {},
   "outputs": [],
   "source": [
    "List_1.insert(4,\"date\")"
   ]
  },
  {
   "cell_type": "code",
   "execution_count": 158,
   "id": "4fb8100f-69a8-4792-a878-1169bd4e818e",
   "metadata": {},
   "outputs": [
    {
     "name": "stdout",
     "output_type": "stream",
     "text": [
      "[88899992222, 'Name', 89.2, True, 'date', None]\n"
     ]
    }
   ],
   "source": [
    "print(List_1)"
   ]
  },
  {
   "cell_type": "code",
   "execution_count": 162,
   "id": "f5087bc6-cde0-49f4-9f9a-0ca14628e188",
   "metadata": {},
   "outputs": [],
   "source": [
    "#suppose if I want to replace the elements from the list.\n",
    "List_1[1]=\"names\""
   ]
  },
  {
   "cell_type": "code",
   "execution_count": 164,
   "id": "acc433d3-edfe-45db-99cc-9a84825746bc",
   "metadata": {},
   "outputs": [
    {
     "name": "stdout",
     "output_type": "stream",
     "text": [
      "[88899992222, 'names', 89.2, True, 'date', None]\n"
     ]
    }
   ],
   "source": [
    "print(List_1)"
   ]
  },
  {
   "cell_type": "code",
   "execution_count": 168,
   "id": "425b4bc9-6823-42e7-9d2c-d57226b43091",
   "metadata": {},
   "outputs": [],
   "source": [
    "#if we want to delete one element by the end of the list.\n",
    "\n",
    "List_1.pop()"
   ]
  },
  {
   "cell_type": "code",
   "execution_count": 170,
   "id": "108e826e-51bc-4359-a275-0a5b671cb4aa",
   "metadata": {},
   "outputs": [
    {
     "data": {
      "text/plain": [
       "[88899992222, 'names', 89.2, True, 'date']"
      ]
     },
     "execution_count": 170,
     "metadata": {},
     "output_type": "execute_result"
    }
   ],
   "source": [
    "List_1"
   ]
  },
  {
   "cell_type": "code",
   "execution_count": 172,
   "id": "e5d98ae4-7fc4-4990-84ce-0581f6458ca2",
   "metadata": {},
   "outputs": [
    {
     "data": {
      "text/plain": [
       "True"
      ]
     },
     "execution_count": 172,
     "metadata": {},
     "output_type": "execute_result"
    }
   ],
   "source": [
    "# if I know the index position of the element how I can delete it?\n",
    "\n",
    "List_1.pop(3)"
   ]
  },
  {
   "cell_type": "code",
   "execution_count": 174,
   "id": "5eeb3800-737a-4533-8dbd-3653d9b752cf",
   "metadata": {},
   "outputs": [
    {
     "data": {
      "text/plain": [
       "[88899992222, 'names', 89.2, 'date']"
      ]
     },
     "execution_count": 174,
     "metadata": {},
     "output_type": "execute_result"
    }
   ],
   "source": [
    "List_1"
   ]
  },
  {
   "cell_type": "code",
   "execution_count": 176,
   "id": "b56b499f-7a1b-4c86-a193-e4afa73eb1e8",
   "metadata": {},
   "outputs": [],
   "source": [
    "#If I want to delete the specific element from the list.\n",
    "\n",
    "List_1.remove(\"names\")"
   ]
  },
  {
   "cell_type": "code",
   "execution_count": 178,
   "id": "ab80303f-7bc4-4fca-9053-6992f5657ae4",
   "metadata": {},
   "outputs": [
    {
     "data": {
      "text/plain": [
       "[88899992222, 89.2, 'date']"
      ]
     },
     "execution_count": 178,
     "metadata": {},
     "output_type": "execute_result"
    }
   ],
   "source": [
    "List_1"
   ]
  },
  {
   "cell_type": "code",
   "execution_count": 180,
   "id": "bbbb9647-b464-4f06-b2b8-2cca4181cd04",
   "metadata": {},
   "outputs": [
    {
     "data": {
      "text/plain": [
       "1"
      ]
     },
     "execution_count": 180,
     "metadata": {},
     "output_type": "execute_result"
    }
   ],
   "source": [
    "#identifying the index position of the element.\n",
    "List_1.index(89.2)"
   ]
  },
  {
   "cell_type": "code",
   "execution_count": 182,
   "id": "0e42a6de-333a-44b1-b985-26d885508d3f",
   "metadata": {},
   "outputs": [
    {
     "name": "stdout",
     "output_type": "stream",
     "text": [
      "['Apple', 'Banana', 'Papaya', 'Plum', 'watermelon', 'watermelon', 'a', 'b', 'c', ['a', 'b', 'c'], ['a', 'b', 'c'], 'a', 'b', 'c', [123, 56, 899]]\n"
     ]
    }
   ],
   "source": [
    "print(List_fruits)"
   ]
  },
  {
   "cell_type": "code",
   "execution_count": 184,
   "id": "b9dbebc2-092b-48f4-adcc-709c78fdbd11",
   "metadata": {},
   "outputs": [
    {
     "data": {
      "text/plain": [
       "4"
      ]
     },
     "execution_count": 184,
     "metadata": {},
     "output_type": "execute_result"
    }
   ],
   "source": [
    "List_fruits.index(\"watermelon\")"
   ]
  },
  {
   "cell_type": "code",
   "execution_count": 186,
   "id": "69b2f08b-b960-41a9-8f82-4957facc24aa",
   "metadata": {},
   "outputs": [
    {
     "data": {
      "text/plain": [
       "4"
      ]
     },
     "execution_count": 186,
     "metadata": {},
     "output_type": "execute_result"
    }
   ],
   "source": [
    "List_fruits.index(\"watermelon\")"
   ]
  },
  {
   "cell_type": "code",
   "execution_count": 190,
   "id": "6bb03709-6b79-4e3a-83c6-f609461ecdab",
   "metadata": {},
   "outputs": [
    {
     "data": {
      "text/plain": [
       "2"
      ]
     },
     "execution_count": 190,
     "metadata": {},
     "output_type": "execute_result"
    }
   ],
   "source": [
    "#count of any speific element object.\n",
    "\n",
    "List_fruits.count(\"watermelon\")"
   ]
  },
  {
   "cell_type": "code",
   "execution_count": 192,
   "id": "46494a6d-1ebc-435c-955a-42569f65f394",
   "metadata": {},
   "outputs": [
    {
     "name": "stdout",
     "output_type": "stream",
     "text": [
      "Help on class list in module builtins:\n",
      "\n",
      "class list(object)\n",
      " |  list(iterable=(), /)\n",
      " |\n",
      " |  Built-in mutable sequence.\n",
      " |\n",
      " |  If no argument is given, the constructor creates a new empty list.\n",
      " |  The argument must be an iterable if specified.\n",
      " |\n",
      " |  Methods defined here:\n",
      " |\n",
      " |  __add__(self, value, /)\n",
      " |      Return self+value.\n",
      " |\n",
      " |  __contains__(self, key, /)\n",
      " |      Return bool(key in self).\n",
      " |\n",
      " |  __delitem__(self, key, /)\n",
      " |      Delete self[key].\n",
      " |\n",
      " |  __eq__(self, value, /)\n",
      " |      Return self==value.\n",
      " |\n",
      " |  __ge__(self, value, /)\n",
      " |      Return self>=value.\n",
      " |\n",
      " |  __getattribute__(self, name, /)\n",
      " |      Return getattr(self, name).\n",
      " |\n",
      " |  __getitem__(self, index, /)\n",
      " |      Return self[index].\n",
      " |\n",
      " |  __gt__(self, value, /)\n",
      " |      Return self>value.\n",
      " |\n",
      " |  __iadd__(self, value, /)\n",
      " |      Implement self+=value.\n",
      " |\n",
      " |  __imul__(self, value, /)\n",
      " |      Implement self*=value.\n",
      " |\n",
      " |  __init__(self, /, *args, **kwargs)\n",
      " |      Initialize self.  See help(type(self)) for accurate signature.\n",
      " |\n",
      " |  __iter__(self, /)\n",
      " |      Implement iter(self).\n",
      " |\n",
      " |  __le__(self, value, /)\n",
      " |      Return self<=value.\n",
      " |\n",
      " |  __len__(self, /)\n",
      " |      Return len(self).\n",
      " |\n",
      " |  __lt__(self, value, /)\n",
      " |      Return self<value.\n",
      " |\n",
      " |  __mul__(self, value, /)\n",
      " |      Return self*value.\n",
      " |\n",
      " |  __ne__(self, value, /)\n",
      " |      Return self!=value.\n",
      " |\n",
      " |  __repr__(self, /)\n",
      " |      Return repr(self).\n",
      " |\n",
      " |  __reversed__(self, /)\n",
      " |      Return a reverse iterator over the list.\n",
      " |\n",
      " |  __rmul__(self, value, /)\n",
      " |      Return value*self.\n",
      " |\n",
      " |  __setitem__(self, key, value, /)\n",
      " |      Set self[key] to value.\n",
      " |\n",
      " |  __sizeof__(self, /)\n",
      " |      Return the size of the list in memory, in bytes.\n",
      " |\n",
      " |  append(self, object, /)\n",
      " |      Append object to the end of the list.\n",
      " |\n",
      " |  clear(self, /)\n",
      " |      Remove all items from list.\n",
      " |\n",
      " |  copy(self, /)\n",
      " |      Return a shallow copy of the list.\n",
      " |\n",
      " |  count(self, value, /)\n",
      " |      Return number of occurrences of value.\n",
      " |\n",
      " |  extend(self, iterable, /)\n",
      " |      Extend list by appending elements from the iterable.\n",
      " |\n",
      " |  index(self, value, start=0, stop=9223372036854775807, /)\n",
      " |      Return first index of value.\n",
      " |\n",
      " |      Raises ValueError if the value is not present.\n",
      " |\n",
      " |  insert(self, index, object, /)\n",
      " |      Insert object before index.\n",
      " |\n",
      " |  pop(self, index=-1, /)\n",
      " |      Remove and return item at index (default last).\n",
      " |\n",
      " |      Raises IndexError if list is empty or index is out of range.\n",
      " |\n",
      " |  remove(self, value, /)\n",
      " |      Remove first occurrence of value.\n",
      " |\n",
      " |      Raises ValueError if the value is not present.\n",
      " |\n",
      " |  reverse(self, /)\n",
      " |      Reverse *IN PLACE*.\n",
      " |\n",
      " |  sort(self, /, *, key=None, reverse=False)\n",
      " |      Sort the list in ascending order and return None.\n",
      " |\n",
      " |      The sort is in-place (i.e. the list itself is modified) and stable (i.e. the\n",
      " |      order of two equal elements is maintained).\n",
      " |\n",
      " |      If a key function is given, apply it once to each list item and sort them,\n",
      " |      ascending or descending, according to their function values.\n",
      " |\n",
      " |      The reverse flag can be set to sort in descending order.\n",
      " |\n",
      " |  ----------------------------------------------------------------------\n",
      " |  Class methods defined here:\n",
      " |\n",
      " |  __class_getitem__(...)\n",
      " |      See PEP 585\n",
      " |\n",
      " |  ----------------------------------------------------------------------\n",
      " |  Static methods defined here:\n",
      " |\n",
      " |  __new__(*args, **kwargs)\n",
      " |      Create and return a new object.  See help(type) for accurate signature.\n",
      " |\n",
      " |  ----------------------------------------------------------------------\n",
      " |  Data and other attributes defined here:\n",
      " |\n",
      " |  __hash__ = None\n",
      "\n"
     ]
    }
   ],
   "source": [
    "help(list)"
   ]
  },
  {
   "cell_type": "code",
   "execution_count": 194,
   "id": "01712034-e7c6-42db-acc1-ae9471ff715d",
   "metadata": {},
   "outputs": [
    {
     "data": {
      "text/plain": [
       "['Apple',\n",
       " 'Banana',\n",
       " 'Papaya',\n",
       " 'Plum',\n",
       " 'watermelon',\n",
       " 'watermelon',\n",
       " 'a',\n",
       " 'b',\n",
       " 'c',\n",
       " ['a', 'b', 'c'],\n",
       " ['a', 'b', 'c'],\n",
       " 'a',\n",
       " 'b',\n",
       " 'c',\n",
       " [123, 56, 899]]"
      ]
     },
     "execution_count": 194,
     "metadata": {},
     "output_type": "execute_result"
    }
   ],
   "source": [
    "List_fruits"
   ]
  },
  {
   "cell_type": "code",
   "execution_count": 196,
   "id": "79a3cdb6-ad4a-46c1-b175-d4e98847bc78",
   "metadata": {},
   "outputs": [],
   "source": [
    "#creating a copy of a list.\n",
    "List_copy=List_fruits.copy()"
   ]
  },
  {
   "cell_type": "code",
   "execution_count": 198,
   "id": "a4d2a8b0-cead-41c6-b271-180ec9878ec7",
   "metadata": {},
   "outputs": [
    {
     "data": {
      "text/plain": [
       "['Apple',\n",
       " 'Banana',\n",
       " 'Papaya',\n",
       " 'Plum',\n",
       " 'watermelon',\n",
       " 'watermelon',\n",
       " 'a',\n",
       " 'b',\n",
       " 'c',\n",
       " ['a', 'b', 'c'],\n",
       " ['a', 'b', 'c'],\n",
       " 'a',\n",
       " 'b',\n",
       " 'c',\n",
       " [123, 56, 899]]"
      ]
     },
     "execution_count": 198,
     "metadata": {},
     "output_type": "execute_result"
    }
   ],
   "source": [
    "List_copy"
   ]
  },
  {
   "cell_type": "code",
   "execution_count": 200,
   "id": "fe865884-8c92-4464-980f-4e6f95b7ba71",
   "metadata": {},
   "outputs": [],
   "source": [
    "#wiping out of entire object from the list.\n",
    "List_fruits.clear()"
   ]
  },
  {
   "cell_type": "code",
   "execution_count": 202,
   "id": "c257ac8d-4806-4908-8df3-8f22758cd0aa",
   "metadata": {},
   "outputs": [
    {
     "data": {
      "text/plain": [
       "[]"
      ]
     },
     "execution_count": 202,
     "metadata": {},
     "output_type": "execute_result"
    }
   ],
   "source": [
    "List_fruits"
   ]
  },
  {
   "cell_type": "code",
   "execution_count": 204,
   "id": "ce908ae2-93a4-42c3-a34d-b699cee8e68d",
   "metadata": {},
   "outputs": [
    {
     "data": {
      "text/plain": [
       "['Apple',\n",
       " 'Banana',\n",
       " 'Papaya',\n",
       " 'Plum',\n",
       " 'watermelon',\n",
       " 'watermelon',\n",
       " 'a',\n",
       " 'b',\n",
       " 'c',\n",
       " ['a', 'b', 'c'],\n",
       " ['a', 'b', 'c'],\n",
       " 'a',\n",
       " 'b',\n",
       " 'c',\n",
       " [123, 56, 899]]"
      ]
     },
     "execution_count": 204,
     "metadata": {},
     "output_type": "execute_result"
    }
   ],
   "source": [
    "List_copy"
   ]
  },
  {
   "cell_type": "code",
   "execution_count": 210,
   "id": "fc4c998a-8096-4be9-9a44-75d74a58565e",
   "metadata": {},
   "outputs": [],
   "source": [
    "#reverse the list:\n",
    "List_copy.reverse()"
   ]
  },
  {
   "cell_type": "code",
   "execution_count": 212,
   "id": "a9c437bf-cb5b-4590-b4f8-4233e1892ce1",
   "metadata": {},
   "outputs": [
    {
     "data": {
      "text/plain": [
       "[[123, 56, 899],\n",
       " 'c',\n",
       " 'b',\n",
       " 'a',\n",
       " ['a', 'b', 'c'],\n",
       " ['a', 'b', 'c'],\n",
       " 'c',\n",
       " 'b',\n",
       " 'a',\n",
       " 'watermelon',\n",
       " 'watermelon',\n",
       " 'Plum',\n",
       " 'Papaya',\n",
       " 'Banana',\n",
       " 'Apple']"
      ]
     },
     "execution_count": 212,
     "metadata": {},
     "output_type": "execute_result"
    }
   ],
   "source": [
    "List_copy"
   ]
  },
  {
   "cell_type": "code",
   "execution_count": 214,
   "id": "be9d8a30-a1d2-4c20-8531-38cebeb0392e",
   "metadata": {},
   "outputs": [],
   "source": [
    "#soritng the values:\n",
    "list_x=[1,2,3,5,6,7,8,22,11,15,67,89,99,100,10,12,12,13111,111111114,155555555]"
   ]
  },
  {
   "cell_type": "code",
   "execution_count": 226,
   "id": "7174c9ee-24ec-4568-ab09-bf033005021f",
   "metadata": {},
   "outputs": [],
   "source": [
    "list_x.sort()"
   ]
  },
  {
   "cell_type": "code",
   "execution_count": 222,
   "id": "0754df34-3ac0-4e05-a9bc-980f7633a764",
   "metadata": {},
   "outputs": [],
   "source": [
    "list_x.sort()"
   ]
  },
  {
   "cell_type": "code",
   "execution_count": 228,
   "id": "4d71a639-0033-43be-adf0-fc8ea88d4dec",
   "metadata": {},
   "outputs": [
    {
     "data": {
      "text/plain": [
       "[1, 2, 3, 5, 6, 7, 8, 9, 10, 11, 12, 12, 13111, 111111114, 155555555]"
      ]
     },
     "execution_count": 228,
     "metadata": {},
     "output_type": "execute_result"
    }
   ],
   "source": [
    "list_x"
   ]
  },
  {
   "cell_type": "code",
   "execution_count": 230,
   "id": "e14eda64-11ec-473c-8639-ce3792edf766",
   "metadata": {},
   "outputs": [],
   "source": [
    "list_x.sort()"
   ]
  },
  {
   "cell_type": "code",
   "execution_count": 232,
   "id": "2253e238-56a9-4beb-baff-5dfded942016",
   "metadata": {},
   "outputs": [
    {
     "data": {
      "text/plain": [
       "[1, 2, 3, 5, 6, 7, 8, 9, 10, 11, 12, 12, 13111, 111111114, 155555555]"
      ]
     },
     "execution_count": 232,
     "metadata": {},
     "output_type": "execute_result"
    }
   ],
   "source": [
    "list_x"
   ]
  },
  {
   "cell_type": "code",
   "execution_count": 234,
   "id": "04c0f769-a2cd-4c2c-af72-9980cfd48652",
   "metadata": {},
   "outputs": [],
   "source": [
    "list_x=[1,2,3,5,6,7,8,22,11,15,67,89,99,100,10,12,12,13111,111111114,155555555]"
   ]
  },
  {
   "cell_type": "code",
   "execution_count": 236,
   "id": "62cb07c3-d65b-48fd-9634-786bc4c03f97",
   "metadata": {},
   "outputs": [
    {
     "data": {
      "text/plain": [
       "[1,\n",
       " 2,\n",
       " 3,\n",
       " 5,\n",
       " 6,\n",
       " 7,\n",
       " 8,\n",
       " 22,\n",
       " 11,\n",
       " 15,\n",
       " 67,\n",
       " 89,\n",
       " 99,\n",
       " 100,\n",
       " 10,\n",
       " 12,\n",
       " 12,\n",
       " 13111,\n",
       " 111111114,\n",
       " 155555555]"
      ]
     },
     "execution_count": 236,
     "metadata": {},
     "output_type": "execute_result"
    }
   ],
   "source": [
    "list_x"
   ]
  },
  {
   "cell_type": "code",
   "execution_count": 238,
   "id": "381c4865-6d3b-4a13-afd1-040203cf34ca",
   "metadata": {},
   "outputs": [],
   "source": [
    "list_x.sort()"
   ]
  },
  {
   "cell_type": "code",
   "execution_count": 240,
   "id": "84e26f26-03b6-45d1-b7b7-736d7b2a3710",
   "metadata": {},
   "outputs": [
    {
     "data": {
      "text/plain": [
       "[1,\n",
       " 2,\n",
       " 3,\n",
       " 5,\n",
       " 6,\n",
       " 7,\n",
       " 8,\n",
       " 10,\n",
       " 11,\n",
       " 12,\n",
       " 12,\n",
       " 15,\n",
       " 22,\n",
       " 67,\n",
       " 89,\n",
       " 99,\n",
       " 100,\n",
       " 13111,\n",
       " 111111114,\n",
       " 155555555]"
      ]
     },
     "execution_count": 240,
     "metadata": {},
     "output_type": "execute_result"
    }
   ],
   "source": [
    "list_x"
   ]
  },
  {
   "cell_type": "code",
   "execution_count": 242,
   "id": "e4aebe97-1f8e-4df9-a129-7b11ff6883d6",
   "metadata": {},
   "outputs": [],
   "source": [
    "list_x.sort(reverse=True)"
   ]
  },
  {
   "cell_type": "code",
   "execution_count": 246,
   "id": "0a7d46dc-1395-4d47-ba91-76cb548425ca",
   "metadata": {},
   "outputs": [],
   "source": [
    "list_x.sort()"
   ]
  },
  {
   "cell_type": "code",
   "execution_count": 248,
   "id": "5412976b-c6c2-4501-83f9-0addebe583f1",
   "metadata": {},
   "outputs": [],
   "source": [
    "list_x.sort()"
   ]
  },
  {
   "cell_type": "code",
   "execution_count": 250,
   "id": "51690c6c-56ff-4028-8231-c76f4d2e1fd0",
   "metadata": {},
   "outputs": [
    {
     "data": {
      "text/plain": [
       "[1,\n",
       " 2,\n",
       " 3,\n",
       " 5,\n",
       " 6,\n",
       " 7,\n",
       " 8,\n",
       " 10,\n",
       " 11,\n",
       " 12,\n",
       " 12,\n",
       " 15,\n",
       " 22,\n",
       " 67,\n",
       " 89,\n",
       " 99,\n",
       " 100,\n",
       " 13111,\n",
       " 111111114,\n",
       " 155555555]"
      ]
     },
     "execution_count": 250,
     "metadata": {},
     "output_type": "execute_result"
    }
   ],
   "source": [
    "list_x"
   ]
  },
  {
   "cell_type": "code",
   "execution_count": 252,
   "id": "cf012b5b-7595-4db1-9568-6c7ad3bf6450",
   "metadata": {},
   "outputs": [],
   "source": [
    "list_x.sort(reverse=True)"
   ]
  },
  {
   "cell_type": "code",
   "execution_count": 254,
   "id": "40900ab1-b2a9-4ac4-a01b-5a0ff3b92aee",
   "metadata": {},
   "outputs": [
    {
     "data": {
      "text/plain": [
       "[155555555,\n",
       " 111111114,\n",
       " 13111,\n",
       " 100,\n",
       " 99,\n",
       " 89,\n",
       " 67,\n",
       " 22,\n",
       " 15,\n",
       " 12,\n",
       " 12,\n",
       " 11,\n",
       " 10,\n",
       " 8,\n",
       " 7,\n",
       " 6,\n",
       " 5,\n",
       " 3,\n",
       " 2,\n",
       " 1]"
      ]
     },
     "execution_count": 254,
     "metadata": {},
     "output_type": "execute_result"
    }
   ],
   "source": [
    "list_x"
   ]
  },
  {
   "cell_type": "markdown",
   "id": "63773a40-dfa0-4ae1-a977-f319c3c602f8",
   "metadata": {},
   "source": [
    "#alphabets sorting.\n",
    "list_alpah=[\"Gun\",\"Hut\",\"Pen\",\"Two\",\"Ant\",\"Bat\"]"
   ]
  },
  {
   "cell_type": "code",
   "execution_count": 258,
   "id": "d912d0f3-2937-4174-8b1e-6933aaa974f8",
   "metadata": {},
   "outputs": [
    {
     "data": {
      "text/plain": [
       "['Gun', 'Hut', 'Pen', 'Two', 'Ant', 'Bat']"
      ]
     },
     "execution_count": 258,
     "metadata": {},
     "output_type": "execute_result"
    }
   ],
   "source": [
    "list_alpah"
   ]
  },
  {
   "cell_type": "code",
   "execution_count": 260,
   "id": "df9f055d-6d08-4e70-94e8-3c2e4452c2a4",
   "metadata": {},
   "outputs": [],
   "source": [
    "list_alpah.sort(reverse=True)"
   ]
  },
  {
   "cell_type": "code",
   "execution_count": 262,
   "id": "ad7733b9-78e1-4a1d-8e3a-341573dd58a2",
   "metadata": {},
   "outputs": [
    {
     "data": {
      "text/plain": [
       "['Two', 'Pen', 'Hut', 'Gun', 'Bat', 'Ant']"
      ]
     },
     "execution_count": 262,
     "metadata": {},
     "output_type": "execute_result"
    }
   ],
   "source": [
    "list_alpah"
   ]
  },
  {
   "cell_type": "code",
   "execution_count": 266,
   "id": "46962079-3926-4eba-8587-936e8a5f6ed7",
   "metadata": {},
   "outputs": [],
   "source": [
    "list_alpah.sort(reverse=False)"
   ]
  },
  {
   "cell_type": "code",
   "execution_count": 268,
   "id": "f0eaaec3-cfde-4801-97f2-2e99aa102158",
   "metadata": {},
   "outputs": [
    {
     "data": {
      "text/plain": [
       "['Ant', 'Bat', 'Gun', 'Hut', 'Pen', 'Two']"
      ]
     },
     "execution_count": 268,
     "metadata": {},
     "output_type": "execute_result"
    }
   ],
   "source": [
    "list_alpah"
   ]
  },
  {
   "cell_type": "markdown",
   "id": "80301a0e-758a-47be-8b1c-9c73c99315a0",
   "metadata": {},
   "source": [
    "# Mutuable:"
   ]
  },
  {
   "cell_type": "markdown",
   "id": "d2b069a2-674c-4c50-b415-651c6fd2f220",
   "metadata": {},
   "source": [
    "#editable\n",
    "yes,lists are mutable.\n"
   ]
  },
  {
   "cell_type": "markdown",
   "id": "0a66d3ce-a1e9-4b70-96e6-440d10b45015",
   "metadata": {},
   "source": [
    "### Tuple"
   ]
  },
  {
   "cell_type": "code",
   "execution_count": 9,
   "id": "3b038930-334a-493f-a1ff-1973e65cbaf1",
   "metadata": {},
   "outputs": [
    {
     "data": {
      "text/plain": [
       "tuple"
      ]
     },
     "execution_count": 9,
     "metadata": {},
     "output_type": "execute_result"
    }
   ],
   "source": [
    "#an empty tuple:\n",
    "tuple_1=()\n",
    "type (tuple_1)"
   ]
  },
  {
   "cell_type": "code",
   "execution_count": 17,
   "id": "255f6555-1266-4afc-9dfa-84ae8be03366",
   "metadata": {},
   "outputs": [],
   "source": [
    "#tuple contaning one element:\n",
    "tuple_2=(\"apple\",)"
   ]
  },
  {
   "cell_type": "code",
   "execution_count": 19,
   "id": "3ec066d3-5b14-4bb6-b7d3-554732973556",
   "metadata": {},
   "outputs": [
    {
     "name": "stdout",
     "output_type": "stream",
     "text": [
      "('apple',)\n"
     ]
    },
    {
     "data": {
      "text/plain": [
       "tuple"
      ]
     },
     "execution_count": 19,
     "metadata": {},
     "output_type": "execute_result"
    }
   ],
   "source": [
    "print(tuple_2)\n",
    "type(tuple_2)"
   ]
  },
  {
   "cell_type": "code",
   "execution_count": 21,
   "id": "582c60aa-3e9f-457c-ae85-b763732972c2",
   "metadata": {},
   "outputs": [],
   "source": [
    "tuple_6=(\"spcho\",\"element\",67,89,79,)"
   ]
  },
  {
   "cell_type": "code",
   "execution_count": 23,
   "id": "0d232daa-b07e-46da-ae86-9bf637889100",
   "metadata": {},
   "outputs": [
    {
     "name": "stdout",
     "output_type": "stream",
     "text": [
      "('spcho', 'element', 67, 89, 79)\n"
     ]
    }
   ],
   "source": [
    "print(tuple_6)"
   ]
  },
  {
   "cell_type": "code",
   "execution_count": 25,
   "id": "ff0a84bd-e29a-4ec6-9a70-ce668b8a164d",
   "metadata": {},
   "outputs": [],
   "source": [
    "#we can declare all the data types inside the tuple similar to that as of lists.\n",
    "#tuple follows indexing.\n",
    "#and follows silicing.\n",
    "\n",
    "tuple_check=(90,78.7,'fanjeof',True,None,)"
   ]
  },
  {
   "cell_type": "markdown",
   "id": "6564b0c3-3273-42bf-98b8-e047ff9839e2",
   "metadata": {},
   "source": [
    "# slicing:"
   ]
  },
  {
   "cell_type": "code",
   "execution_count": 28,
   "id": "4cb58875-9728-4cf4-9f8f-e9f142fed7fc",
   "metadata": {},
   "outputs": [],
   "source": [
    "tuple_4=(12,56,67,89,'abv','klme',)"
   ]
  },
  {
   "cell_type": "code",
   "execution_count": 30,
   "id": "ffec7af5-c634-4f62-9cea-5b7af29027ad",
   "metadata": {},
   "outputs": [
    {
     "data": {
      "text/plain": [
       "(56, 67, 89, 'abv')"
      ]
     },
     "execution_count": 30,
     "metadata": {},
     "output_type": "execute_result"
    }
   ],
   "source": [
    "tuple_4[1:5]"
   ]
  },
  {
   "cell_type": "code",
   "execution_count": 32,
   "id": "3d4b86d5-acc1-4837-9d5e-ad5f073950d2",
   "metadata": {},
   "outputs": [],
   "source": [
    "list_4=[45,67,89,'pods','screeing']"
   ]
  },
  {
   "cell_type": "code",
   "execution_count": 34,
   "id": "82595674-3c11-41ad-be2d-b14d56053df1",
   "metadata": {},
   "outputs": [
    {
     "data": {
      "text/plain": [
       "[45, 67, 89, 'pods']"
      ]
     },
     "execution_count": 34,
     "metadata": {},
     "output_type": "execute_result"
    }
   ],
   "source": [
    "list_4[0:4]"
   ]
  },
  {
   "cell_type": "code",
   "execution_count": 38,
   "id": "59892237-7f5f-4d10-9645-a448621c938c",
   "metadata": {},
   "outputs": [],
   "source": [
    "tuple_8=(20,'abc',40.60,True)"
   ]
  },
  {
   "cell_type": "code",
   "execution_count": 50,
   "id": "a4167140-f68e-45b2-8e62-c61818907a45",
   "metadata": {},
   "outputs": [
    {
     "data": {
      "text/plain": [
       "(40.6, True)"
      ]
     },
     "execution_count": 50,
     "metadata": {},
     "output_type": "execute_result"
    }
   ],
   "source": [
    "tuple_8[2:4]"
   ]
  },
  {
   "cell_type": "code",
   "execution_count": 52,
   "id": "baa5dcdf-eb69-48f3-b0ad-52c559b364eb",
   "metadata": {},
   "outputs": [
    {
     "data": {
      "text/plain": [
       "(40.6, True)"
      ]
     },
     "execution_count": 52,
     "metadata": {},
     "output_type": "execute_result"
    }
   ],
   "source": [
    "tuple_8[2:]"
   ]
  },
  {
   "cell_type": "code",
   "execution_count": 58,
   "id": "26c1b95b-1ea3-4fbd-9558-b16dd850837f",
   "metadata": {},
   "outputs": [
    {
     "data": {
      "text/plain": [
       "(20, 'abc', 40.6, True)"
      ]
     },
     "execution_count": 58,
     "metadata": {},
     "output_type": "execute_result"
    }
   ],
   "source": [
    "tuple_8[:4]"
   ]
  },
  {
   "cell_type": "code",
   "execution_count": 60,
   "id": "bdd555d9-596e-4e8b-8539-6c318b0f3de5",
   "metadata": {},
   "outputs": [
    {
     "data": {
      "text/plain": [
       "(20, 'abc', 40.6, True)"
      ]
     },
     "execution_count": 60,
     "metadata": {},
     "output_type": "execute_result"
    }
   ],
   "source": [
    "tuple_8[0:4]"
   ]
  },
  {
   "cell_type": "code",
   "execution_count": 62,
   "id": "b58a5678-d04f-4077-b328-6d13dfb15e88",
   "metadata": {},
   "outputs": [
    {
     "data": {
      "text/plain": [
       "(20, 'abc', 40.6, True)"
      ]
     },
     "execution_count": 62,
     "metadata": {},
     "output_type": "execute_result"
    }
   ],
   "source": [
    "tuple_8[:]"
   ]
  },
  {
   "cell_type": "markdown",
   "id": "6c57855b-7c11-47c2-9812-cab094a34708",
   "metadata": {},
   "source": [
    "# jumps"
   ]
  },
  {
   "cell_type": "code",
   "execution_count": 2,
   "id": "b320ad94-c32c-493f-b791-4ba7399630a1",
   "metadata": {},
   "outputs": [],
   "source": [
    " list_jump=[34,56,'prudvi',89,'eggs','protien',47,'food']"
   ]
  },
  {
   "cell_type": "code",
   "execution_count": 4,
   "id": "c3a4a482-05c3-46ea-814c-f02eeb792320",
   "metadata": {},
   "outputs": [
    {
     "data": {
      "text/plain": [
       "[34, 'prudvi', 'eggs']"
      ]
     },
     "execution_count": 4,
     "metadata": {},
     "output_type": "execute_result"
    }
   ],
   "source": [
    "list_jump[:5:2]"
   ]
  },
  {
   "cell_type": "code",
   "execution_count": 8,
   "id": "671ab446-582f-40dd-80e5-2ee8530a7697",
   "metadata": {},
   "outputs": [],
   "source": [
    "tuple_789=('hyper','kite','lion',89,90,12,34,56,89,56,45,34,23,44,'zoom','whatsapp','insta','facebook',)"
   ]
  },
  {
   "cell_type": "code",
   "execution_count": 22,
   "id": "acfc8ee6-6604-4810-b4ae-d36d570645b2",
   "metadata": {},
   "outputs": [
    {
     "data": {
      "text/plain": [
       "('hyper', 90, 89, 23)"
      ]
     },
     "execution_count": 22,
     "metadata": {},
     "output_type": "execute_result"
    }
   ],
   "source": [
    "tuple_789[:15:4]"
   ]
  },
  {
   "cell_type": "code",
   "execution_count": 24,
   "id": "7947c6a2-d2ab-4397-9f70-6fa74317e184",
   "metadata": {},
   "outputs": [],
   "source": [
    "tuple_6=(20,30,40,80.1,26,80,-21,64)"
   ]
  },
  {
   "cell_type": "code",
   "execution_count": 74,
   "id": "c6d17912-2d71-4246-9d2e-77c7daa2265e",
   "metadata": {},
   "outputs": [
    {
     "data": {
      "text/plain": [
       "(20, 80.1, -21)"
      ]
     },
     "execution_count": 74,
     "metadata": {},
     "output_type": "execute_result"
    }
   ],
   "source": [
    "tuple_6[0:-1:3]"
   ]
  },
  {
   "cell_type": "code",
   "execution_count": 36,
   "id": "4075f0e2-6e2c-4920-8224-d23ec1bfbbff",
   "metadata": {},
   "outputs": [
    {
     "data": {
      "text/plain": [
       "(89, 'zoom')"
      ]
     },
     "execution_count": 36,
     "metadata": {},
     "output_type": "execute_result"
    }
   ],
   "source": [
    "tuple_789[3::11]"
   ]
  },
  {
   "cell_type": "code",
   "execution_count": 42,
   "id": "834f5c1b-50a0-4fb2-a460-00d0f852d0b9",
   "metadata": {},
   "outputs": [
    {
     "data": {
      "text/plain": [
       "[34, 'protien']"
      ]
     },
     "execution_count": 42,
     "metadata": {},
     "output_type": "execute_result"
    }
   ],
   "source": [
    "list_jump[0:6:5]"
   ]
  },
  {
   "cell_type": "markdown",
   "id": "def9ed0e-919a-4c6d-b024-f712f2229907",
   "metadata": {},
   "source": [
    "# BACKWARD SLICING:"
   ]
  },
  {
   "cell_type": "code",
   "execution_count": 89,
   "id": "9de03191-d875-41e2-b5ef-8a39df9b682e",
   "metadata": {},
   "outputs": [
    {
     "data": {
      "text/plain": [
       "('facebook', 'insta', 'whatsapp', 'zoom', 44, 23, 34, 45, 56, 89, 56)"
      ]
     },
     "execution_count": 89,
     "metadata": {},
     "output_type": "execute_result"
    }
   ],
   "source": [
    "tuple_789[-1:-12:-1]"
   ]
  },
  {
   "cell_type": "code",
   "execution_count": 93,
   "id": "687d1727-d810-4023-a088-78e9ac491b6e",
   "metadata": {},
   "outputs": [
    {
     "data": {
      "text/plain": [
       "('facebook', 'whatsapp')"
      ]
     },
     "execution_count": 93,
     "metadata": {},
     "output_type": "execute_result"
    }
   ],
   "source": [
    "tuple_789[:-4:-2]"
   ]
  },
  {
   "cell_type": "markdown",
   "id": "dd6a431b-313f-4884-8aff-a3a29e362c37",
   "metadata": {},
   "source": [
    "# revesring tuple"
   ]
  },
  {
   "cell_type": "code",
   "execution_count": 96,
   "id": "3e420da1-2591-47e7-9681-19e4b1018da3",
   "metadata": {},
   "outputs": [
    {
     "data": {
      "text/plain": [
       "('facebook',\n",
       " 'insta',\n",
       " 'whatsapp',\n",
       " 'zoom',\n",
       " 44,\n",
       " 23,\n",
       " 34,\n",
       " 45,\n",
       " 56,\n",
       " 89,\n",
       " 56,\n",
       " 34,\n",
       " 12,\n",
       " 90,\n",
       " 89,\n",
       " 'lion',\n",
       " 'kite',\n",
       " 'hyper')"
      ]
     },
     "execution_count": 96,
     "metadata": {},
     "output_type": "execute_result"
    }
   ],
   "source": [
    "tuple_789[::-1]"
   ]
  },
  {
   "cell_type": "code",
   "execution_count": 98,
   "id": "5a2f8164-c046-45ab-b994-919e7fc7e36a",
   "metadata": {},
   "outputs": [
    {
     "data": {
      "text/plain": [
       "('hyper',\n",
       " 'kite',\n",
       " 'lion',\n",
       " 89,\n",
       " 90,\n",
       " 12,\n",
       " 34,\n",
       " 56,\n",
       " 89,\n",
       " 56,\n",
       " 45,\n",
       " 34,\n",
       " 23,\n",
       " 44,\n",
       " 'zoom',\n",
       " 'whatsapp',\n",
       " 'insta',\n",
       " 'facebook')"
      ]
     },
     "execution_count": 98,
     "metadata": {},
     "output_type": "execute_result"
    }
   ],
   "source": [
    "tuple_789"
   ]
  },
  {
   "cell_type": "code",
   "execution_count": 100,
   "id": "e151d1ff-4666-4d38-af39-73e20638dce0",
   "metadata": {},
   "outputs": [
    {
     "data": {
      "text/plain": [
       "('facebook', 'zoom', 34, 89, 12, 'lion')"
      ]
     },
     "execution_count": 100,
     "metadata": {},
     "output_type": "execute_result"
    }
   ],
   "source": [
    "tuple_789[::-3]"
   ]
  },
  {
   "cell_type": "code",
   "execution_count": 102,
   "id": "e4928599-a2f7-4909-ae21-862ec5d45a68",
   "metadata": {},
   "outputs": [],
   "source": [
    "tuple_=(12,13,14,151,16,17,19,10)"
   ]
  },
  {
   "cell_type": "code",
   "execution_count": 116,
   "id": "3b671fe9-eb10-404a-8d95-8fb45f4f34c5",
   "metadata": {},
   "outputs": [
    {
     "data": {
      "text/plain": [
       "(10, 19)"
      ]
     },
     "execution_count": 116,
     "metadata": {},
     "output_type": "execute_result"
    }
   ],
   "source": [
    "tuple_[-1:-3:-1]"
   ]
  },
  {
   "cell_type": "code",
   "execution_count": 170,
   "id": "e08438ca-c22b-4256-8a36-8986bf4e8523",
   "metadata": {},
   "outputs": [
    {
     "data": {
      "text/plain": [
       "(14, 19)"
      ]
     },
     "execution_count": 170,
     "metadata": {},
     "output_type": "execute_result"
    }
   ],
   "source": [
    "tuple_[2:-1:4]"
   ]
  },
  {
   "cell_type": "code",
   "execution_count": 178,
   "id": "6eb3abc1-c60a-4418-9996-e294e19b2ae6",
   "metadata": {},
   "outputs": [
    {
     "data": {
      "text/plain": [
       "(13, 16)"
      ]
     },
     "execution_count": 178,
     "metadata": {},
     "output_type": "execute_result"
    }
   ],
   "source": [
    "tuple_[1:5:3]"
   ]
  },
  {
   "cell_type": "code",
   "execution_count": 7,
   "id": "07a15239-2e8f-43fe-a246-d9f537749c14",
   "metadata": {},
   "outputs": [],
   "source": [
    "list_9=[10,'apple',46,78,35,'banana','guava','badminton',90,49,'prudvi']"
   ]
  },
  {
   "cell_type": "code",
   "execution_count": 9,
   "id": "8f7b6309-01c4-4baf-8f55-a5b576236712",
   "metadata": {},
   "outputs": [
    {
     "data": {
      "text/plain": [
       "[49, 'badminton', 'banana', 78]"
      ]
     },
     "execution_count": 9,
     "metadata": {},
     "output_type": "execute_result"
    }
   ],
   "source": [
    "list_9[-2:-10:-2]"
   ]
  },
  {
   "cell_type": "code",
   "execution_count": 11,
   "id": "f605e6b6-fdcf-4246-b8d8-1bb1c5531fd3",
   "metadata": {},
   "outputs": [],
   "source": [
    "tuple_78=(88,89,2334,0084.23,'fired',True,)"
   ]
  },
  {
   "cell_type": "code",
   "execution_count": 13,
   "id": "03f8cb4a-350f-4d89-a72e-5d3c5b963daf",
   "metadata": {},
   "outputs": [
    {
     "data": {
      "text/plain": [
       "(2334, 84.23, 'fired', True)"
      ]
     },
     "execution_count": 13,
     "metadata": {},
     "output_type": "execute_result"
    }
   ],
   "source": [
    "tuple_78[2:6:1]"
   ]
  },
  {
   "cell_type": "code",
   "execution_count": 15,
   "id": "a409df24-81a7-4866-844d-6b14341a5fcf",
   "metadata": {},
   "outputs": [
    {
     "data": {
      "text/plain": [
       "(True, 'fired', 84.23)"
      ]
     },
     "execution_count": 15,
     "metadata": {},
     "output_type": "execute_result"
    }
   ],
   "source": [
    "tuple_78[-1:-4:-1]"
   ]
  },
  {
   "cell_type": "code",
   "execution_count": null,
   "id": "e1ac4919-f6cd-4ba8-b16b-ffeebb4295d2",
   "metadata": {},
   "outputs": [],
   "source": []
  },
  {
   "cell_type": "code",
   "execution_count": null,
   "id": "d890c9b7-0846-4d69-98fb-75da1f33c7a5",
   "metadata": {},
   "outputs": [],
   "source": []
  },
  {
   "cell_type": "markdown",
   "id": "521b315c-d52f-4a02-ae39-7285593658c5",
   "metadata": {},
   "source": [
    "# sets:"
   ]
  },
  {
   "cell_type": "code",
   "execution_count": 5,
   "id": "58696364-a090-421a-ada4-6d476afd8ed8",
   "metadata": {},
   "outputs": [
    {
     "data": {
      "text/plain": [
       "dict"
      ]
     },
     "execution_count": 5,
     "metadata": {},
     "output_type": "execute_result"
    }
   ],
   "source": [
    "set_1={} #whenever we try to declare empty set with open and close curly brackets it shows dict as the type.\n",
    "type(set_1)"
   ]
  },
  {
   "cell_type": "code",
   "execution_count": 21,
   "id": "1ab3daa5-e4e4-4b24-b090-ba83633cda61",
   "metadata": {},
   "outputs": [
    {
     "data": {
      "text/plain": [
       "set"
      ]
     },
     "execution_count": 21,
     "metadata": {},
     "output_type": "execute_result"
    }
   ],
   "source": [
    "set_3=set() # observe the difference between both above code and this one has little bit differences so above function called as dic and this one is called as set.\n",
    "type(set_3)"
   ]
  },
  {
   "cell_type": "code",
   "execution_count": 17,
   "id": "144b479f-d6ed-4fcc-9468-cf5e577389ce",
   "metadata": {},
   "outputs": [],
   "source": [
    "set_2={'spider','hulk','captain','superheros'}"
   ]
  },
  {
   "cell_type": "code",
   "execution_count": 19,
   "id": "a3794b42-9e43-411e-92a5-2d107cb93e43",
   "metadata": {},
   "outputs": [
    {
     "data": {
      "text/plain": [
       "set"
      ]
     },
     "execution_count": 19,
     "metadata": {},
     "output_type": "execute_result"
    }
   ],
   "source": [
    "type(set_2)"
   ]
  },
  {
   "cell_type": "code",
   "execution_count": 39,
   "id": "81f2813e-b22c-4911-b8b8-d4e7e0f08cad",
   "metadata": {},
   "outputs": [],
   "source": [
    "set_elements={10,30,30,30,45,98,'sky','ice','chocolate'} #it will print only unique elements,and in random order/ unorder\n",
    "# unindexed, slicing also"
   ]
  },
  {
   "cell_type": "code",
   "execution_count": 41,
   "id": "cfcf480b-7ee0-44eb-a84b-2eb6149c79f0",
   "metadata": {},
   "outputs": [
    {
     "name": "stdout",
     "output_type": "stream",
     "text": [
      "{'ice', 98, 30, 'sky', 10, 45, 'chocolate'}\n"
     ]
    },
    {
     "data": {
      "text/plain": [
       "set"
      ]
     },
     "execution_count": 41,
     "metadata": {},
     "output_type": "execute_result"
    }
   ],
   "source": [
    "print(set_elements)\n",
    "type(set_elements)"
   ]
  },
  {
   "cell_type": "code",
   "execution_count": 43,
   "id": "0013c90b-6d55-4c8a-bd90-434f1da2d1e4",
   "metadata": {},
   "outputs": [],
   "source": [
    "tuple_22=(39,89,'private','school',['graden','flowers','time'])"
   ]
  },
  {
   "cell_type": "code",
   "execution_count": 11,
   "id": "d4c25d52-ffc5-4f2a-9949-b3c3c121c42e",
   "metadata": {},
   "outputs": [],
   "source": [
    "set_4={90,79,(90,'dfdnofd',frozenset(['py','hy','og',]),47),'names','rolls','icecream'}"
   ]
  },
  {
   "cell_type": "code",
   "execution_count": 13,
   "id": "e4a59e4e-8093-4058-ac8a-4c23a8bba5a3",
   "metadata": {},
   "outputs": [
    {
     "name": "stdout",
     "output_type": "stream",
     "text": [
      "{'icecream', (90, 'dfdnofd', frozenset({'hy', 'og', 'py'}), 47), 79, 'names', 90, 'rolls'}\n"
     ]
    }
   ],
   "source": [
    "print(set_4)"
   ]
  },
  {
   "cell_type": "code",
   "execution_count": 15,
   "id": "b0140ef0-ea6d-40c3-8512-34ed1e7e7ebd",
   "metadata": {},
   "outputs": [],
   "source": [
    "my_set = {90, 79, (90, 'dfdnofd', frozenset(['py', 'hy', 'og']), 47), 'names', 'rolls', 'icecream'}\n"
   ]
  },
  {
   "cell_type": "code",
   "execution_count": 17,
   "id": "aa3af4dc-6577-4c2b-b2c0-283241a194db",
   "metadata": {},
   "outputs": [
    {
     "name": "stdout",
     "output_type": "stream",
     "text": [
      "{'icecream', (90, 'dfdnofd', frozenset({'hy', 'og', 'py'}), 47), 79, 'names', 90, 'rolls'}\n"
     ]
    }
   ],
   "source": [
    "print(my_set)"
   ]
  },
  {
   "cell_type": "code",
   "execution_count": 77,
   "id": "c273bbf6-a6af-4fe6-825f-c7e6a4d13c74",
   "metadata": {},
   "outputs": [
    {
     "name": "stdout",
     "output_type": "stream",
     "text": [
      "Help on class set in module builtins:\n",
      "\n",
      "class set(object)\n",
      " |  set() -> new empty set object\n",
      " |  set(iterable) -> new set object\n",
      " |\n",
      " |  Build an unordered collection of unique elements.\n",
      " |\n",
      " |  Methods defined here:\n",
      " |\n",
      " |  __and__(self, value, /)\n",
      " |      Return self&value.\n",
      " |\n",
      " |  __contains__(...)\n",
      " |      x.__contains__(y) <==> y in x.\n",
      " |\n",
      " |  __eq__(self, value, /)\n",
      " |      Return self==value.\n",
      " |\n",
      " |  __ge__(self, value, /)\n",
      " |      Return self>=value.\n",
      " |\n",
      " |  __getattribute__(self, name, /)\n",
      " |      Return getattr(self, name).\n",
      " |\n",
      " |  __gt__(self, value, /)\n",
      " |      Return self>value.\n",
      " |\n",
      " |  __iand__(self, value, /)\n",
      " |      Return self&=value.\n",
      " |\n",
      " |  __init__(self, /, *args, **kwargs)\n",
      " |      Initialize self.  See help(type(self)) for accurate signature.\n",
      " |\n",
      " |  __ior__(self, value, /)\n",
      " |      Return self|=value.\n",
      " |\n",
      " |  __isub__(self, value, /)\n",
      " |      Return self-=value.\n",
      " |\n",
      " |  __iter__(self, /)\n",
      " |      Implement iter(self).\n",
      " |\n",
      " |  __ixor__(self, value, /)\n",
      " |      Return self^=value.\n",
      " |\n",
      " |  __le__(self, value, /)\n",
      " |      Return self<=value.\n",
      " |\n",
      " |  __len__(self, /)\n",
      " |      Return len(self).\n",
      " |\n",
      " |  __lt__(self, value, /)\n",
      " |      Return self<value.\n",
      " |\n",
      " |  __ne__(self, value, /)\n",
      " |      Return self!=value.\n",
      " |\n",
      " |  __or__(self, value, /)\n",
      " |      Return self|value.\n",
      " |\n",
      " |  __rand__(self, value, /)\n",
      " |      Return value&self.\n",
      " |\n",
      " |  __reduce__(...)\n",
      " |      Return state information for pickling.\n",
      " |\n",
      " |  __repr__(self, /)\n",
      " |      Return repr(self).\n",
      " |\n",
      " |  __ror__(self, value, /)\n",
      " |      Return value|self.\n",
      " |\n",
      " |  __rsub__(self, value, /)\n",
      " |      Return value-self.\n",
      " |\n",
      " |  __rxor__(self, value, /)\n",
      " |      Return value^self.\n",
      " |\n",
      " |  __sizeof__(...)\n",
      " |      S.__sizeof__() -> size of S in memory, in bytes\n",
      " |\n",
      " |  __sub__(self, value, /)\n",
      " |      Return self-value.\n",
      " |\n",
      " |  __xor__(self, value, /)\n",
      " |      Return self^value.\n",
      " |\n",
      " |  add(...)\n",
      " |      Add an element to a set.\n",
      " |\n",
      " |      This has no effect if the element is already present.\n",
      " |\n",
      " |  clear(...)\n",
      " |      Remove all elements from this set.\n",
      " |\n",
      " |  copy(...)\n",
      " |      Return a shallow copy of a set.\n",
      " |\n",
      " |  difference(...)\n",
      " |      Return the difference of two or more sets as a new set.\n",
      " |\n",
      " |      (i.e. all elements that are in this set but not the others.)\n",
      " |\n",
      " |  difference_update(...)\n",
      " |      Remove all elements of another set from this set.\n",
      " |\n",
      " |  discard(...)\n",
      " |      Remove an element from a set if it is a member.\n",
      " |\n",
      " |      Unlike set.remove(), the discard() method does not raise\n",
      " |      an exception when an element is missing from the set.\n",
      " |\n",
      " |  intersection(...)\n",
      " |      Return the intersection of two sets as a new set.\n",
      " |\n",
      " |      (i.e. all elements that are in both sets.)\n",
      " |\n",
      " |  intersection_update(...)\n",
      " |      Update a set with the intersection of itself and another.\n",
      " |\n",
      " |  isdisjoint(...)\n",
      " |      Return True if two sets have a null intersection.\n",
      " |\n",
      " |  issubset(self, other, /)\n",
      " |      Test whether every element in the set is in other.\n",
      " |\n",
      " |  issuperset(self, other, /)\n",
      " |      Test whether every element in other is in the set.\n",
      " |\n",
      " |  pop(...)\n",
      " |      Remove and return an arbitrary set element.\n",
      " |      Raises KeyError if the set is empty.\n",
      " |\n",
      " |  remove(...)\n",
      " |      Remove an element from a set; it must be a member.\n",
      " |\n",
      " |      If the element is not a member, raise a KeyError.\n",
      " |\n",
      " |  symmetric_difference(...)\n",
      " |      Return the symmetric difference of two sets as a new set.\n",
      " |\n",
      " |      (i.e. all elements that are in exactly one of the sets.)\n",
      " |\n",
      " |  symmetric_difference_update(...)\n",
      " |      Update a set with the symmetric difference of itself and another.\n",
      " |\n",
      " |  union(...)\n",
      " |      Return the union of sets as a new set.\n",
      " |\n",
      " |      (i.e. all elements that are in either set.)\n",
      " |\n",
      " |  update(...)\n",
      " |      Update a set with the union of itself and others.\n",
      " |\n",
      " |  ----------------------------------------------------------------------\n",
      " |  Class methods defined here:\n",
      " |\n",
      " |  __class_getitem__(...)\n",
      " |      See PEP 585\n",
      " |\n",
      " |  ----------------------------------------------------------------------\n",
      " |  Static methods defined here:\n",
      " |\n",
      " |  __new__(*args, **kwargs)\n",
      " |      Create and return a new object.  See help(type) for accurate signature.\n",
      " |\n",
      " |  ----------------------------------------------------------------------\n",
      " |  Data and other attributes defined here:\n",
      " |\n",
      " |  __hash__ = None\n",
      "\n"
     ]
    }
   ],
   "source": [
    "help(set)"
   ]
  },
  {
   "cell_type": "code",
   "execution_count": 21,
   "id": "11461a86-ff63-46da-99d9-5182f056e40b",
   "metadata": {},
   "outputs": [
    {
     "name": "stdout",
     "output_type": "stream",
     "text": [
      "{'icecream', (90, 'dfdnofd', frozenset({'hy', 'og', 'py'}), 47), 79, 'names', 90, 'rolls'}\n"
     ]
    }
   ],
   "source": [
    "print(my_set)"
   ]
  },
  {
   "cell_type": "code",
   "execution_count": 19,
   "id": "941d3b8d-3293-4f94-b167-945c18dcd517",
   "metadata": {},
   "outputs": [
    {
     "name": "stdout",
     "output_type": "stream",
     "text": [
      "{'icecream', (90, 'dfdnofd', frozenset({'hy', 'og', 'py'}), 47), 79, 'names', 90, 'rolls'}\n"
     ]
    }
   ],
   "source": [
    "print(set_4)"
   ]
  },
  {
   "cell_type": "code",
   "execution_count": 23,
   "id": "71039725-7aba-479f-83ad-8c8bf59a1d2e",
   "metadata": {},
   "outputs": [],
   "source": [
    "set_4.add(\"new\")"
   ]
  },
  {
   "cell_type": "code",
   "execution_count": 25,
   "id": "df0910a5-7c58-44a0-88b5-faa74ca2005f",
   "metadata": {},
   "outputs": [
    {
     "name": "stdout",
     "output_type": "stream",
     "text": [
      "{'icecream', (90, 'dfdnofd', frozenset({'hy', 'og', 'py'}), 47), 79, 'new', 'names', 90, 'rolls'}\n"
     ]
    }
   ],
   "source": [
    "print(set_4)"
   ]
  },
  {
   "cell_type": "code",
   "execution_count": 31,
   "id": "8f325de4-775e-47bf-a01b-b59f5a26a4ac",
   "metadata": {},
   "outputs": [],
   "source": [
    "#adding an single element.\n",
    "set_4.add(91)"
   ]
  },
  {
   "cell_type": "code",
   "execution_count": 33,
   "id": "8500d762-b9c2-41d0-976e-ddf5c1990d9c",
   "metadata": {},
   "outputs": [
    {
     "name": "stdout",
     "output_type": "stream",
     "text": [
      "{'icecream', (90, 'dfdnofd', frozenset({'hy', 'og', 'py'}), 47), 79, 'new', 'names', 90, 91, 'rolls'}\n"
     ]
    }
   ],
   "source": [
    "print(set_4)"
   ]
  },
  {
   "cell_type": "code",
   "execution_count": 35,
   "id": "fa03d7ba-dbb4-4c9a-b135-3c7b73b47e9a",
   "metadata": {},
   "outputs": [],
   "source": [
    "#deleting an element from the set:\n",
    "set_4.discard(91)"
   ]
  },
  {
   "cell_type": "code",
   "execution_count": 37,
   "id": "876318ca-e0ca-49ee-8f0e-21f6f0c0f718",
   "metadata": {},
   "outputs": [],
   "source": [
    "#merging two sets:\n",
    "set_6={10,30,450,78,'basket ball','light'}"
   ]
  },
  {
   "cell_type": "code",
   "execution_count": 39,
   "id": "8d93fbcb-1732-49e1-99c5-e295e05b3501",
   "metadata": {},
   "outputs": [
    {
     "name": "stdout",
     "output_type": "stream",
     "text": [
      "{450, 'light', 30, 10, 'basket ball', 78}\n"
     ]
    }
   ],
   "source": [
    "print(set_6)"
   ]
  },
  {
   "cell_type": "code",
   "execution_count": 45,
   "id": "b6e84363-1461-4c1f-9250-d0bd2687c759",
   "metadata": {},
   "outputs": [
    {
     "name": "stdout",
     "output_type": "stream",
     "text": [
      "{'icecream', 450, (90, 'dfdnofd', frozenset({'hy', 'og', 'py'}), 47), 10, 'basket ball', 78, 'new', 79, 'names', 'light', 90, 30, 'rolls'}\n"
     ]
    }
   ],
   "source": [
    "p=set_4.union(set_6)\n",
    "print(p)"
   ]
  },
  {
   "cell_type": "code",
   "execution_count": null,
   "id": "a8f3690b-0680-40a9-bfd8-db043ba44037",
   "metadata": {},
   "outputs": [],
   "source": [
    "#why only tuple is acceptable in set but not itself?\n",
    "\n",
    "# the reason is tuple is immutable in the nature  and the set elements follows the property of immutable."
   ]
  },
  {
   "cell_type": "code",
   "execution_count": 47,
   "id": "ae6d8b48-16de-403e-8527-d3d007bc443b",
   "metadata": {},
   "outputs": [],
   "source": [
    "set_4.update(set_6)"
   ]
  },
  {
   "cell_type": "code",
   "execution_count": 49,
   "id": "a23fb55d-0e8e-4155-ba95-e43d5ed4e818",
   "metadata": {},
   "outputs": [
    {
     "data": {
      "text/plain": [
       "{(90, 'dfdnofd', frozenset({'hy', 'og', 'py'}), 47),\n",
       " 10,\n",
       " 30,\n",
       " 450,\n",
       " 78,\n",
       " 79,\n",
       " 90,\n",
       " 'basket ball',\n",
       " 'icecream',\n",
       " 'light',\n",
       " 'names',\n",
       " 'new',\n",
       " 'rolls'}"
      ]
     },
     "execution_count": 49,
     "metadata": {},
     "output_type": "execute_result"
    }
   ],
   "source": [
    "set_4"
   ]
  },
  {
   "cell_type": "code",
   "execution_count": 51,
   "id": "ba9f6fbd-abaa-4323-92f4-0c541959d22b",
   "metadata": {},
   "outputs": [
    {
     "data": {
      "text/plain": [
       "{10, 30, 450, 78, 'basket ball', 'light'}"
      ]
     },
     "execution_count": 51,
     "metadata": {},
     "output_type": "execute_result"
    }
   ],
   "source": [
    "set_6"
   ]
  },
  {
   "cell_type": "markdown",
   "id": "ecbcc7e2-3c97-42a9-bbf9-8581461ba337",
   "metadata": {},
   "source": [
    "# frozen set()"
   ]
  },
  {
   "cell_type": "code",
   "execution_count": 56,
   "id": "f9aef050-1e28-4ed7-81c0-127d40739d91",
   "metadata": {},
   "outputs": [],
   "source": [
    "set_f={10,30,30,40,450,350,660}"
   ]
  },
  {
   "cell_type": "code",
   "execution_count": 62,
   "id": "36ccd87b-65b5-488b-8acf-65db8ea81da2",
   "metadata": {},
   "outputs": [],
   "source": [
    "y=frozenset(set_f) #now set will become ordered along with that it remove duplicate element and immutable."
   ]
  },
  {
   "cell_type": "code",
   "execution_count": 60,
   "id": "6a56b5aa-642f-4a7a-b65c-869e35d6774a",
   "metadata": {},
   "outputs": [
    {
     "data": {
      "text/plain": [
       "frozenset({10, 30, 40, 350, 450, 660})"
      ]
     },
     "execution_count": 60,
     "metadata": {},
     "output_type": "execute_result"
    }
   ],
   "source": [
    "y #it still does not following indexing."
   ]
  },
  {
   "cell_type": "code",
   "execution_count": 66,
   "id": "d4a663a4-d710-4249-a83b-3be2afa42f4d",
   "metadata": {},
   "outputs": [
    {
     "data": {
      "text/plain": [
       "dict"
      ]
     },
     "execution_count": 66,
     "metadata": {},
     "output_type": "execute_result"
    }
   ],
   "source": [
    "dict_4={}\n",
    "type(dict_4)"
   ]
  },
  {
   "cell_type": "code",
   "execution_count": 86,
   "id": "5e08bbe1-90ad-4625-87f2-9643e52ac947",
   "metadata": {},
   "outputs": [],
   "source": [
    "dict_4={\"name\":\"lalitha\",\"age\":20,\"gender\":\"female\"}"
   ]
  },
  {
   "cell_type": "code",
   "execution_count": 88,
   "id": "da1b615d-4236-4378-bf05-195e6184a993",
   "metadata": {},
   "outputs": [
    {
     "name": "stdout",
     "output_type": "stream",
     "text": [
      "{'name': 'lalitha', 'age': 20, 'gender': 'female'}\n"
     ]
    }
   ],
   "source": [
    "print(dict_4)"
   ]
  },
  {
   "cell_type": "code",
   "execution_count": 92,
   "id": "4761ae30-8d18-4be6-abd0-d3e806a5d634",
   "metadata": {},
   "outputs": [
    {
     "data": {
      "text/plain": [
       "20"
      ]
     },
     "execution_count": 92,
     "metadata": {},
     "output_type": "execute_result"
    }
   ],
   "source": [
    "dict_4[\"age\"]"
   ]
  },
  {
   "cell_type": "code",
   "execution_count": null,
   "id": "941f6c73-fdb9-401d-a9b0-c13be75a297d",
   "metadata": {},
   "outputs": [],
   "source": [
    "# dict is the combination of elements which contains keyvalues pair with in the ().\n",
    "#key : all the primtive data type.\n",
    "#keys are immutables.\n",
    "#keys are unique.\n",
    "#if we give keys with similar name we will see that values are getting overridden.\n",
    "#values are mutables.\n",
    "#values : any data type is acceptable."
   ]
  },
  {
   "cell_type": "code",
   "execution_count": 94,
   "id": "dbcf5f1b-8637-4f11-87b9-47cea17f425c",
   "metadata": {},
   "outputs": [
    {
     "data": {
      "text/plain": [
       "dict_keys(['name', 'age', 'gender'])"
      ]
     },
     "execution_count": 94,
     "metadata": {},
     "output_type": "execute_result"
    }
   ],
   "source": [
    "#all the keys of dict\n",
    "dict_4.keys()"
   ]
  },
  {
   "cell_type": "code",
   "execution_count": 96,
   "id": "b713c654-c7cc-4fbb-b1f5-4ef3326f999b",
   "metadata": {},
   "outputs": [
    {
     "data": {
      "text/plain": [
       "dict_values(['lalitha', 20, 'female'])"
      ]
     },
     "execution_count": 96,
     "metadata": {},
     "output_type": "execute_result"
    }
   ],
   "source": [
    "dict_4.values()"
   ]
  },
  {
   "cell_type": "code",
   "execution_count": 98,
   "id": "9a758614-82ae-46da-991e-e869953f3416",
   "metadata": {},
   "outputs": [
    {
     "data": {
      "text/plain": [
       "dict_items([('name', 'lalitha'), ('age', 20), ('gender', 'female')])"
      ]
     },
     "execution_count": 98,
     "metadata": {},
     "output_type": "execute_result"
    }
   ],
   "source": [
    "dict_4.items()"
   ]
  },
  {
   "cell_type": "code",
   "execution_count": 11,
   "id": "45f3fe98-80fb-4654-8cf5-0efc8fa68868",
   "metadata": {},
   "outputs": [
    {
     "data": {
      "text/plain": [
       "dict_items([('name', 'lalitha'), ('age', 20), ('gender', 'female')])"
      ]
     },
     "execution_count": 11,
     "metadata": {},
     "output_type": "execute_result"
    }
   ],
   "source": [
    "dict_4.items()"
   ]
  },
  {
   "cell_type": "code",
   "execution_count": 3,
   "id": "caa6128a-83ac-4151-8f94-b2c79dde88ab",
   "metadata": {},
   "outputs": [],
   "source": [
    "dict_4={\"name\":\"lalitha\",\"age\":20,\"gender\":\"female\"}"
   ]
  },
  {
   "cell_type": "code",
   "execution_count": 5,
   "id": "8dbf6c7d-5f45-490f-978c-500102081e19",
   "metadata": {},
   "outputs": [
    {
     "data": {
      "text/plain": [
       "dict_values(['lalitha', 20, 'female'])"
      ]
     },
     "execution_count": 5,
     "metadata": {},
     "output_type": "execute_result"
    }
   ],
   "source": [
    "dict_4.values()"
   ]
  },
  {
   "cell_type": "code",
   "execution_count": 7,
   "id": "0538d0a3-8c56-4118-8b38-3fa614e98872",
   "metadata": {},
   "outputs": [
    {
     "data": {
      "text/plain": [
       "dict_keys(['name', 'age', 'gender'])"
      ]
     },
     "execution_count": 7,
     "metadata": {},
     "output_type": "execute_result"
    }
   ],
   "source": [
    "dict_4.keys()"
   ]
  },
  {
   "cell_type": "code",
   "execution_count": 9,
   "id": "ff38882b-bbc4-486a-954a-e608b9332b0d",
   "metadata": {},
   "outputs": [
    {
     "data": {
      "text/plain": [
       "dict_items([('name', 'lalitha'), ('age', 20), ('gender', 'female')])"
      ]
     },
     "execution_count": 9,
     "metadata": {},
     "output_type": "execute_result"
    }
   ],
   "source": [
    "dict_4.items()"
   ]
  },
  {
   "cell_type": "code",
   "execution_count": 13,
   "id": "d0612204-e172-4bb2-9a9f-53a1678506e0",
   "metadata": {},
   "outputs": [],
   "source": [
    "dict_3={'name':['pru','rud'],'age':[29,20],'hobby':['volleyball','cricket']}"
   ]
  },
  {
   "cell_type": "code",
   "execution_count": 17,
   "id": "2fc9c43d-2d36-49a7-8005-02f3a44569fd",
   "metadata": {},
   "outputs": [
    {
     "name": "stdout",
     "output_type": "stream",
     "text": [
      "{'name': ['pru', 'rud'], 'age': [29, 20], 'hobby': ['volleyball', 'cricket']}\n"
     ]
    }
   ],
   "source": [
    "print(dict_3)"
   ]
  },
  {
   "cell_type": "code",
   "execution_count": 21,
   "id": "130ffa9a-a9db-472a-9eb1-76e9dd42ccc3",
   "metadata": {},
   "outputs": [
    {
     "data": {
      "text/plain": [
       "['volleyball', 'cricket']"
      ]
     },
     "execution_count": 21,
     "metadata": {},
     "output_type": "execute_result"
    }
   ],
   "source": [
    "dict_3['hobby']"
   ]
  },
  {
   "cell_type": "code",
   "execution_count": 23,
   "id": "916fec31-e89c-43d8-9fcb-3d1305e13b7e",
   "metadata": {},
   "outputs": [
    {
     "data": {
      "text/plain": [
       "['pru', 'rud']"
      ]
     },
     "execution_count": 23,
     "metadata": {},
     "output_type": "execute_result"
    }
   ],
   "source": [
    "dict_3['name']"
   ]
  },
  {
   "cell_type": "code",
   "execution_count": 85,
   "id": "faba880f-44de-41c2-b23b-5a63be6504c8",
   "metadata": {},
   "outputs": [],
   "source": [
    "dict_3['hobby']=['football','cricket']"
   ]
  },
  {
   "cell_type": "code",
   "execution_count": 79,
   "id": "456e587d-033a-48bc-af8e-fc366b2dcd40",
   "metadata": {},
   "outputs": [
    {
     "data": {
      "text/plain": [
       "{'name': ['pru', 'rud'], 'age': [29, 20], 'hobby': ['football', 'cricket']}"
      ]
     },
     "execution_count": 79,
     "metadata": {},
     "output_type": "execute_result"
    }
   ],
   "source": [
    "dict_3"
   ]
  },
  {
   "cell_type": "code",
   "execution_count": 89,
   "id": "35ef2a90-5821-4df7-8085-f605abc37706",
   "metadata": {},
   "outputs": [],
   "source": [
    "dict_3['hobby'][1]=['swimming']"
   ]
  },
  {
   "cell_type": "code",
   "execution_count": 91,
   "id": "f19accca-8d69-40fa-b1ed-37a50c932512",
   "metadata": {},
   "outputs": [
    {
     "data": {
      "text/plain": [
       "{'name': ['pru', 'rud'], 'age': [29, 20], 'hobby': ['football', ['swimming']]}"
      ]
     },
     "execution_count": 91,
     "metadata": {},
     "output_type": "execute_result"
    }
   ],
   "source": [
    "dict_3"
   ]
  },
  {
   "cell_type": "code",
   "execution_count": 71,
   "id": "617185bc-c216-4b8d-a28b-8fc9054f95c2",
   "metadata": {},
   "outputs": [
    {
     "name": "stdout",
     "output_type": "stream",
     "text": [
      "{'name': ['pru', 'rud'], 'age': [29, 20], 'hobby': ['volleyball', 'cricket']}\n"
     ]
    }
   ],
   "source": [
    "dict_6 = {'name': ['pru', 'rud'], 'age': [29, 20], 'hobby': ['volleyball', 'cricket']}\n",
    "\n",
    "# Reassign the same values to 'hobby'\n",
    "dict_3['hobby'] = ['volleyball', 'cricket']  # Overwriting with the same value\n",
    "\n",
    "print(dict_3)\n"
   ]
  },
  {
   "cell_type": "code",
   "execution_count": 73,
   "id": "a2bea457-98f3-46a5-b8c9-fbcec94b8b99",
   "metadata": {},
   "outputs": [],
   "source": [
    "dict_6['hobby'][0]='badminton'"
   ]
  },
  {
   "cell_type": "code",
   "execution_count": 75,
   "id": "6cc2f2f8-c781-4344-9d8a-a9152788dc98",
   "metadata": {},
   "outputs": [
    {
     "name": "stdout",
     "output_type": "stream",
     "text": [
      "{'name': ['pru', 'rud'], 'age': [29, 20], 'hobby': ['badminton', 'cricket']}\n"
     ]
    }
   ],
   "source": [
    "print(dict_6)"
   ]
  },
  {
   "cell_type": "code",
   "execution_count": 105,
   "id": "f95b64ce-3bfc-4a8a-89a5-f2e7621ed06d",
   "metadata": {},
   "outputs": [],
   "source": [
    "#add an element in dict:\n",
    "dict_6['food']=['icecream','sweets']"
   ]
  },
  {
   "cell_type": "code",
   "execution_count": 107,
   "id": "e457b0bb-f6ca-47b9-8ed8-8fe58c25cf99",
   "metadata": {},
   "outputs": [
    {
     "data": {
      "text/plain": [
       "{'name': ['pru', 'rud'],\n",
       " 'age': [29, 20],\n",
       " 'hobby': ['badminton', 'cricket'],\n",
       " 'food': ['icecream', 'sweets']}"
      ]
     },
     "execution_count": 107,
     "metadata": {},
     "output_type": "execute_result"
    }
   ],
   "source": [
    "dict_6"
   ]
  },
  {
   "cell_type": "code",
   "execution_count": 109,
   "id": "9c53206d-04b0-4c57-83ab-4cdffa40047a",
   "metadata": {},
   "outputs": [],
   "source": [
    "dict_6['food'][1]=['soup']"
   ]
  },
  {
   "cell_type": "code",
   "execution_count": 111,
   "id": "6d219e29-207f-4f63-8398-67601170402b",
   "metadata": {},
   "outputs": [
    {
     "data": {
      "text/plain": [
       "{'name': ['pru', 'rud'],\n",
       " 'age': [29, 20],\n",
       " 'hobby': ['badminton', 'cricket'],\n",
       " 'food': ['icecream', ['soup']]}"
      ]
     },
     "execution_count": 111,
     "metadata": {},
     "output_type": "execute_result"
    }
   ],
   "source": [
    "dict_6"
   ]
  },
  {
   "cell_type": "code",
   "execution_count": null,
   "id": "f9805c35-0a83-435a-98e9-511fef226e90",
   "metadata": {},
   "outputs": [],
   "source": []
  }
 ],
 "metadata": {
  "kernelspec": {
   "display_name": "Python 3 (ipykernel)",
   "language": "python",
   "name": "python3"
  },
  "language_info": {
   "codemirror_mode": {
    "name": "ipython",
    "version": 3
   },
   "file_extension": ".py",
   "mimetype": "text/x-python",
   "name": "python",
   "nbconvert_exporter": "python",
   "pygments_lexer": "ipython3",
   "version": "3.12.7"
  }
 },
 "nbformat": 4,
 "nbformat_minor": 5
}
