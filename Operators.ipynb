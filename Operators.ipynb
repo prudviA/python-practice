{
 "cells": [
  {
   "cell_type": "markdown",
   "id": "6bb89633-c4b9-4424-bd7d-1a40d98c50a7",
   "metadata": {},
   "source": [
    "# Operators:\n",
    "\n",
    "operators are used to perform differents operations b/w variable and values:\n",
    "\n",
    "we have different types of operators avaiable in python:\n",
    "\n",
    "-Arthimetic operators:+,-,*,/,%,//,**.\n",
    "-Assignment operators/compound operators: =, +=, -=, *=, %=, //=, **= .\n",
    "-conditioanl operators/comparsion operators ==, !=,(not equal to) ,>, < ,>=, <=\n",
    "-logical operators: and, or, not\n",
    "-Membership operators : in, not in\n",
    "-Identity operators : is, not is "
   ]
  },
  {
   "cell_type": "markdown",
   "id": "eead6742-b1c8-48f8-98d8-e850f1714c65",
   "metadata": {},
   "source": [
    "## Arthimetic operators:+,-,*,/,%,//,**."
   ]
  },
  {
   "cell_type": "code",
   "execution_count": 5,
   "id": "fe54ba45-30cf-426a-bbdd-b34f4ee443c7",
   "metadata": {},
   "outputs": [],
   "source": [
    "x=20\n",
    "y=30\n"
   ]
  },
  {
   "cell_type": "code",
   "execution_count": 7,
   "id": "22998322-1f12-4899-94b9-dee258534e2a",
   "metadata": {},
   "outputs": [
    {
     "name": "stdout",
     "output_type": "stream",
     "text": [
      "50\n"
     ]
    }
   ],
   "source": [
    "print(x+y) #adding"
   ]
  },
  {
   "cell_type": "code",
   "execution_count": 11,
   "id": "261cd1d7-7c09-4ed7-9e19-f8d98005354d",
   "metadata": {},
   "outputs": [
    {
     "name": "stdout",
     "output_type": "stream",
     "text": [
      "-10\n"
     ]
    }
   ],
   "source": [
    "print(x-y) #minus"
   ]
  },
  {
   "cell_type": "code",
   "execution_count": 13,
   "id": "46a9f29e-9c66-4c2c-9ccc-83365eceee13",
   "metadata": {},
   "outputs": [
    {
     "name": "stdout",
     "output_type": "stream",
     "text": [
      "600\n"
     ]
    }
   ],
   "source": [
    "print(x*y) #mutliplication"
   ]
  },
  {
   "cell_type": "code",
   "execution_count": 15,
   "id": "0c1461d5-28d9-4ae6-b2aa-920463b93d65",
   "metadata": {},
   "outputs": [
    {
     "name": "stdout",
     "output_type": "stream",
     "text": [
      "0.6666666666666666\n"
     ]
    }
   ],
   "source": [
    "print(x/y) #division"
   ]
  },
  {
   "cell_type": "code",
   "execution_count": 19,
   "id": "a0a360fa-73d0-4674-b824-4228a1e1b073",
   "metadata": {},
   "outputs": [
    {
     "name": "stdout",
     "output_type": "stream",
     "text": [
      "0\n"
     ]
    }
   ],
   "source": [
    "print(x//y) #floor division\n",
    "# here the difference b/w division and floor division is division will print the value in float data type where as floor division will eleminate the decimle value from the output."
   ]
  },
  {
   "cell_type": "code",
   "execution_count": 23,
   "id": "f485b592-9cf7-42ef-abc1-7be74e6e0e17",
   "metadata": {},
   "outputs": [
    {
     "name": "stdout",
     "output_type": "stream",
     "text": [
      "0\n"
     ]
    }
   ],
   "source": [
    "# modulus %:\n",
    "print(99%9)"
   ]
  },
  {
   "cell_type": "code",
   "execution_count": 25,
   "id": "7d66f815-1ef0-4bf1-b6fb-3a37d276a769",
   "metadata": {},
   "outputs": [
    {
     "name": "stdout",
     "output_type": "stream",
     "text": [
      "9\n"
     ]
    }
   ],
   "source": [
    "print(9%99)"
   ]
  },
  {
   "cell_type": "code",
   "execution_count": 1,
   "id": "3b821757-e05d-44c2-b93e-cc5b80fdc51c",
   "metadata": {},
   "outputs": [
    {
     "name": "stdout",
     "output_type": "stream",
     "text": [
      "Odd\n"
     ]
    }
   ],
   "source": [
    "num = 7\n",
    "if num % 2 == 0:\n",
    "    print(\"Even\")\n",
    "else:\n",
    "    print(\"Odd\")"
   ]
  },
  {
   "cell_type": "code",
   "execution_count": 27,
   "id": "f0d9fd70-e9ab-498a-85ac-a08c8cd306b2",
   "metadata": {},
   "outputs": [
    {
     "name": "stdout",
     "output_type": "stream",
     "text": [
      "111\n"
     ]
    }
   ],
   "source": [
    " print(111%11111)"
   ]
  },
  {
   "cell_type": "code",
   "execution_count": 37,
   "id": "1ccd1b60-a5ad-4997-89de-143e78fb8859",
   "metadata": {},
   "outputs": [
    {
     "name": "stdout",
     "output_type": "stream",
     "text": [
      "2\n"
     ]
    }
   ],
   "source": [
    "print(34%8)"
   ]
  },
  {
   "cell_type": "code",
   "execution_count": 29,
   "id": "bb03f1f3-077c-4f59-a2bc-ad364f57b5fd",
   "metadata": {},
   "outputs": [
    {
     "name": "stdout",
     "output_type": "stream",
     "text": [
      "555\n"
     ]
    }
   ],
   "source": [
    "print(555%99999)"
   ]
  },
  {
   "cell_type": "code",
   "execution_count": 33,
   "id": "2cdde926-e11a-46ba-953c-ac2bd83ecc22",
   "metadata": {},
   "outputs": [
    {
     "name": "stdout",
     "output_type": "stream",
     "text": [
      "56\n"
     ]
    }
   ],
   "source": [
    "print(56%789)"
   ]
  },
  {
   "cell_type": "code",
   "execution_count": 35,
   "id": "8620c2d8-e9c1-4910-9524-551c1889627d",
   "metadata": {},
   "outputs": [
    {
     "name": "stdout",
     "output_type": "stream",
     "text": [
      "4304672100000000\n"
     ]
    }
   ],
   "source": [
    "# expotential **\n",
    "\n",
    "print(90**8)"
   ]
  },
  {
   "cell_type": "markdown",
   "id": "7553a15f-8a3f-436e-a267-460608ee80c0",
   "metadata": {},
   "source": [
    " ##  compound/Assignment operators:\n",
    " =, +=, -=, *=, %=, //=, **= , /=."
   ]
  },
  {
   "cell_type": "raw",
   "id": "6e42a629-b803-45c0-8054-5a8760773a95",
   "metadata": {},
   "source": [
    "#2. Compound Assignment Operators:\n",
    "These operators perform an operation and assign the result to the variable.\n",
    "\n",
    "Operator\tExample\tEquivalent To\tExplanation\n",
    "+=\tx += 5\tx = x + 5\tAdds and assigns the result.\n",
    "-=\tx -= 5\tx = x - 5\tSubtracts and assigns the result.\n",
    "*=\tx *= 5\tx = x * 5\tMultiplies and assigns the result.\n",
    "/=\tx /= 5\tx = x / 5\tDivides and assigns the result.\n",
    "//=\tx //= 5\tx = x // 5\tFloor-divides and assigns the result.\n",
    "%=\tx %= 5\tx = x % 5\tModulus and assigns the result.\n",
    "**=\tx **= 5\tx = x ** 5\tRaises to power and assigns the result.\n",
    "&=\tx &= 5\tx = x & 5\tBitwise AND and assigns the result.\n",
    "`\t=`\t`x\t= 5`\n",
    "^=\tx ^= 5\tx = x ^ 5\tBitwise XOR and assigns the result.\n",
    ">>=\tx >>= 5\tx = x >> 5\tRight-shift and assigns the result.\n",
    "<<=\tx <<= 5\tx = x << 5\tLeft-shift and assigns the result."
   ]
  },
  {
   "cell_type": "code",
   "execution_count": 42,
   "id": "464cfce6-5086-4a66-8e6f-7c9b3cd47725",
   "metadata": {},
   "outputs": [],
   "source": [
    "a=89"
   ]
  },
  {
   "cell_type": "code",
   "execution_count": 44,
   "id": "77cfe529-6d56-4c83-bfe0-9d894825117e",
   "metadata": {},
   "outputs": [
    {
     "name": "stdout",
     "output_type": "stream",
     "text": [
      "89\n"
     ]
    }
   ],
   "source": [
    "print(a)"
   ]
  },
  {
   "cell_type": "code",
   "execution_count": 13,
   "id": "89d41a3a-1534-4f96-a7ac-1e35e791d155",
   "metadata": {},
   "outputs": [],
   "source": [
    "a+=2"
   ]
  },
  {
   "cell_type": "code",
   "execution_count": 19,
   "id": "6cc2b8b2-fcb6-440c-be9c-4f9b2a44aec0",
   "metadata": {},
   "outputs": [
    {
     "name": "stdout",
     "output_type": "stream",
     "text": [
      "15\n"
     ]
    }
   ],
   "source": [
    "b=13\n",
    "b+=2\n",
    "print(b)#b=b+2"
   ]
  },
  {
   "cell_type": "code",
   "execution_count": 56,
   "id": "1e9118b6-0a38-47bb-b5aa-8b20bb1ba8b3",
   "metadata": {},
   "outputs": [],
   "source": [
    "a%=10 #a=a%10"
   ]
  },
  {
   "cell_type": "code",
   "execution_count": 52,
   "id": "a39809a1-731c-474e-897f-125bf1b5c13a",
   "metadata": {},
   "outputs": [
    {
     "name": "stdout",
     "output_type": "stream",
     "text": [
      "8\n"
     ]
    }
   ],
   "source": [
    "print(a)"
   ]
  },
  {
   "cell_type": "markdown",
   "id": "75e958db-f243-4865-b241-33a9fd8e7edf",
   "metadata": {},
   "source": [
    "### conditioanl operators ==, !=,(not equal to) ,>, < ,>=, <=\n"
   ]
  },
  {
   "cell_type": "raw",
   "id": "49af09ec-b109-4152-a26e-730db4b77213",
   "metadata": {},
   "source": [
    "1. Comparison Operators:\n",
    "These are the primary conditional operators in Python.\n",
    "\n",
    "Operator\tDescription\tExample\tOutput\n",
    "==\tEqual to\t5 == 5\tTrue\n",
    "!=\tNot equal to\t5 != 3\tTrue\n",
    ">\tGreater than\t5 > 3\tTrue\n",
    "<\tLess than\t5 < 3\tFalse\n",
    ">=\tGreater than or equal to\t5 >= 5\tTrue\n",
    "<=\tLess than or equal to\t5 <= 3\tFalse"
   ]
  },
  {
   "cell_type": "code",
   "execution_count": 3,
   "id": "0c172d69-64ef-4463-a339-d69956e247be",
   "metadata": {},
   "outputs": [],
   "source": [
    "check='abc'"
   ]
  },
  {
   "cell_type": "code",
   "execution_count": 9,
   "id": "13a2db95-2592-4194-bbc1-425e110c7071",
   "metadata": {},
   "outputs": [
    {
     "data": {
      "text/plain": [
       "False"
      ]
     },
     "execution_count": 9,
     "metadata": {},
     "output_type": "execute_result"
    }
   ],
   "source": [
    "check==\"ABc\""
   ]
  },
  {
   "cell_type": "code",
   "execution_count": 67,
   "id": "16493488-9d8d-41d7-8d9f-4b772a24a172",
   "metadata": {},
   "outputs": [
    {
     "data": {
      "text/plain": [
       "False"
      ]
     },
     "execution_count": 67,
     "metadata": {},
     "output_type": "execute_result"
    }
   ],
   "source": [
    "check !=\"abc\""
   ]
  },
  {
   "cell_type": "code",
   "execution_count": 71,
   "id": "1d29cef7-98a2-4345-8377-fb51d6ad17a1",
   "metadata": {},
   "outputs": [
    {
     "data": {
      "text/plain": [
       "True"
      ]
     },
     "execution_count": 71,
     "metadata": {},
     "output_type": "execute_result"
    }
   ],
   "source": [
    "check !=\"ABc\" #when two values which are getting compared are not equal to each other then it will print True."
   ]
  },
  {
   "cell_type": "code",
   "execution_count": 73,
   "id": "fa974b91-81bc-4753-9164-86a3dc369282",
   "metadata": {},
   "outputs": [],
   "source": [
    "var =1000"
   ]
  },
  {
   "cell_type": "code",
   "execution_count": 75,
   "id": "22533f7b-60f4-4295-b517-0215fdc42267",
   "metadata": {},
   "outputs": [
    {
     "data": {
      "text/plain": [
       "False"
      ]
     },
     "execution_count": 75,
     "metadata": {},
     "output_type": "execute_result"
    }
   ],
   "source": [
    "var==9000"
   ]
  },
  {
   "cell_type": "code",
   "execution_count": 77,
   "id": "e5eddd99-8b99-44e8-8593-da210641115d",
   "metadata": {},
   "outputs": [
    {
     "data": {
      "text/plain": [
       "True"
      ]
     },
     "execution_count": 77,
     "metadata": {},
     "output_type": "execute_result"
    }
   ],
   "source": [
    "var!=900"
   ]
  },
  {
   "cell_type": "code",
   "execution_count": 81,
   "id": "00565bcb-2351-47b4-b05e-6bec4dd33c09",
   "metadata": {},
   "outputs": [
    {
     "data": {
      "text/plain": [
       "False"
      ]
     },
     "execution_count": 81,
     "metadata": {},
     "output_type": "execute_result"
    }
   ],
   "source": [
    "var!=1000"
   ]
  },
  {
   "cell_type": "code",
   "execution_count": 83,
   "id": "ff1236ca-cf4d-4aa2-8764-85bb6465288a",
   "metadata": {},
   "outputs": [
    {
     "data": {
      "text/plain": [
       "0"
      ]
     },
     "execution_count": 83,
     "metadata": {},
     "output_type": "execute_result"
    }
   ],
   "source": [
    "var %2"
   ]
  },
  {
   "cell_type": "code",
   "execution_count": 85,
   "id": "801923d2-2527-4491-b8ba-28563822acca",
   "metadata": {},
   "outputs": [
    {
     "data": {
      "text/plain": [
       "False"
      ]
     },
     "execution_count": 85,
     "metadata": {},
     "output_type": "execute_result"
    }
   ],
   "source": [
    "var %2 !=0"
   ]
  },
  {
   "cell_type": "code",
   "execution_count": 87,
   "id": "fb4d5ef9-d208-43ac-859e-26e8ac9c4bb9",
   "metadata": {},
   "outputs": [
    {
     "data": {
      "text/plain": [
       "0"
      ]
     },
     "execution_count": 87,
     "metadata": {},
     "output_type": "execute_result"
    }
   ],
   "source": [
    "var %2"
   ]
  },
  {
   "cell_type": "code",
   "execution_count": 89,
   "id": "d5db612c-1cb0-4c58-a950-402612bbc5f7",
   "metadata": {},
   "outputs": [
    {
     "data": {
      "text/plain": [
       "2"
      ]
     },
     "execution_count": 89,
     "metadata": {},
     "output_type": "execute_result"
    }
   ],
   "source": [
    "2%1000"
   ]
  },
  {
   "cell_type": "code",
   "execution_count": 91,
   "id": "6112846f-70b5-4524-9f37-ef93444a1658",
   "metadata": {},
   "outputs": [
    {
     "data": {
      "text/plain": [
       "0"
      ]
     },
     "execution_count": 91,
     "metadata": {},
     "output_type": "execute_result"
    }
   ],
   "source": [
    "1000%2"
   ]
  },
  {
   "cell_type": "code",
   "execution_count": 93,
   "id": "42f0e238-5e8d-4f9b-8c5f-02e933b06960",
   "metadata": {},
   "outputs": [
    {
     "data": {
      "text/plain": [
       "True"
      ]
     },
     "execution_count": 93,
     "metadata": {},
     "output_type": "execute_result"
    }
   ],
   "source": [
    "var=900\n",
    "\n",
    "var>=50  "
   ]
  },
  {
   "cell_type": "code",
   "execution_count": 95,
   "id": "7a14a2c5-ec46-41eb-863a-447a89f132ae",
   "metadata": {},
   "outputs": [
    {
     "data": {
      "text/plain": [
       "False"
      ]
     },
     "execution_count": 95,
     "metadata": {},
     "output_type": "execute_result"
    }
   ],
   "source": [
    "var==50"
   ]
  },
  {
   "cell_type": "markdown",
   "id": "da09faf3-a1b0-4dff-8932-31b7d59267ff",
   "metadata": {},
   "source": [
    "## logical operators: and, or, not"
   ]
  },
  {
   "cell_type": "raw",
   "id": "ba4fa4ab-6a1b-4b0b-a1af-f955bf08cafb",
   "metadata": {},
   "source": [
    "2. Logical Operators:\n",
    "These operators combine multiple conditions.\n",
    "\n",
    "Operator\tDescription\tExample\tOutput\n",
    "and\tReturns True if both are True\t(5 > 3) and (3 > 1)\tTrue\n",
    "or\tReturns True if one is True\t(5 > 3) or (3 < 1)\tTrue\n",
    "not\tReverses the result\tnot (5 > 3)\tFalse\n"
   ]
  },
  {
   "cell_type": "code",
   "execution_count": 102,
   "id": "6510a0f7-e77d-42b2-935f-caa2d9ed8aab",
   "metadata": {},
   "outputs": [
    {
     "data": {
      "text/plain": [
       "2"
      ]
     },
     "execution_count": 102,
     "metadata": {},
     "output_type": "execute_result"
    }
   ],
   "source": [
    "2%30"
   ]
  },
  {
   "cell_type": "code",
   "execution_count": 106,
   "id": "c7592f03-c26d-4865-925d-de6c0b53b94c",
   "metadata": {},
   "outputs": [
    {
     "name": "stdout",
     "output_type": "stream",
     "text": [
      "0\n"
     ]
    }
   ],
   "source": [
    "x=30\n",
    "y=2\n",
    "print(x%y)"
   ]
  },
  {
   "cell_type": "code",
   "execution_count": 108,
   "id": "08c7f236-0006-4eb1-b271-750bda49d194",
   "metadata": {},
   "outputs": [
    {
     "data": {
      "text/plain": [
       "True"
      ]
     },
     "execution_count": 108,
     "metadata": {},
     "output_type": "execute_result"
    }
   ],
   "source": [
    "var_1=45.0\n",
    "var_2=90\n",
    "\n",
    "var_1==45 and var_2//3==30"
   ]
  },
  {
   "cell_type": "code",
   "execution_count": 122,
   "id": "907c7d87-3434-4536-8e07-4581481c8c90",
   "metadata": {},
   "outputs": [],
   "source": [
    "new_1=\" \"\n",
    "new_2=' a'\n",
    "new_1=\"\" and new_2!=' A'"
   ]
  },
  {
   "cell_type": "code",
   "execution_count": 126,
   "id": "eec46c82-d2b0-4fe1-91cf-3680b5b1f686",
   "metadata": {},
   "outputs": [
    {
     "data": {
      "text/plain": [
       "False"
      ]
     },
     "execution_count": 126,
     "metadata": {},
     "output_type": "execute_result"
    }
   ],
   "source": [
    "not(new_2!=' A')"
   ]
  },
  {
   "cell_type": "markdown",
   "id": "9ddcb1f0-9a43-4844-b285-92588b1821fa",
   "metadata": {},
   "source": [
    "## Membership operators : in, not in"
   ]
  },
  {
   "cell_type": "raw",
   "id": "64201596-7166-4ed4-8604-5153d923b3d5",
   "metadata": {},
   "source": [
    "4. Membership Operators:\n",
    "Check for membership in sequences like lists, strings, or tuples.\n",
    "\n",
    "Operator\tDescription\tExample\tOutput\n",
    "in\tReturns True if value exists\t'a' in 'apple'\tTrue\n",
    "not in\tReturns True if value doesn't exist\t'b' not in 'apple'\tTrue\n"
   ]
  },
  {
   "cell_type": "code",
   "execution_count": 129,
   "id": "2d5c782f-215a-48b2-b572-9bdd80a4145e",
   "metadata": {},
   "outputs": [],
   "source": [
    "list_2=[10,30,'apple','bat','cycle',89,90,90]"
   ]
  },
  {
   "cell_type": "code",
   "execution_count": 135,
   "id": "654c3725-3431-4127-8cc4-518a6b4c2ac0",
   "metadata": {},
   "outputs": [
    {
     "data": {
      "text/plain": [
       "True"
      ]
     },
     "execution_count": 135,
     "metadata": {},
     "output_type": "execute_result"
    }
   ],
   "source": [
    "89 in list_2"
   ]
  },
  {
   "cell_type": "code",
   "execution_count": 25,
   "id": "6f058da2-3e6f-4d9c-bff7-818366687096",
   "metadata": {},
   "outputs": [],
   "source": [
    "dict_1={'stock':[10,20,30,50,60],'products':'items','sales':2000}"
   ]
  },
  {
   "cell_type": "code",
   "execution_count": 27,
   "id": "eb89765b-a1d9-4b49-9e41-3faf04179ba3",
   "metadata": {},
   "outputs": [
    {
     "data": {
      "text/plain": [
       "dict_values([[10, 20, 30, 50, 60], 'items', 2000])"
      ]
     },
     "execution_count": 27,
     "metadata": {},
     "output_type": "execute_result"
    }
   ],
   "source": [
    "dict_1.values()"
   ]
  },
  {
   "cell_type": "code",
   "execution_count": 29,
   "id": "14c701d9-2279-40a0-baba-943896d0f21f",
   "metadata": {},
   "outputs": [
    {
     "data": {
      "text/plain": [
       "dict_values([[10, 20, 30, 50, 60], 'items', 2000])"
      ]
     },
     "execution_count": 29,
     "metadata": {},
     "output_type": "execute_result"
    }
   ],
   "source": [
    "dict_1.values()"
   ]
  },
  {
   "cell_type": "markdown",
   "id": "0637f137-e825-414a-ae1f-b995981d6d1d",
   "metadata": {},
   "source": [
    "## identity operators:"
   ]
  },
  {
   "cell_type": "raw",
   "id": "5f850757-cb7d-40fd-9ab0-e5b2c75c047e",
   "metadata": {},
   "source": [
    "5. Identity Operators:\n",
    "Check if two objects are the same (reference equality).\n",
    "\n",
    "Operator\tDescription\tExample\tOutput\n",
    "is\tReturns True if objects are same\ta is b\tFalse\n",
    "is not\tReturns True if objects are not same\ta is not b\tTrue\n"
   ]
  },
  {
   "cell_type": "code",
   "execution_count": 15,
   "id": "ed04138c-dd14-4bb6-9faa-f54cad244913",
   "metadata": {},
   "outputs": [],
   "source": [
    "x=10\n",
    "y=30\n",
    "z=19\n",
    "p=10"
   ]
  },
  {
   "cell_type": "code",
   "execution_count": 17,
   "id": "e1fa52e0-3389-42b7-8cb8-600eefeb30ea",
   "metadata": {},
   "outputs": [
    {
     "data": {
      "text/plain": [
       "140710573583064"
      ]
     },
     "execution_count": 17,
     "metadata": {},
     "output_type": "execute_result"
    }
   ],
   "source": [
    "id(x)"
   ]
  },
  {
   "cell_type": "code",
   "execution_count": 23,
   "id": "ed4ca72d-30d8-45e3-ba98-93bb7527b6d8",
   "metadata": {},
   "outputs": [
    {
     "data": {
      "text/plain": [
       "140710573583704"
      ]
     },
     "execution_count": 23,
     "metadata": {},
     "output_type": "execute_result"
    }
   ],
   "source": [
    "id(y)\n"
   ]
  },
  {
   "cell_type": "code",
   "execution_count": 21,
   "id": "9a27e321-20f6-4fea-ba2b-fb18219e7ab9",
   "metadata": {},
   "outputs": [
    {
     "data": {
      "text/plain": [
       "140710573583064"
      ]
     },
     "execution_count": 21,
     "metadata": {},
     "output_type": "execute_result"
    }
   ],
   "source": [
    "id(p)"
   ]
  },
  {
   "cell_type": "code",
   "execution_count": 25,
   "id": "95e09713-c5b9-450e-afe7-604f7dc30bf2",
   "metadata": {},
   "outputs": [
    {
     "data": {
      "text/plain": [
       "True"
      ]
     },
     "execution_count": 25,
     "metadata": {},
     "output_type": "execute_result"
    }
   ],
   "source": [
    "x is p"
   ]
  },
  {
   "cell_type": "code",
   "execution_count": 27,
   "id": "9474a5e5-1f7c-4714-adc2-28d8124b6729",
   "metadata": {},
   "outputs": [
    {
     "data": {
      "text/plain": [
       "False"
      ]
     },
     "execution_count": 27,
     "metadata": {},
     "output_type": "execute_result"
    }
   ],
   "source": [
    "x is z"
   ]
  },
  {
   "cell_type": "code",
   "execution_count": 29,
   "id": "f7130b32-21a9-4118-8ed8-9c76520a4bad",
   "metadata": {},
   "outputs": [
    {
     "data": {
      "text/plain": [
       "False"
      ]
     },
     "execution_count": 29,
     "metadata": {},
     "output_type": "execute_result"
    }
   ],
   "source": [
    "x is y "
   ]
  },
  {
   "cell_type": "code",
   "execution_count": 1,
   "id": "efab610c-3891-4947-826f-3235d5fefd7d",
   "metadata": {},
   "outputs": [],
   "source": [
    "list_1=['rupa',33]\n",
    "list_2=['rupa',30]"
   ]
  },
  {
   "cell_type": "code",
   "execution_count": 3,
   "id": "7fbb0870-3750-426f-bbca-3adc286d93ae",
   "metadata": {},
   "outputs": [
    {
     "data": {
      "text/plain": [
       "2024300161152"
      ]
     },
     "execution_count": 3,
     "metadata": {},
     "output_type": "execute_result"
    }
   ],
   "source": [
    "id(list_1)"
   ]
  },
  {
   "cell_type": "code",
   "execution_count": 5,
   "id": "04b4dacc-fcc5-47ff-8053-2feb514a6f95",
   "metadata": {},
   "outputs": [
    {
     "data": {
      "text/plain": [
       "2024300161728"
      ]
     },
     "execution_count": 5,
     "metadata": {},
     "output_type": "execute_result"
    }
   ],
   "source": [
    "id(list_2)"
   ]
  },
  {
   "cell_type": "code",
   "execution_count": 7,
   "id": "90150b0c-626c-4a11-bff1-17eefedd010f",
   "metadata": {},
   "outputs": [
    {
     "data": {
      "text/plain": [
       "2024300052128"
      ]
     },
     "execution_count": 7,
     "metadata": {},
     "output_type": "execute_result"
    }
   ],
   "source": [
    "id(list_1[0])"
   ]
  },
  {
   "cell_type": "code",
   "execution_count": 11,
   "id": "3f1486e8-cd85-423f-bff2-ae38c39e4b93",
   "metadata": {},
   "outputs": [
    {
     "data": {
      "text/plain": [
       "2024300052128"
      ]
     },
     "execution_count": 11,
     "metadata": {},
     "output_type": "execute_result"
    }
   ],
   "source": [
    "id(list_2[0])"
   ]
  },
  {
   "cell_type": "code",
   "execution_count": 13,
   "id": "e0ff0faa-9aec-4c0d-ac2a-712f554442a8",
   "metadata": {},
   "outputs": [
    {
     "data": {
      "text/plain": [
       "0"
      ]
     },
     "execution_count": 13,
     "metadata": {},
     "output_type": "execute_result"
    }
   ],
   "source": [
    "import gc\n",
    "\n",
    "gc.collect()"
   ]
  },
  {
   "cell_type": "code",
   "execution_count": 15,
   "id": "9d66abf2-03ef-40e9-95fa-05a13a6526e4",
   "metadata": {},
   "outputs": [],
   "source": [
    "gc.disable()"
   ]
  },
  {
   "cell_type": "code",
   "execution_count": 17,
   "id": "ef11704c-6f53-4ef3-a983-1e67f9840bd4",
   "metadata": {},
   "outputs": [
    {
     "data": {
      "text/plain": [
       "0"
      ]
     },
     "execution_count": 17,
     "metadata": {},
     "output_type": "execute_result"
    }
   ],
   "source": [
    "gc.collect()"
   ]
  },
  {
   "cell_type": "code",
   "execution_count": 19,
   "id": "c13a9442-1634-45a7-aff7-6e3e87bb5783",
   "metadata": {},
   "outputs": [
    {
     "data": {
      "text/plain": [
       "4.0"
      ]
     },
     "execution_count": 19,
     "metadata": {},
     "output_type": "execute_result"
    }
   ],
   "source": [
    "100/25"
   ]
  },
  {
   "cell_type": "code",
   "execution_count": 27,
   "id": "7475137d-23fa-40c3-98a2-561023a431b7",
   "metadata": {},
   "outputs": [],
   "source": [
    "x=40.4\n",
    "y=40.4\n",
    "\n"
   ]
  },
  {
   "cell_type": "code",
   "execution_count": 29,
   "id": "c843e38a-13de-4693-82d2-6d8c19bbacef",
   "metadata": {},
   "outputs": [
    {
     "data": {
      "text/plain": [
       "True"
      ]
     },
     "execution_count": 29,
     "metadata": {},
     "output_type": "execute_result"
    }
   ],
   "source": [
    "x==y"
   ]
  },
  {
   "cell_type": "code",
   "execution_count": 31,
   "id": "43e4d929-44fd-409f-af89-de88583bbe79",
   "metadata": {},
   "outputs": [
    {
     "data": {
      "text/plain": [
       "True"
      ]
     },
     "execution_count": 31,
     "metadata": {},
     "output_type": "execute_result"
    }
   ],
   "source": [
    "40.4==40.4"
   ]
  },
  {
   "cell_type": "code",
   "execution_count": null,
   "id": "8bad555f-91ab-4e0d-a7d9-5d3a664ac25b",
   "metadata": {},
   "outputs": [],
   "source": []
  }
 ],
 "metadata": {
  "kernelspec": {
   "display_name": "Python 3 (ipykernel)",
   "language": "python",
   "name": "python3"
  },
  "language_info": {
   "codemirror_mode": {
    "name": "ipython",
    "version": 3
   },
   "file_extension": ".py",
   "mimetype": "text/x-python",
   "name": "python",
   "nbconvert_exporter": "python",
   "pygments_lexer": "ipython3",
   "version": "3.12.7"
  }
 },
 "nbformat": 4,
 "nbformat_minor": 5
}
