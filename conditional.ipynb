{
 "cells": [
  {
   "cell_type": "markdown",
   "id": "885371f4-525c-4e22-a3d6-f5fa9b40ca39",
   "metadata": {},
   "source": [
    "## conditional statement\n",
    "It gets used to control the flow of program by making decisions on the certain conditions."
   ]
  },
  {
   "cell_type": "raw",
   "id": "f8eb224a-856f-432f-a8b2-e60ed0f355ce",
   "metadata": {},
   "source": [
    "syntax:\n",
    "\n",
    "if condition:\n",
    "    code for if block\n",
    "\n",
    "else:\n",
    "    code for else block\n"
   ]
  },
  {
   "cell_type": "code",
   "execution_count": 2,
   "id": "47ed02c2-a23a-4741-bacd-d217762832af",
   "metadata": {},
   "outputs": [
    {
     "name": "stdout",
     "output_type": "stream",
     "text": [
      "True\n",
      "False\n"
     ]
    }
   ],
   "source": [
    "golden_ratio=1.78\n",
    "# condition less than\n",
    "print(golden_ratio<2)\n",
    "print(golden_ratio<1)"
   ]
  },
  {
   "cell_type": "code",
   "execution_count": 6,
   "id": "711ddc7d-0bd3-4341-ab30-64e5b1d202d6",
   "metadata": {},
   "outputs": [
    {
     "name": "stdout",
     "output_type": "stream",
     "text": [
      "True\n",
      "False\n",
      "True\n"
     ]
    }
   ],
   "source": [
    "#condition less than or equal to\n",
    "golden_Ratio=1.45\n",
    "print(golden_Ratio<=2)\n",
    "print(golden_Ratio<=1)\n",
    "print(golden_Ratio<=1.45)"
   ]
  },
  {
   "cell_type": "code",
   "execution_count": 10,
   "id": "2751dfb6-9b43-46f3-9651-c317d771c98d",
   "metadata": {},
   "outputs": [
    {
     "name": "stdout",
     "output_type": "stream",
     "text": [
      "False\n",
      "True\n"
     ]
    }
   ],
   "source": [
    "# condtion greater than\n",
    "golden_ratio=56.78\n",
    "print(golden_ratio>57)\n",
    "print(golden_ratio>56)"
   ]
  },
  {
   "cell_type": "code",
   "execution_count": 14,
   "id": "f5e159fd-562a-405d-ae99-69477bf6d645",
   "metadata": {},
   "outputs": [
    {
     "name": "stdout",
     "output_type": "stream",
     "text": [
      "False\n",
      "True\n",
      "False\n"
     ]
    }
   ],
   "source": [
    "# condition greater than or equal to\n",
    "golden_ration=56.78\n",
    "print(golden_ratio>57)\n",
    "print(golden_ratio>56)\n",
    "print(golden_ratio>=57.78)"
   ]
  },
  {
   "cell_type": "code",
   "execution_count": 5,
   "id": "6f48e1a9-5d17-4506-b9e4-6c496beffa2a",
   "metadata": {},
   "outputs": [
    {
     "name": "stdout",
     "output_type": "stream",
     "text": [
      "False\n",
      "True\n"
     ]
    }
   ],
   "source": [
    "# conditional equal to\n",
    "\n",
    "golden_ratio=1.618\n",
    "print(golden_ratio==2)\n",
    "print(golden_ratio==1.618)"
   ]
  },
  {
   "cell_type": "code",
   "execution_count": 7,
   "id": "f77018b0-87b6-46c7-b846-7bb43f69820c",
   "metadata": {},
   "outputs": [
    {
     "name": "stdout",
     "output_type": "stream",
     "text": [
      "True\n",
      "False\n"
     ]
    }
   ],
   "source": [
    "# condition not equal to\n",
    "golden_ratio=1.618\n",
    "print(golden_ratio!=9)\n",
    "print(golden_ratio!=1.618)"
   ]
  },
  {
   "cell_type": "code",
   "execution_count": 11,
   "id": "2e2fd75b-8efd-4f5a-8bc3-9f7dcd8b8680",
   "metadata": {},
   "outputs": [
    {
     "name": "stdout",
     "output_type": "stream",
     "text": [
      "False\n",
      "True\n",
      "True\n",
      "False\n",
      "True\n",
      "False\n",
      "True\n",
      "False\n",
      "False\n"
     ]
    }
   ],
   "source": [
    "print(\"hello\"==\"python\")\n",
    "print(\"hello\"!=\"python\")\n",
    "print(\"hello\"<=\"python\")\n",
    "print(\"hello\">=\"python\")\n",
    "print(\"hello\"<\"python\")\n",
    "print(\"hello\">\"python\")\n",
    "print(\"B\">\"A\") #according to ASCII table the values of A and B are equal to 65 and 66, respectively.\n",
    "print(\"a\">\"b\") #according to ASCII table the values of a and b are equal to 97 and 98,respectively.\n",
    "print(\"CD\">\"DC\") #according to ASCII table the values of CD and DC are equal C(67) is lower than that of D(68)."
   ]
  },
  {
   "cell_type": "markdown",
   "id": "c62914bc-b2c3-4dd3-9d99-eae65258924f",
   "metadata": {},
   "source": [
    "# IF CONDITION:"
   ]
  },
  {
   "cell_type": "code",
   "execution_count": 20,
   "id": "26acb6dc-9309-4170-865e-a78d44cd375a",
   "metadata": {},
   "outputs": [
    {
     "name": "stdout",
     "output_type": "stream",
     "text": [
      "the number pi= 3.14 is greater than the golden_ratio= 1.618\n"
     ]
    }
   ],
   "source": [
    "pi=3.14\n",
    "golden_ratio=1.618\n",
    "if pi>golden_ratio:\n",
    "    print(f\"the number pi= {pi} is greater than the golden_ratio= {golden_ratio}\")"
   ]
  },
  {
   "cell_type": "markdown",
   "id": "2602f276-8345-438b-9c7b-47cb45c76c1c",
   "metadata": {},
   "source": [
    "# if else condition:"
   ]
  },
  {
   "cell_type": "code",
   "execution_count": 23,
   "id": "9505b3a4-dffa-457f-a291-e4874ebf8fc6",
   "metadata": {},
   "outputs": [
    {
     "name": "stdout",
     "output_type": "stream",
     "text": [
      "the golden ratio=1.618 is lower than number of pi=3.14\n",
      "done!\n"
     ]
    }
   ],
   "source": [
    "pi = 3.14\n",
    "golden_ratio = 1.618\n",
    "\n",
    "if pi<= golden_ratio:\n",
    "    print(f\"the number of pi={pi} is greater than number of golden_ratio={golden_ratio}\")\n",
    "else:\n",
    "    print(f\"the golden ratio={golden_ratio} is lower than number of pi={pi}\")\n",
    "print(\"done!\")"
   ]
  },
  {
   "cell_type": "markdown",
   "id": "57810144-3905-4639-81e4-43929fbdfc6f",
   "metadata": {},
   "source": [
    "# if elif else conditon:"
   ]
  },
  {
   "cell_type": "code",
   "execution_count": 26,
   "id": "f00ac689-3740-4262-85db-e5252c69a83a",
   "metadata": {},
   "outputs": [
    {
     "name": "stdout",
     "output_type": "stream",
     "text": [
      "you should go to kindergarten\n",
      "Done!\n"
     ]
    }
   ],
   "source": [
    "age=5\n",
    "if age>6:\n",
    "    print(\"you can go to primary school\")\n",
    "elif age==5:\n",
    "    print(\"you should go to kindergarten\")\n",
    "else:\n",
    "    print(\"you are a baby\")\n",
    "print(\"Done!\")\n"
   ]
  },
  {
   "cell_type": "code",
   "execution_count": 46,
   "id": "e9ee648c-4b73-4729-bd35-fdbad9414dc6",
   "metadata": {},
   "outputs": [
    {
     "name": "stdout",
     "output_type": "stream",
     "text": [
      "Done!\n"
     ]
    }
   ],
   "source": [
    "album_year=2000\n",
    "album_year=1990\n",
    "\n",
    "if album_year==1990  album_year==2000:\n",
    "    print(\"album year is higher than 1995\")\n",
    "print(\"Done!\")"
   ]
  },
  {
   "cell_type": "code",
   "execution_count": 34,
   "id": "b6b5ba90-2076-4879-b48e-c5d2b7f252aa",
   "metadata": {},
   "outputs": [
    {
     "name": "stdout",
     "output_type": "stream",
     "text": [
      "album year is lower than album_year\n"
     ]
    }
   ],
   "source": [
    "album_year=2000\n",
    "album_year=1990\n",
    "\n",
    "if album_year>=1995:\n",
    "    print(\"album year is higher than album_year\")\n",
    "else:\n",
    "    print(\"album year is lower than album_year\")"
   ]
  },
  {
   "cell_type": "code",
   "execution_count": 50,
   "id": "39490e78-df50-4a89-a0c5-216a226ca12f",
   "metadata": {},
   "outputs": [
    {
     "name": "stdout",
     "output_type": "stream",
     "text": [
      "the movie could win oscar\n"
     ]
    }
   ],
   "source": [
    "imdb_point=9.0\n",
    "if imdb_point>8.5:\n",
    "    print(\"the movie could win oscar\")"
   ]
  },
  {
   "cell_type": "code",
   "execution_count": 54,
   "id": "e969455a-ed1a-453a-bc9e-fd71978a079f",
   "metadata": {},
   "outputs": [
    {
     "name": "stdin",
     "output_type": "stream",
     "text": [
      "enter the rating number 5.6\n"
     ]
    },
    {
     "name": "stdout",
     "output_type": "stream",
     "text": [
      "the entered movie rating is :5.6\n",
      "The movie has merit to be watched with 5.6rating\n"
     ]
    }
   ],
   "source": [
    "movie_rating=float(input(\"enter the rating number\"))\n",
    "\n",
    "print(f\"the entered movie rating is :{movie_rating}\")\n",
    "if movie_rating>8.5:\n",
    "    print(\"The movie is awesome with{} rating and should watch it\".format(movie_rating))\n",
    "else:\n",
    "    print(\"The movie has merit to be watched with {}rating\".format(movie_rating))"
   ]
  },
  {
   "cell_type": "code",
   "execution_count": 64,
   "id": "0756a1be-4482-4ab6-8190-dc3caa4edf27",
   "metadata": {},
   "outputs": [
    {
     "name": "stdin",
     "output_type": "stream",
     "text": [
      "Enter the rating number of the movie 5.6\n"
     ]
    },
    {
     "name": "stdout",
     "output_type": "stream",
     "text": [
      "the entered movie rating is:5.6\n",
      "The movie is not that much we expected and with5.6rating\n"
     ]
    }
   ],
   "source": [
    "movie_rating=float(input(\"Enter the rating number of the movie\"))\n",
    "print(f\"the entered movie rating is:{movie_rating}\")\n",
    "if movie_rating>9.5:\n",
    "    print(\"The movie is awesome with {}movie_rating  you should watch it\".format(movie_rating))\n",
    "else:\n",
    "    print(\"The movie is not that much we expected and with{}rating\".format(movie_rating))\n"
   ]
  },
  {
   "cell_type": "code",
   "execution_count": 68,
   "id": "30cf6014-ccf3-4f82-a0f7-8878d51ab701",
   "metadata": {},
   "outputs": [
    {
     "name": "stdin",
     "output_type": "stream",
     "text": [
      "Enter the instance status is running , stopped or terminated terminated\n"
     ]
    },
    {
     "name": "stdout",
     "output_type": "stream",
     "text": [
      "the instance is terminated\n"
     ]
    }
   ],
   "source": [
    "instance_status = input(\"Enter the instance status is running , stopped or terminated\")\n",
    "if instance_status == \"running\":\n",
    "    print(\"the instance is health and running \")\n",
    "elif instance_status == \"stopped\":\n",
    "    print(\"the instance is not running instance status is stopped\")\n",
    "elif instance_status == \"terminated\":\n",
    "    print(\"the instance is terminated\")"
   ]
  },
  {
   "cell_type": "code",
   "execution_count": 80,
   "id": "88813000-c19f-4743-845c-58ad830f2935",
   "metadata": {},
   "outputs": [
    {
     "name": "stdin",
     "output_type": "stream",
     "text": [
      "enter the bucket size in gb 55\n"
     ]
    },
    {
     "name": "stdout",
     "output_type": "stream",
     "text": [
      "the s3 bucket size is within the acceptable range\n"
     ]
    }
   ],
   "source": [
    "s3_bucket_size=float(input(\"enter the bucket size in gb\"))\n",
    "if s3_bucket_size>200:\n",
    "    print(\"the  s3 bucket size is large. consider optimizing storage\")\n",
    "else:\n",
    "    print(\"the s3 bucket size is within the acceptable range\")\n",
    "\n"
   ]
  },
  {
   "cell_type": "code",
   "execution_count": 82,
   "id": "c8d6b0fa-6d2b-489b-a126-cc6202af03a0",
   "metadata": {},
   "outputs": [
    {
     "name": "stdin",
     "output_type": "stream",
     "text": [
      "enter disk usage space 45\n"
     ]
    },
    {
     "name": "stdout",
     "output_type": "stream",
     "text": [
      "disk_usage is in normal condition\n"
     ]
    }
   ],
   "source": [
    "disk_space=int(input(\"enter disk usage space\"))\n",
    "if disk_space>95:\n",
    "    print(\"Alert! Disk usage is in critical position\")\n",
    "elif disk_space>70:\n",
    "    print(\"Alert! Disk_usage is in high condition\")\n",
    "else:\n",
    "    print(\"disk_usage is in normal condition\")"
   ]
  },
  {
   "cell_type": "code",
   "execution_count": 106,
   "id": "d139a29f-377c-4a07-8e1d-d081d80e20e6",
   "metadata": {},
   "outputs": [
    {
     "name": "stdin",
     "output_type": "stream",
     "text": [
      "enter the latency network in milliseconds 101\n"
     ]
    },
    {
     "name": "stdout",
     "output_type": "stream",
     "text": [
      "ERROR\n"
     ]
    }
   ],
   "source": [
    "latency_ms=int(input(\"enter the latency network in milliseconds\"))\n",
    "if latency_ms<=100:\n",
    "    print(\"The latency network is high\")\n",
    "elif latency_ms>100:\n",
    "    print(\"ERROR\")\n",
    "else:\n",
    "    print(\"The latency network is normal\")"
   ]
  },
  {
   "cell_type": "code",
   "execution_count": 118,
   "id": "bb2c743f-6533-4be1-962a-859af3ef36f2",
   "metadata": {},
   "outputs": [
    {
     "name": "stdin",
     "output_type": "stream",
     "text": [
      "enter the note 79\n"
     ]
    },
    {
     "name": "stdout",
     "output_type": "stream",
     "text": [
      "The entered note value is:79.0\n",
      "the letter grade is E\n"
     ]
    }
   ],
   "source": [
    "note=float(input(\"enter the note\"))\n",
    "print(f\"The entered note value is:{note}\")\n",
    "if note>=90 and note<=100:\n",
    "    print(\"the letter grade is A\")\n",
    "elif note>=85 and note <=89:\n",
    "    print(\"the letter grade is B\")\n",
    "elif note>=80 and note <=84:\n",
    "    print(\"the letter grade is C\")\n",
    "elif note>=79 and note<=75:\n",
    "    print(\"the letter grade is D\")\n",
    "else:\n",
    "    print(\"the letter grade is E\")"
   ]
  },
  {
   "cell_type": "code",
   "execution_count": null,
   "id": "fa9a648d-2a78-422b-abc2-291982de4a59",
   "metadata": {},
   "outputs": [],
   "source": []
  },
  {
   "cell_type": "code",
   "execution_count": null,
   "id": "4a62ec06-8f9c-4f3d-aaa2-377b6ea1151f",
   "metadata": {},
   "outputs": [],
   "source": []
  },
  {
   "cell_type": "code",
   "execution_count": null,
   "id": "92bc2a99-b10d-4869-a868-875542c017b0",
   "metadata": {},
   "outputs": [],
   "source": [
    "# you cannot use any variables if you are not assigning any value to it or declare it before."
   ]
  },
  {
   "cell_type": "code",
   "execution_count": 11,
   "id": "c80367c8-c266-42d6-ab21-93bf8d3aed95",
   "metadata": {},
   "outputs": [
    {
     "name": "stdout",
     "output_type": "stream",
     "text": [
      "num is divisible by 5\n"
     ]
    }
   ],
   "source": [
    "#check divisibility by 5\n",
    "num=1055\n",
    "if num%5==0:\n",
    "    print(\"num is divisible by 5\")\n",
    "else:\n",
    "    print(\"no num is not divisible by 5\")"
   ]
  },
  {
   "cell_type": "code",
   "execution_count": 13,
   "id": "bf7d2bb9-a736-4964-85cd-8c0584c467cc",
   "metadata": {},
   "outputs": [
    {
     "name": "stdout",
     "output_type": "stream",
     "text": [
      "positive\n"
     ]
    }
   ],
   "source": [
    "#positive or negative number check\n",
    "num=78\n",
    "if num>=0:\n",
    "    print(\"positive\")\n",
    "else:\n",
    "    print(\"negative\")"
   ]
  },
  {
   "cell_type": "code",
   "execution_count": 15,
   "id": "39c30287-0ce4-4f6e-a3f5-b65b31ca4f27",
   "metadata": {},
   "outputs": [
    {
     "name": "stdout",
     "output_type": "stream",
     "text": [
      "no num not multiple by 3 and 7 \n"
     ]
    }
   ],
   "source": [
    "#check multiple by 3 or 7\n",
    "num=34567\n",
    "if num*3 and num*7 ==0:\n",
    "    print(\"multiple with 3 and 7\")\n",
    "else:\n",
    "    print(\"no num not multiple by 3 and 7 \")"
   ]
  },
  {
   "cell_type": "code",
   "execution_count": 17,
   "id": "64cf83ef-cd25-4964-bbf2-1c5e6d915dc5",
   "metadata": {},
   "outputs": [
    {
     "name": "stdout",
     "output_type": "stream",
     "text": [
      "second number is greater\n"
     ]
    }
   ],
   "source": [
    "#greater number check\n",
    "num_1=45\n",
    "num_2=88\n",
    "if num_1 > num_2:\n",
    "    print(\"first numbe is greater\")\n",
    "else:\n",
    "    print(\"second number is greater\")\n",
    "    "
   ]
  },
  {
   "cell_type": "code",
   "execution_count": 106,
   "id": "69abeb65-7d00-4396-adc5-438af81cf23d",
   "metadata": {},
   "outputs": [
    {
     "name": "stdout",
     "output_type": "stream",
     "text": [
      "number of instances to run: 7\n"
     ]
    }
   ],
   "source": [
    "current_instances=5\n",
    "cpu_utilization =105 # in percentage\n",
    "if cpu_utilization > 80:\n",
    "    additional_instances=(cpu_utilization - 80) // 10 # add one instance for every 10%  over 80%\n",
    "    new_instances = current_instances + additional_instances\n",
    "else:\n",
    "    new_instance = current_instances\n",
    "print(\"number of instances to run:\", new_instances)\n",
    "    "
   ]
  },
  {
   "cell_type": "code",
   "execution_count": 108,
   "id": "9e2d20af-a054-40f4-90d3-a598a7a27202",
   "metadata": {},
   "outputs": [
    {
     "name": "stdout",
     "output_type": "stream",
     "text": [
      "2\n"
     ]
    }
   ],
   "source": [
    "num=25\n",
    "print(num//10)"
   ]
  },
  {
   "cell_type": "code",
   "execution_count": 4,
   "id": "2994c29f-4e2d-458a-ab5a-d73e8ce7af51",
   "metadata": {},
   "outputs": [
    {
     "name": "stdout",
     "output_type": "stream",
     "text": [
      "yes it is divisible\n"
     ]
    }
   ],
   "source": [
    "num=45\n",
    "# if the num is divisible by 9 or not?\n",
    "if num%9==0:\n",
    "    print(\"yes it is divisible\")\n",
    "else:\n",
    "    print('no its not divisible')"
   ]
  },
  {
   "cell_type": "code",
   "execution_count": 5,
   "id": "1bf67982-7e8e-4d47-873b-f6e584d79fb4",
   "metadata": {},
   "outputs": [
    {
     "name": "stdout",
     "output_type": "stream",
     "text": [
      "number of instances to run: 6\n"
     ]
    }
   ],
   "source": [
    "# resource scalung calculations:\n",
    "current_instances=5\n",
    "cpu_utilization =96\n",
    "\n",
    "if cpu_utilization > 80:\n",
    "    additional_instances = (cpu_utilization-80)//10\n",
    "    new_instances=current_instances + additional_instances\n",
    "else:\n",
    "    new_instances = current_instances\n",
    "\n",
    "print(\"number of instances to run:\",new_instances)"
   ]
  },
  {
   "cell_type": "code",
   "execution_count": 17,
   "id": "0e568e7b-7777-488b-bbf9-e0eb3cf549ca",
   "metadata": {},
   "outputs": [
    {
     "name": "stdout",
     "output_type": "stream",
     "text": [
      "number of instances to run: 5\n"
     ]
    }
   ],
   "source": [
    "# resource scalung calculations:\n",
    "current_instances=5\n",
    "cpu_utlization=85\n",
    "if cpu_utlization>85:\n",
    "    additional_instances=(cpu_utlization-85)//10\n",
    "    new_instance=current_instances+additional_instances\n",
    "else:\n",
    "    new_instances=current_instances\n",
    "print(\"number of instances to run:\",new_instances)"
   ]
  },
  {
   "cell_type": "code",
   "execution_count": 23,
   "id": "b39c6387-c51c-4d24-acdb-1aab6bfca40f",
   "metadata": {},
   "outputs": [
    {
     "name": "stdout",
     "output_type": "stream",
     "text": [
      "number of instances to run: 5\n"
     ]
    }
   ],
   "source": [
    "'''resource scalung calculations:'''\n",
    "current_instances=5\n",
    "cpu_utlization=85 #percentage\n",
    "if cpu_utlization>90:\n",
    "    additional_instances=(cpu_utlization-90)//10\n",
    "    new_instances=current_instances+additional_instances\n",
    "else:\n",
    "    new_instances=current_instances\n",
    "print(\"number of instances to run:\",new_instances)"
   ]
  },
  {
   "cell_type": "code",
   "execution_count": 65,
   "id": "cb091a37-1239-4a59-9b70-8664bb24de62",
   "metadata": {},
   "outputs": [
    {
     "name": "stdout",
     "output_type": "stream",
     "text": [
      "total cost for running instances:60.0.\n"
     ]
    }
   ],
   "source": [
    "# cost estimation\n",
    "instances_count = 10\n",
    "hourly_rate = 0.25\n",
    "hours = 24\n",
    "\n",
    "total_cost = instances_count * hourly_rate * hours\n",
    "print(\"total cost for running instances:{}.\".format(total_cost))"
   ]
  },
  {
   "cell_type": "code",
   "execution_count": 25,
   "id": "1a481602-7428-45da-bfab-bc33a617a1de",
   "metadata": {},
   "outputs": [
    {
     "name": "stdout",
     "output_type": "stream",
     "text": [
      "total cost of running instances: 540.0\n"
     ]
    }
   ],
   "source": [
    "#cost estimation\n",
    "instance_count=45\n",
    "hourly_rate=0.5\n",
    "hours=24\n",
    "total_cost=instance_count*hourly_rate*hours\n",
    "print(\"total cost of running instances:\",total_cost)"
   ]
  },
  {
   "cell_type": "code",
   "execution_count": 27,
   "id": "618c5d21-8030-426e-9821-d0e0882cc31b",
   "metadata": {},
   "outputs": [
    {
     "name": "stdout",
     "output_type": "stream",
     "text": [
      "total cost of running instances: 79.2\n"
     ]
    }
   ],
   "source": [
    "#cost estimation\n",
    "instance_running=6\n",
    "hourly_rate=0.55\n",
    "hours=24\n",
    "total_cost=instance_running*hourly_rate*hours\n",
    "print(\"total cost of running instances:\",total_cost)"
   ]
  },
  {
   "cell_type": "code",
   "execution_count": 17,
   "id": "0bd0796a-defa-4e22-8b92-df7bf7192b3b",
   "metadata": {},
   "outputs": [
    {
     "name": "stdout",
     "output_type": "stream",
     "text": [
      "number of backups to delete: 3\n"
     ]
    }
   ],
   "source": [
    "# backup rotation\n",
    "total_backups = 10\n",
    "retention_policy = 7\n",
    "\n",
    "if total_backups > retention_policy:\n",
    "    backups_to_delete = total_backups - retention_policy\n",
    "else:\n",
    "    backups_to_delete = 0\n",
    "\n",
    "print(\"number of backups to delete:\",backups_to_delete)"
   ]
  },
  {
   "cell_type": "code",
   "execution_count": 21,
   "id": "edfa4a1a-46d9-488e-9c7e-8f23af0b9a1e",
   "metadata": {},
   "outputs": [
    {
     "name": "stdout",
     "output_type": "stream",
     "text": [
      "alert status: False\n"
     ]
    }
   ],
   "source": [
    "log_errors=50\n",
    "total_logs=1000\n",
    "error_rate = (log_errors/total_logs) * 100\n",
    "if error_rate > 5:\n",
    "    alert = True\n",
    "else:\n",
    "    alert = False\n",
    "\n",
    "print(\"alert status:\",alert)"
   ]
  },
  {
   "cell_type": "code",
   "execution_count": 1,
   "id": "f2370377-1c7d-4bb5-911b-e5ef39f637c5",
   "metadata": {},
   "outputs": [
    {
     "name": "stdout",
     "output_type": "stream",
     "text": [
      "no it is not divisible\n"
     ]
    }
   ],
   "source": [
    "num=45\n",
    "if num%6==0:\n",
    "    print(\"yes it is divisible\")\n",
    "else:\n",
    "    print(\"no it is not divisible\")"
   ]
  },
  {
   "cell_type": "code",
   "execution_count": 7,
   "id": "081b4893-2787-4fb4-9074-5896283265b2",
   "metadata": {},
   "outputs": [
    {
     "name": "stdout",
     "output_type": "stream",
     "text": [
      "yeah it is even number\n"
     ]
    }
   ],
   "source": [
    "num=56\n",
    "if num%2==0:\n",
    "    print(\"yeah it is even number\")\n",
    "else:\n",
    "    print(\"no it is not even number\")\n"
   ]
  },
  {
   "cell_type": "code",
   "execution_count": 3,
   "id": "ac278deb-35e3-4e78-9241-2cbcad660c7c",
   "metadata": {},
   "outputs": [
    {
     "name": "stdout",
     "output_type": "stream",
     "text": [
      "yes it is divisible\n"
     ]
    }
   ],
   "source": [
    "num=13\n",
    "if num%13==0:\n",
    "    print(\"yes it is divisible\")\n",
    "\n",
    "else:\n",
    "    (\"no it is not divisble\")"
   ]
  },
  {
   "cell_type": "code",
   "execution_count": 17,
   "id": "bd49653a-9795-474c-bcf8-db2eba88da05",
   "metadata": {},
   "outputs": [
    {
     "name": "stdout",
     "output_type": "stream",
     "text": [
      "is in numbers say it true\n"
     ]
    }
   ],
   "source": [
    "#check if a  number is in a list.\n",
    "numbers=[56,78,89,79,561,899,46,]\n",
    "num=56\n",
    "if  num in numbers:\n",
    "    print(\"is in numbers say it true\")\n",
    "else:\n",
    "    print(\"not in numbers\")"
   ]
  },
  {
   "cell_type": "code",
   "execution_count": 9,
   "id": "22ea7bf2-3ec1-4461-ae9d-7423a32e39b5",
   "metadata": {},
   "outputs": [
    {
     "name": "stdout",
     "output_type": "stream",
     "text": [
      "no num is not in numbers\n"
     ]
    }
   ],
   "source": [
    "numbers=[23,2344,234343,34534355,5343435,3435354]\n",
    "num=4453\n",
    "if num in numbers:\n",
    "    print(\"num is in numbers\")\n",
    "else:\n",
    "    print(\"no num is not in numbers\")\n"
   ]
  },
  {
   "cell_type": "code",
   "execution_count": 11,
   "id": "14d91e85-9162-4ffd-b92e-ca5368cb10db",
   "metadata": {},
   "outputs": [
    {
     "name": "stdout",
     "output_type": "stream",
     "text": [
      "yeah its a even numbrer\n"
     ]
    }
   ],
   "source": [
    "# find if the given number is even or odd?\n",
    "\n",
    "num=90\n",
    "if num %2==0:\n",
    "    print(\"yeah its a even numbrer\")\n",
    "\n",
    "else:\n",
    "    print(\"no its not a even number\")"
   ]
  },
  {
   "cell_type": "code",
   "execution_count": 9,
   "id": "b22e49e5-0559-4113-b5b4-8c59c732bc7d",
   "metadata": {},
   "outputs": [
    {
     "name": "stdout",
     "output_type": "stream",
     "text": [
      "the character 'hello' is in the string\n"
     ]
    }
   ],
   "source": [
    "char =\"hello\"\n",
    "string=\"hello world\"\n",
    "\n",
    "if char in string:\n",
    "    print(f\"the character '{char}' is in the string\")\n",
    "\n",
    "else:\n",
    "    print(f\"the character '{char}' is not in the string.\")"
   ]
  },
  {
   "cell_type": "code",
   "execution_count": 58,
   "id": "fef615cb-0ceb-425c-a707-f5adc2700b15",
   "metadata": {},
   "outputs": [
    {
     "name": "stdout",
     "output_type": "stream",
     "text": [
      "The value of the number is ending with 0\n"
     ]
    }
   ],
   "source": [
    "# find if the given number is ending with a digit 0 or not.\n",
    "\n",
    "num_3=980980980\n",
    "\n",
    "if num_3%10==0:\n",
    "    print(\"The value of the number is ending with 0\" )\n",
    "\n",
    "else:\n",
    "    print(\"The value of the number is not ending with 0\")\n",
    "    "
   ]
  },
  {
   "cell_type": "code",
   "execution_count": 53,
   "id": "33ce5aaf-bf05-480a-a3d4-46acaf20c87e",
   "metadata": {},
   "outputs": [
    {
     "name": "stdout",
     "output_type": "stream",
     "text": [
      "the name of thr virus is sares_cov_2 and it causes covid_19\n"
     ]
    }
   ],
   "source": [
    "name=\"sares_cov_2\"\n",
    "disease=\"covid_19\"\n",
    "\n",
    "print(f\"the name of thr virus is {name} and it causes {disease}\")"
   ]
  },
  {
   "cell_type": "code",
   "execution_count": 1,
   "id": "27be5c53-f082-46bb-b394-e127933baf55",
   "metadata": {},
   "outputs": [
    {
     "name": "stdout",
     "output_type": "stream",
     "text": [
      "the last letter str_1[-1] is not a vowel\n"
     ]
    }
   ],
   "source": [
    "# given the string find if the last alphabet of the string is a vowel or not?\n",
    "str_1=\"watermelon\"\n",
    "vowels = \"aeiouAEIOU\"\n",
    "\n",
    "if str_1[-1] in vowels:\n",
    "    print(\"the last letter str_1[-1] is a vowel\")\n",
    "\n",
    "else:\n",
    "    print (\"the last letter str_1[-1] is not a vowel\")"
   ]
  },
  {
   "cell_type": "code",
   "execution_count": 70,
   "id": "bbc34d08-9551-4fc3-9380-a1934f87b4ac",
   "metadata": {},
   "outputs": [
    {
     "name": "stdin",
     "output_type": "stream",
     "text": [
      "The number is even or odd 56\n"
     ]
    },
    {
     "name": "stdout",
     "output_type": "stream",
     "text": [
      "The number is even.\n"
     ]
    }
   ],
   "source": [
    "# check even or odd\n",
    "num = int(input(\"The number is even or odd\"))\n",
    "if num % 2 == 0:\n",
    "    print(\"The number is even.\")\n",
    "\n",
    "else:\n",
    "    print(\"The number is odd.\")"
   ]
  },
  {
   "cell_type": "code",
   "execution_count": 72,
   "id": "25fc10e1-8fa7-42aa-8942-bc37fce863c3",
   "metadata": {},
   "outputs": [
    {
     "name": "stdin",
     "output_type": "stream",
     "text": [
      "The number is divisible by 5 25\n"
     ]
    },
    {
     "name": "stdout",
     "output_type": "stream",
     "text": [
      "The number is divisible by 5\n"
     ]
    }
   ],
   "source": [
    "# check Divisibilty by 5:\n",
    "num = int(input(\"The number is divisible by 5\"))\n",
    "if num % 5==0:\n",
    "    print(\"The number is divisible by 5\")\n",
    "else:\n",
    "    print(\"The number is not divisible by 5\")\n",
    "        "
   ]
  },
  {
   "cell_type": "code",
   "execution_count": 78,
   "id": "ccf2f097-74ed-4229-b45a-6469fc2be8f8",
   "metadata": {},
   "outputs": [
    {
     "name": "stdin",
     "output_type": "stream",
     "text": [
      "enter the number 0\n"
     ]
    },
    {
     "name": "stdout",
     "output_type": "stream",
     "text": [
      "The number is zero\n"
     ]
    }
   ],
   "source": [
    "# check if a number is positive, negative, or zero:\n",
    "num=int(input(\"enter the number\"))\n",
    "if num>0:\n",
    "    print(\"The number is positive\")\n",
    "\n",
    "elif num<0:\n",
    "    print(\"The number is negative\")\n",
    "\n",
    "else:\n",
    "    print(\"The number is zero\")\n",
    "    "
   ]
  },
  {
   "cell_type": "code",
   "execution_count": 84,
   "id": "29b72aa5-8d22-4077-aa93-184ab351c8d6",
   "metadata": {},
   "outputs": [
    {
     "name": "stdin",
     "output_type": "stream",
     "text": [
      "enter a character pencil\n"
     ]
    },
    {
     "name": "stdout",
     "output_type": "stream",
     "text": [
      "The character is consonant\n"
     ]
    }
   ],
   "source": [
    "#check if a character is vowel or consonant:\n",
    "char = input(\"enter a character\")\n",
    "if char in \"aeiou\":\n",
    "    print(\"The character is a vowel\")\n",
    "\n",
    "else:\n",
    "    print(\"The character is consonant\")"
   ]
  },
  {
   "cell_type": "code",
   "execution_count": 110,
   "id": "ca6dc8a3-9b36-4e4f-ac81-a7311d56d656",
   "metadata": {},
   "outputs": [
    {
     "name": "stdin",
     "output_type": "stream",
     "text": [
      "enter the year 2029\n"
     ]
    },
    {
     "name": "stdout",
     "output_type": "stream",
     "text": [
      "The year is not a leap year\n"
     ]
    }
   ],
   "source": [
    "## check if the entered year is a leap year:\n",
    "year=int(input(\"enter the year\"))\n",
    "if (year % 4==0 and year % 100 !=0 ) or(year % 400 ==0):\n",
    "    print( \"The year is a leap year\")\n",
    "else:\n",
    "    print(\"The year is not a leap year\")"
   ]
  },
  {
   "cell_type": "code",
   "execution_count": 118,
   "id": "d5845291-303f-4ea6-8e74-e8b4c9bdce4e",
   "metadata": {},
   "outputs": [
    {
     "name": "stdin",
     "output_type": "stream",
     "text": [
      "enter the number 3003\n"
     ]
    },
    {
     "name": "stdout",
     "output_type": "stream",
     "text": [
      "the number is not divisible by 4,400 and 100 is not divisible and also not equal to 0\n"
     ]
    }
   ],
   "source": [
    "# check the number is divisible wtih 4, 100 and 400\n",
    "num=int(input(\"enter the number\"))\n",
    "if (num %4==0 and num%100 !=0) or num %400==0:\n",
    "    print(\"the number is divisible by 4,400 and 100 is  divisible but  not equal to 0\")\n",
    "\n",
    "else:\n",
    "    print(\"the number is not divisible by 4,400 and 100 is not divisible and also not equal to 0\")"
   ]
  },
  {
   "cell_type": "code",
   "execution_count": 1,
   "id": "5184226f-4b49-4c28-af6a-80ba30f21252",
   "metadata": {},
   "outputs": [
    {
     "name": "stdin",
     "output_type": "stream",
     "text": [
      "enter the number 67\n"
     ]
    },
    {
     "name": "stdout",
     "output_type": "stream",
     "text": [
      "This number is not multiple of 7 or 11\n"
     ]
    }
   ],
   "source": [
    "#check if a number is a Multiple of 7 or 11:\n",
    "num=int(input(\"enter the number\"))\n",
    "if num *7==0 or num*11==0:\n",
    "    print(\"The number is a multiple of 7 or 11\")\n",
    "\n",
    "else:\n",
    "    print(\"This number is not multiple of 7 or 11\")"
   ]
  },
  {
   "cell_type": "code",
   "execution_count": 3,
   "id": "f46a748c-946b-4a6e-9111-8c72015fe9dc",
   "metadata": {},
   "outputs": [
    {
     "name": "stdin",
     "output_type": "stream",
     "text": [
      "enter the first number 56\n",
      "enter the second number 78\n"
     ]
    },
    {
     "name": "stdout",
     "output_type": "stream",
     "text": [
      "The largest number is 78\n"
     ]
    }
   ],
   "source": [
    "#find the largest of two numbers:\n",
    "a = int(input(\"enter the first number\"))\n",
    "b = int(input(\"enter the second number\"))\n",
    "if a>b:\n",
    "    print(f\"The largest number is{a}\")\n",
    "\n",
    "else:\n",
    "    print(f\"The largest number is {b}\")"
   ]
  },
  {
   "cell_type": "code",
   "execution_count": 150,
   "id": "38f72c1b-71a4-412f-badc-b065cf2d570e",
   "metadata": {},
   "outputs": [
    {
     "name": "stdin",
     "output_type": "stream",
     "text": [
      "enter a string python\n"
     ]
    },
    {
     "name": "stdout",
     "output_type": "stream",
     "text": [
      "yes,python is a case sensitive\n"
     ]
    }
   ],
   "source": [
    "#given string, check if it contains the word \"python\"(case sensitive).\n",
    "string_4=(input(\"enter a string\"))\n",
    "if \"python\" in string_4:\n",
    "    print(\"yes,python is a case sensitive\")\n",
    "\n",
    "else:\n",
    "    print(\"no,python is  not a case sensitive\")"
   ]
  },
  {
   "cell_type": "code",
   "execution_count": 13,
   "id": "8afb6d4f-077c-4492-85d9-0a2c2e760ee5",
   "metadata": {},
   "outputs": [
    {
     "name": "stdin",
     "output_type": "stream",
     "text": [
      "enter a number: 78\n"
     ]
    },
    {
     "name": "stdout",
     "output_type": "stream",
     "text": [
      "The number is not prime.\n"
     ]
    }
   ],
   "source": [
    "#check if a number is prime:\n",
    "num = int(input(\"enter a number:\"))\n",
    "if num > 1:\n",
    "    for i in range(2, int(num ** 0.5) + 1):\n",
    "        if num % i == 0:\n",
    "            print(\"The number is not prime.\")\n",
    "            break\n",
    "            \n",
    "        else:\n",
    "            print(\"The number is prime.\")\n",
    "    else:\n",
    "         print(\"The number is not prime\")"
   ]
  },
  {
   "cell_type": "code",
   "execution_count": 7,
   "id": "7cd144c8-94dd-4bde-86af-bb82b4df6cc5",
   "metadata": {},
   "outputs": [
    {
     "name": "stdout",
     "output_type": "stream",
     "text": [
      "first and last characters are not same\n"
     ]
    }
   ],
   "source": [
    "# Write a program to check if the first and last characters of a string are the same.\n",
    "\n",
    "str_5=\"dinosuar\"\n",
    "\n",
    "if str_5[0]==str_5[-1]:\n",
    "     print('first and last characters of the str_5 are same')\n",
    "\n",
    "else:\n",
    "    print('first and last characters are not same')\n",
    "    "
   ]
  },
  {
   "cell_type": "markdown",
   "id": "dbf2b0e9-eef5-4923-8192-f5729a98f443",
   "metadata": {
    "jp-MarkdownHeadingCollapsed": true
   },
   "source": [
    "## if without else"
   ]
  },
  {
   "cell_type": "code",
   "execution_count": 66,
   "id": "9aaa2245-1813-45b2-a2ed-cb97b11c8241",
   "metadata": {},
   "outputs": [
    {
     "name": "stdout",
     "output_type": "stream",
     "text": [
      "apple\n"
     ]
    }
   ],
   "source": [
    "string=\"apple\"\n",
    "\n",
    "if string [-1] in \"aeiou\":\n",
    "    print(string)"
   ]
  },
  {
   "cell_type": "code",
   "execution_count": 72,
   "id": "22775fe2-34b5-4962-8f93-d32c828a83d6",
   "metadata": {},
   "outputs": [
    {
     "name": "stdout",
     "output_type": "stream",
     "text": [
      "apple\n"
     ]
    }
   ],
   "source": [
    "if string[-1] in \"aeiou\":\n",
    "    print(string)\n",
    "\n",
    "else:()"
   ]
  },
  {
   "cell_type": "code",
   "execution_count": 82,
   "id": "18f812fe-22e4-4263-a5f3-3e22624e8cd9",
   "metadata": {},
   "outputs": [
    {
     "name": "stdin",
     "output_type": "stream",
     "text": [
      "enter the string you want to check banana\n"
     ]
    },
    {
     "name": "stdout",
     "output_type": "stream",
     "text": [
      "apple\n"
     ]
    }
   ],
   "source": [
    "string_1=input(\"enter the string you want to check\")\n",
    "\n",
    "# if the string last alphabet is ending with vowel then print the string else print nothing.\n",
    "\n",
    "if string[-1] in \"aeiou\":\n",
    "    print(string)"
   ]
  },
  {
   "cell_type": "code",
   "execution_count": 102,
   "id": "816d0850-b46f-44f5-b39e-85a0c742c52d",
   "metadata": {},
   "outputs": [
    {
     "name": "stdin",
     "output_type": "stream",
     "text": [
      "enter the string you want to check banana\n"
     ]
    },
    {
     "name": "stdout",
     "output_type": "stream",
     "text": [
      "banana\n"
     ]
    }
   ],
   "source": [
    "string=input(\"enter the string you want to check\")\n",
    "\n",
    "# if the string last alphabet is ending with vowel then print the string else print nothing.\n",
    "\n",
    "if string[-1] in \"aeiou\":\n",
    "    print(string)"
   ]
  },
  {
   "cell_type": "code",
   "execution_count": 110,
   "id": "0a959a8b-641c-4b32-b7cd-a6bb01dd46af",
   "metadata": {},
   "outputs": [
    {
     "name": "stdin",
     "output_type": "stream",
     "text": [
      "enter the number you want to check 98867785464\n"
     ]
    },
    {
     "name": "stdout",
     "output_type": "stream",
     "text": [
      "no it is not ending with zero\n"
     ]
    }
   ],
   "source": [
    "num_4=int(input(\"enter the number you want to check\"))\n",
    "if num_4%10==0:\n",
    "    print(\"the number is ending with the digit zero\")\n",
    "\n",
    "else:\n",
    "    print(\"no it is not ending with zero\")"
   ]
  },
  {
   "cell_type": "code",
   "execution_count": 114,
   "id": "69c651ce-ba29-4b7b-8349-2e7d17345788",
   "metadata": {},
   "outputs": [
    {
     "name": "stdin",
     "output_type": "stream",
     "text": [
      "enter the number (78,89,87,34,345,3545,2435,4345,554455)\n"
     ]
    },
    {
     "name": "stdout",
     "output_type": "stream",
     "text": [
      "(78,89,87,34,345,3545,2435,4345,554455)\n"
     ]
    }
   ],
   "source": [
    "x=input(\"enter the number\")\n",
    "print(x)"
   ]
  },
  {
   "cell_type": "code",
   "execution_count": 118,
   "id": "3df64b51-9fd0-4000-b7de-936ae16c079a",
   "metadata": {},
   "outputs": [
    {
     "name": "stdin",
     "output_type": "stream",
     "text": [
      "check the user given number is positive or not -987\n"
     ]
    },
    {
     "name": "stdout",
     "output_type": "stream",
     "text": [
      "no its not positive number\n"
     ]
    }
   ],
   "source": [
    "# check if the given number by user is a positive number or not.\n",
    "\n",
    "\n",
    "num_7=int(input(\"check the user given number is positive or not\"))\n",
    "                \n",
    "if num_7>0:\n",
    "    print(\"yes user given number is positive\")\n",
    "\n",
    "else:\n",
    "    print(\"no its not positive number\")"
   ]
  },
  {
   "cell_type": "code",
   "execution_count": 126,
   "id": "d713a602-a0fd-47cd-9276-048c64660024",
   "metadata": {},
   "outputs": [
    {
     "name": "stdin",
     "output_type": "stream",
     "text": [
      "the number will be divisible by 3 and 5 565785\n"
     ]
    },
    {
     "name": "stdout",
     "output_type": "stream",
     "text": [
      "yes given number will divisible by 3 and 5\n"
     ]
    }
   ],
   "source": [
    "# check if the number enter by the user is divisible by both 3 and 5:\n",
    "number=int(input(\"the number will be divisible by 3 and 5\"))\n",
    "if number%3==0 and number%5==0:\n",
    "    print(\"yes given number will divisible by 3 and 5\")\n",
    "\n",
    "else:\n",
    "    print(\"no the number cant divisble by 3 and 5\")"
   ]
  },
  {
   "cell_type": "code",
   "execution_count": null,
   "id": "5664249f-f902-4798-9cc0-b2d094d2f961",
   "metadata": {},
   "outputs": [],
   "source": []
  },
  {
   "cell_type": "code",
   "execution_count": null,
   "id": "a2fa53b9-fc6c-4a0d-bd78-8ca11a207aec",
   "metadata": {},
   "outputs": [],
   "source": []
  },
  {
   "cell_type": "code",
   "execution_count": 128,
   "id": "9c80f9d2-70a5-4ef7-87cd-ac34dcaeb80e",
   "metadata": {},
   "outputs": [
    {
     "name": "stdin",
     "output_type": "stream",
     "text": [
      "enter age 23\n"
     ]
    },
    {
     "name": "stdout",
     "output_type": "stream",
     "text": [
      "your eligible for vote\n"
     ]
    }
   ],
   "source": [
    "age=int(input(\"enter age\"))\n",
    "if age>=18:\n",
    "    print(\"your eligible for vote\")"
   ]
  },
  {
   "cell_type": "code",
   "execution_count": 142,
   "id": "3d1f5d04-089f-4254-881a-2fcf8f4ec0b6",
   "metadata": {},
   "outputs": [
    {
     "name": "stdin",
     "output_type": "stream",
     "text": [
      "enter age -11\n"
     ]
    },
    {
     "name": "stdout",
     "output_type": "stream",
     "text": [
      "yes it is a negitive number \n"
     ]
    }
   ],
   "source": [
    "age=int(input(\"enter age\"))\n",
    "if(age<0):\n",
    "    print(\"yes it is a negitive number \")"
   ]
  },
  {
   "cell_type": "code",
   "execution_count": null,
   "id": "2e140aef-8483-42b7-b77a-acf2009cde57",
   "metadata": {},
   "outputs": [],
   "source": []
  },
  {
   "cell_type": "markdown",
   "id": "57a86c35-d681-49a2-971a-c10ed44b15eb",
   "metadata": {},
   "source": [
    "## if elif else:"
   ]
  },
  {
   "cell_type": "code",
   "execution_count": 10,
   "id": "5fd7e2ef-e08d-4e66-8f5c-a6ebe0a38efa",
   "metadata": {},
   "outputs": [
    {
     "name": "stdin",
     "output_type": "stream",
     "text": [
      "Please enter your service number:  1004\n"
     ]
    },
    {
     "name": "stdout",
     "output_type": "stream",
     "text": [
      "The electricity bill for service number 1004 is: ₹0\n"
     ]
    }
   ],
   "source": [
    "# Dictionary to store service numbers and corresponding units consumed\n",
    "service_data = {\n",
    "    \"1001\": 50,   # Service number 1001 consumed 50 units\n",
    "    \"1002\": 150,  # Service number 1002 consumed 150 units\n",
    "    \"1003\": 250,  # Service number 1003 consumed 250 units\n",
    "    \"1004\": 0     # Service number 1004 consumed 0 units\n",
    "}\n",
    "\n",
    "# Input: Get the service number from the user\n",
    "service_number = input(\"Please enter your service number: \")\n",
    "\n",
    "# Check if the service number exists in the database\n",
    "if service_number in service_data:\n",
    "    # Get the number of units consumed for the given service number\n",
    "    units = service_data[service_number]\n",
    "\n",
    "    # Calculate the electricity bill\n",
    "    if units > 0 and units <= 100:\n",
    "        bill = units * 7\n",
    "    elif units > 100 and units <= 200:\n",
    "        bill = (100 * 7) + (units - 100) * 10\n",
    "    elif units > 200:\n",
    "        bill = (100 * 7) + (100 * 10) + (units - 200) * 16\n",
    "    else:\n",
    "        bill = 0  # For zero units, no bill\n",
    "\n",
    "    # Output the electricity bill\n",
    "    print(f\"The electricity bill for service number {service_number} is: ₹{bill}\")\n",
    "else:\n",
    "    print(\"Invalid service number. Please check and try again.\")\n"
   ]
  },
  {
   "cell_type": "markdown",
   "id": "3c940d56-9c05-4834-b6d2-289c04c8b008",
   "metadata": {},
   "source": [
    "# write a program, to calculate electricity bill as per the below rates of consumption.\n",
    "\n",
    "0-100 charge 7rs/unit:\n",
    "\n",
    "100-200 charge 10rs/unit:\n",
    "\n",
    ">200 charge 16rs/unit:\n"
   ]
  },
  {
   "cell_type": "code",
   "execution_count": 15,
   "id": "5c08cb68-4b89-4a96-b58e-0406bd11f847",
   "metadata": {},
   "outputs": [
    {
     "name": "stdin",
     "output_type": "stream",
     "text": [
      "please enter the number of units consumed 567\n"
     ]
    },
    {
     "name": "stdout",
     "output_type": "stream",
     "text": [
      "The electricity bill is 7572\n"
     ]
    }
   ],
   "source": [
    "units=int(input(\"please enter the number of units consumed\"))\n",
    "\n",
    "if units>0 and units<=100:\n",
    "    bill=units*7\n",
    "    print(\"The electricity bill is\",bill)\n",
    "\n",
    "elif units>100 and units<=200:\n",
    "    bill=(100*7)+(unit-100)*10\n",
    "    print(\"The electricity bill is\",bill)\n",
    "else:\n",
    "    bill=100*7+100*10+(units-200)*16\n",
    "    print(\"The electricity bill is\",bill)"
   ]
  },
  {
   "cell_type": "code",
   "execution_count": null,
   "id": "6016cf3f-f503-4f4b-b8f2-7c267ac811af",
   "metadata": {},
   "outputs": [],
   "source": [
    "# road tax calculator:\n",
    "vehicle price <100000 -------------->5% of the vehicle price\n",
    "betweem 100000 to 200000 ----------->10% of the vehicle price\n",
    "greater than 200000---------------->12.5% of the vehicle price"
   ]
  },
  {
   "cell_type": "code",
   "execution_count": 45,
   "id": "14c97eeb-4af9-4844-89a9-17fd41c9f222",
   "metadata": {},
   "outputs": [
    {
     "name": "stdin",
     "output_type": "stream",
     "text": [
      "Please enter the vechile price 70000\n"
     ]
    },
    {
     "name": "stdout",
     "output_type": "stream",
     "text": [
      "The vehicle price is  70000 The road tax of a vehcile is 8750.0\n"
     ]
    }
   ],
   "source": [
    "vehicle_price = int(input(\"Please enter the vechile price\"))\n",
    "if vehicleprice < 100000:\n",
    "    roadtax = vehicle_price * 0.05\n",
    "\n",
    "elif vehicle_price > 100000 and vehicle_price <= 200000:\n",
    "    roadtax = vehicle_price * 0.10\n",
    "\n",
    "else:\n",
    "    road_tax=vehicle_price * 0.125\n",
    "    \n",
    "    \n",
    "print(\"The vehicle price is \",vehicle_price,\"The road tax of a vehcile is\",road_tax)"
   ]
  },
  {
   "cell_type": "code",
   "execution_count": null,
   "id": "94ecc864-cb7e-40ef-92b5-8dea2ab4b5ac",
   "metadata": {},
   "outputs": [],
   "source": []
  },
  {
   "cell_type": "code",
   "execution_count": null,
   "id": "21bcc4f3-faf9-4a8c-9d8a-71451edb3927",
   "metadata": {},
   "outputs": [],
   "source": []
  },
  {
   "cell_type": "markdown",
   "id": "8e789ed2-df38-41c0-ab6f-cd35838b1ae6",
   "metadata": {},
   "source": [
    "## Nested if else:"
   ]
  },
  {
   "cell_type": "code",
   "execution_count": null,
   "id": "6e83d090-72c8-48da-ad20-74764bb11188",
   "metadata": {},
   "outputs": [],
   "source": [
    "if condition:\n",
    "    if condition:\n",
    "    else:\n",
    "\n",
    "else:"
   ]
  },
  {
   "cell_type": "code",
   "execution_count": 9,
   "id": "d40dc392-d66a-4043-8e74-c837d9fdcfae",
   "metadata": {},
   "outputs": [
    {
     "name": "stdin",
     "output_type": "stream",
     "text": [
      "please enter your age 16\n"
     ]
    },
    {
     "name": "stdout",
     "output_type": "stream",
     "text": [
      "The person does not have the correct age to vote\n"
     ]
    }
   ],
   "source": [
    "# check if the age entered by user is a valid age for voting or not if its a valid check if its valid checj if the age belongs to old age category:\n",
    "age=int(input(\"please enter your age\"))\n",
    "\n",
    "if age>=18:\n",
    "    print(\"The person is eligible for voting\")\n",
    "\n",
    "    if age>=60:\n",
    "        print(\"the person belongs to the senior category\")\n",
    "    else:\n",
    "        print(\"eligible for voting but doesnot belong to senior citizen category\")\n",
    "\n",
    "else:\n",
    "    print(\"The person does not have the correct age to vote\")"
   ]
  },
  {
   "cell_type": "code",
   "execution_count": null,
   "id": "03dbdcd0-e9c0-40e9-bc51-6241ab93eb1d",
   "metadata": {},
   "outputs": [],
   "source": [
    "Email validation check:\n",
    "if email add is valid by first checking if its not empty\n",
    "Then check if it contains an \"@\" symbol\n",
    "finally check if it ends.com or .in"
   ]
  },
  {
   "cell_type": "code",
   "execution_count": 57,
   "id": "b131118a-4c18-4d87-934a-0d21245a2c66",
   "metadata": {},
   "outputs": [
    {
     "name": "stdin",
     "output_type": "stream",
     "text": [
      "enter your email address: prudhviachuth772999@gmail.com\n"
     ]
    },
    {
     "name": "stdout",
     "output_type": "stream",
     "text": [
      "well done. your email is in a vaild format\n"
     ]
    }
   ],
   "source": [
    "#email validation check:\n",
    "email = input(\"enter your email address:\")\n",
    "\n",
    "if email ==\"\":\n",
    "    print(\"you haven't entered your email id: please enter\")\n",
    "\n",
    "else:\n",
    "    if \"@\"  in email:\n",
    "        if email.lower().endswith(('.com','.in')):\n",
    "            print(\"well done. your email is in a vaild format\")\n",
    "        else:\n",
    "            print(\"your email should end with domains: .com/.in check again and enter the email with correct domain\")\n",
    "    else:\n",
    "        print(\"email should be in a valid format. it should contain the symbol@. check and enter again\")\n",
    "\n"
   ]
  },
  {
   "cell_type": "markdown",
   "id": "cf85f5ed-3326-4251-8e2b-f0d021069f01",
   "metadata": {},
   "source": [
    "# string operators:"
   ]
  },
  {
   "cell_type": "code",
   "execution_count": 14,
   "id": "bc92fddb-6bf0-49b4-8a9a-a0ad9ceaa6b7",
   "metadata": {},
   "outputs": [],
   "source": [
    "str_1=(\"hey how are you man and where is your hoouse?\")"
   ]
  },
  {
   "cell_type": "code",
   "execution_count": 16,
   "id": "6325c274-55fa-466a-a188-b21b446d2a17",
   "metadata": {},
   "outputs": [
    {
     "data": {
      "text/plain": [
       "'?'"
      ]
     },
     "execution_count": 16,
     "metadata": {},
     "output_type": "execute_result"
    }
   ],
   "source": [
    "str_1[-1]\n"
   ]
  },
  {
   "cell_type": "code",
   "execution_count": 18,
   "id": "7f944ef9-ae1c-4002-a845-f992c4914a0f",
   "metadata": {},
   "outputs": [
    {
     "data": {
      "text/plain": [
       "'hey how are you man and where is your hoouse?'"
      ]
     },
     "execution_count": 18,
     "metadata": {},
     "output_type": "execute_result"
    }
   ],
   "source": [
    "str_1.lower()"
   ]
  },
  {
   "cell_type": "code",
   "execution_count": 20,
   "id": "baad6d10-27c1-4a5a-9524-47942bf8810a",
   "metadata": {},
   "outputs": [
    {
     "data": {
      "text/plain": [
       "'HEY HOW ARE YOU MAN AND WHERE IS YOUR HOOUSE?'"
      ]
     },
     "execution_count": 20,
     "metadata": {},
     "output_type": "execute_result"
    }
   ],
   "source": [
    "str_1.upper()"
   ]
  },
  {
   "cell_type": "code",
   "execution_count": 22,
   "id": "794a786d-5cf2-47d4-a987-4dbc706b753d",
   "metadata": {},
   "outputs": [
    {
     "data": {
      "text/plain": [
       "['hey', 'how', 'are', 'you', 'man', 'and', 'where', 'is', 'your', 'hoouse?']"
      ]
     },
     "execution_count": 22,
     "metadata": {},
     "output_type": "execute_result"
    }
   ],
   "source": [
    "str_1.split()"
   ]
  },
  {
   "cell_type": "code",
   "execution_count": 32,
   "id": "d1c40e76-e41c-4beb-ae14-a35a07bd097c",
   "metadata": {},
   "outputs": [
    {
     "data": {
      "text/plain": [
       "'hello how are you man and where is your hoouse?'"
      ]
     },
     "execution_count": 32,
     "metadata": {},
     "output_type": "execute_result"
    }
   ],
   "source": [
    "str_1.replace(\"hey\",\"hello\")"
   ]
  },
  {
   "cell_type": "code",
   "execution_count": 40,
   "id": "52df8808-dcb5-4c46-afde-624cd84cc234",
   "metadata": {},
   "outputs": [
    {
     "data": {
      "text/plain": [
       "True"
      ]
     },
     "execution_count": 40,
     "metadata": {},
     "output_type": "execute_result"
    }
   ],
   "source": [
    "#end swith\n",
    "str_2=\"I love to play badminton\"\n",
    "\n",
    "str_2.endswith(\"badminton\")"
   ]
  },
  {
   "cell_type": "code",
   "execution_count": 46,
   "id": "9c90a7a0-3d80-44d6-a4e7-1ffa6352ff63",
   "metadata": {},
   "outputs": [
    {
     "data": {
      "text/plain": [
       "<function str.find>"
      ]
     },
     "execution_count": 46,
     "metadata": {},
     "output_type": "execute_result"
    }
   ],
   "source": [
    "str_2.find"
   ]
  },
  {
   "cell_type": "code",
   "execution_count": 48,
   "id": "5e35c661-5add-4b4c-a606-b3c91b485d37",
   "metadata": {},
   "outputs": [
    {
     "data": {
      "text/plain": [
       "'play'"
      ]
     },
     "execution_count": 48,
     "metadata": {},
     "output_type": "execute_result"
    }
   ],
   "source": [
    "# you want to check endswith for some particular term coming in between of the strin:\n",
    "\n",
    "str_2[10:14]"
   ]
  },
  {
   "cell_type": "code",
   "execution_count": 52,
   "id": "115457bf-da49-4c35-aefa-3dd08e8c96f6",
   "metadata": {},
   "outputs": [
    {
     "data": {
      "text/plain": [
       "True"
      ]
     },
     "execution_count": 52,
     "metadata": {},
     "output_type": "execute_result"
    }
   ],
   "source": [
    "str_2[10:14].endswith(\"play\")"
   ]
  },
  {
   "cell_type": "code",
   "execution_count": 54,
   "id": "f4aea452-bd98-4387-9241-31c1325bcd58",
   "metadata": {},
   "outputs": [
    {
     "data": {
      "text/plain": [
       "True"
      ]
     },
     "execution_count": 54,
     "metadata": {},
     "output_type": "execute_result"
    }
   ],
   "source": [
    "# you want to check if the string is of digit type\n",
    "\n",
    "\"123456\".isdigit()"
   ]
  },
  {
   "cell_type": "code",
   "execution_count": 56,
   "id": "b6c7d6c7-6c2e-4f86-a211-baf3e2969cdf",
   "metadata": {},
   "outputs": [
    {
     "data": {
      "text/plain": [
       "False"
      ]
     },
     "execution_count": 56,
     "metadata": {},
     "output_type": "execute_result"
    }
   ],
   "source": [
    "\"123457sfr08908\".isdigit()"
   ]
  },
  {
   "cell_type": "code",
   "execution_count": 37,
   "id": "c2398cd8-a0ad-4e74-b187-526fe30a82aa",
   "metadata": {},
   "outputs": [],
   "source": [
    "class student:\n",
    "    def __init__(self,name,science,social,english):\n",
    "        self.name=name\n",
    "        self.science=science\n",
    "        self.social=social\n",
    "        self.english=english\n",
    "    def calculate_average(self):\n",
    "        average_marks=(self.science + self.social + self.english)/3\n",
    "        print(f\"the average marks for {self.name} is {average_marks:.2f}\")\n",
    "       "
   ]
  },
  {
   "cell_type": "code",
   "execution_count": 39,
   "id": "332759ca-ae0a-41d8-9f67-a070f7d72d83",
   "metadata": {},
   "outputs": [],
   "source": [
    "s1=student(\"prakash\",34,35,46)"
   ]
  },
  {
   "cell_type": "code",
   "execution_count": 41,
   "id": "025c9939-f00c-441d-b5ac-8065cfdac83a",
   "metadata": {},
   "outputs": [
    {
     "name": "stdout",
     "output_type": "stream",
     "text": [
      "the average marks for prakash is 38.33\n"
     ]
    }
   ],
   "source": [
    "s1.calculate_average()"
   ]
  },
  {
   "cell_type": "code",
   "execution_count": null,
   "id": "4559a9c4-cc8e-4595-9ccc-e2379f97b5b4",
   "metadata": {},
   "outputs": [],
   "source": []
  }
 ],
 "metadata": {
  "kernelspec": {
   "display_name": "Python 3 (ipykernel)",
   "language": "python",
   "name": "python3"
  },
  "language_info": {
   "codemirror_mode": {
    "name": "ipython",
    "version": 3
   },
   "file_extension": ".py",
   "mimetype": "text/x-python",
   "name": "python",
   "nbconvert_exporter": "python",
   "pygments_lexer": "ipython3",
   "version": "3.12.7"
  }
 },
 "nbformat": 4,
 "nbformat_minor": 5
}
