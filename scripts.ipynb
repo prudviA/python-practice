{
 "cells": [
  {
   "cell_type": "markdown",
   "id": "3bd399dd-585b-45e7-9e0a-7a1acd4440cc",
   "metadata": {},
   "source": [
    "### python scripts as a aws devops real-time scenarios."
   ]
  },
  {
   "cell_type": "code",
   "execution_count": 10,
   "id": "0012cc71-baed-4ea1-93bf-682028732d1b",
   "metadata": {},
   "outputs": [
    {
     "name": "stdout",
     "output_type": "stream",
     "text": [
      "total running instance: 8\n"
     ]
    }
   ],
   "source": [
    "# resource scaling calculations:\n",
    "'''Scenario: Automatically Calculate the Number of Instances Based on CPU Utilization\n",
    "Problem: Add more instances if the CPU utilization exceeds a certain threshold.'''\n",
    "\n",
    "current_instance=7\n",
    "cpu_utilization=95\n",
    "\n",
    "if cpu_utilization>80:\n",
    "    additional_instance=(cpu_utilization-80)//10\n",
    "    new_instance=current_instance+additional_instance\n",
    "else:\n",
    "    new_instance=current_instance\n",
    "print(\"total running instance:\",new_instance)"
   ]
  },
  {
   "cell_type": "code",
   "execution_count": 12,
   "id": "3073e739-9d42-43b3-9ea9-00263bf3e8eb",
   "metadata": {},
   "outputs": [
    {
     "name": "stdout",
     "output_type": "stream",
     "text": [
      "warning: high cost detected\n"
     ]
    }
   ],
   "source": [
    "# cost estimation\n",
    "'''scenario:estimate the cost of running instance'''\n",
    "instance_count=20\n",
    "hourly_rate=0.25\n",
    "hours=24\n",
    "\n",
    "total_cost=instance_count * hourly_rate*hours\n",
    "\n",
    "if total_cost>100:\n",
    "    print(\"warning: high cost detected\")\n",
    "else:\n",
    "    print(\"total cost for running instance:\",total_cost)\n",
    "\n"
   ]
  },
  {
   "cell_type": "code",
   "execution_count": 20,
   "id": "776db3d3-9660-4786-bbe8-0eacfb916aa5",
   "metadata": {},
   "outputs": [
    {
     "name": "stdout",
     "output_type": "stream",
     "text": [
      "backups to delete: 10\n"
     ]
    }
   ],
   "source": [
    "#backup rotation\n",
    "'''scenario:calcualte the rotation schedule for backups'''\n",
    "#detemine how many  backups to keep based on retention policy.\n",
    "total_backups=20\n",
    "retention_policy=10  # keep backups for 10 days\n",
    "\n",
    "if total_backups > retention_policy:\n",
    "    backups_to_delete = total_backups - retention_policy\n",
    "else:\n",
    "    backups_to_delete = 0\n",
    "\n",
    "if backups_to_delete > 0:\n",
    "    print(\"backups to delete:\", backups_to_delete)\n",
    "else:\n",
    "    print(\"no backups to delete. All backups are within the retention policy.\")"
   ]
  },
  {
   "cell_type": "code",
   "execution_count": 70,
   "id": "ce32f088-82c0-4916-9c0d-21b94972d229",
   "metadata": {},
   "outputs": [
    {
     "name": "stdout",
     "output_type": "stream",
     "text": [
      "alert! moderate error rate detected: 2941.176470588235\n"
     ]
    }
   ],
   "source": [
    "# log monitoring and alrets\n",
    "# MONITOR LOG FILES AND TRIGGER ALERTS\n",
    "\n",
    "total_logs=1000\n",
    "error_logs=34\n",
    "error_rate=(total_logs/error_logs) * 100\n",
    "if error_rate>10:\n",
    "    print(\"alert! moderate error rate detected:\", error_rate)\n",
    "elif error_rate>15:\n",
    "    print(\"alert! high error rate detected:\", error_rate)\n",
    "elif error_rate>5:\n",
    "    print(\"alert! error rate detecting:\", error_rate)\n",
    "else:\n",
    "    print(\"no error rate is detected till yet\",error_rate)"
   ]
  },
  {
   "cell_type": "markdown",
   "id": "207fc348-3c6c-4d1d-be6a-9fe6ccbd228d",
   "metadata": {},
   "source": [
    "## nested conditions"
   ]
  },
  {
   "cell_type": "code",
   "execution_count": 6,
   "id": "a3fefe35-c003-42f3-b702-85294e8f5a48",
   "metadata": {},
   "outputs": [
    {
     "name": "stdout",
     "output_type": "stream",
     "text": [
      "number of instances to run: 13\n"
     ]
    }
   ],
   "source": [
    "current_instances=10\n",
    "cpu_utilization = 92 # in percentages\n",
    "memory_utilization = 82\n",
    "disk_utilization = 88\n",
    "\n",
    "if cpu_utilization > 90:\n",
    "    if memory_utilization > 80:\n",
    "        additional_instances = 3\n",
    "    else:\n",
    "        additional_instances = 2\n",
    "elif cpu_utilization > 80:\n",
    "    if disk_utilization > 85:\n",
    "        additional_instances = 2\n",
    "    else:\n",
    "        additional_instances = 1\n",
    "else:\n",
    "    additional_instances=0\n",
    "\n",
    "new_instances= current_instances + additional_instances\n",
    "print(\"number of instances to run:\",new_instances)"
   ]
  },
  {
   "cell_type": "code",
   "execution_count": 18,
   "id": "f0e7a5be-e8d4-4d47-981d-4a6114456edb",
   "metadata": {},
   "outputs": [
    {
     "name": "stdout",
     "output_type": "stream",
     "text": [
      "number of instances to run: 13\n"
     ]
    }
   ],
   "source": [
    "current_instances=10\n",
    "cpu_utilization=92\n",
    "memory_utilization=88\n",
    "disk_utilization=82\n",
    "\n",
    "if cpu_utilization>90:\n",
    "    if memory_utilization>80:\n",
    "        additional_instances=3\n",
    "    else:\n",
    "        additional_instances=2\n",
    "elif cpu_utilization>88:\n",
    "    if disk_utilization>80:\n",
    "        additional_instances=2\n",
    "    else:\n",
    "        additional_instances=1\n",
    "else:\n",
    "    additional_instances=0\n",
    "new_instances = current_instances + additional_instances\n",
    "print(\"number of instances to run:\",new_instances)"
   ]
  },
  {
   "cell_type": "code",
   "execution_count": 20,
   "id": "27150f13-4a70-47f5-b3b9-ec27083dd4a4",
   "metadata": {},
   "outputs": [
    {
     "name": "stdout",
     "output_type": "stream",
     "text": [
      "I like apple\n",
      "I like banana\n",
      "I like cherry\n"
     ]
    }
   ],
   "source": [
    "fruits = [\"apple\", \"banana\", \"cherry\"]\n",
    "\n",
    "for fruit in fruits:\n",
    "    print(f\"I like {fruit}\")"
   ]
  },
  {
   "cell_type": "code",
   "execution_count": null,
   "id": "fc67aa98-eca4-427b-ab59-fedafc55c93c",
   "metadata": {},
   "outputs": [],
   "source": []
  }
 ],
 "metadata": {
  "kernelspec": {
   "display_name": "Python 3 (ipykernel)",
   "language": "python",
   "name": "python3"
  },
  "language_info": {
   "codemirror_mode": {
    "name": "ipython",
    "version": 3
   },
   "file_extension": ".py",
   "mimetype": "text/x-python",
   "name": "python",
   "nbconvert_exporter": "python",
   "pygments_lexer": "ipython3",
   "version": "3.12.7"
  }
 },
 "nbformat": 4,
 "nbformat_minor": 5
}
