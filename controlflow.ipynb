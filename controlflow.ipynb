{
 "cells": [
  {
   "cell_type": "markdown",
   "id": "63913a90-7db7-424d-885e-7b8eb66af3c9",
   "metadata": {},
   "source": [
    "# controlflow statements:"
   ]
  },
  {
   "cell_type": "raw",
   "id": "2eaeb851-4093-4eb8-967e-fad0eac3db86",
   "metadata": {},
   "source": [
    "loops:\n",
    "something which keeps on performing the repeatative process untill we stop it we call them as loop.\n",
    "\n",
    "There are two types of loops:\n",
    "1.for loop\n",
    "2.while loop"
   ]
  },
  {
   "cell_type": "raw",
   "id": "0bc0771d-c91c-4d32-8473-d048fec1b4f7",
   "metadata": {},
   "source": [
    "# we can perform loops only on iterative datatypes:\n",
    "what are the iterative datatypes:\n",
    "non primitive data types including string."
   ]
  },
  {
   "cell_type": "code",
   "execution_count": 57,
   "id": "baddf38e-22b7-413a-8ea1-c155a9a3b26c",
   "metadata": {},
   "outputs": [
    {
     "name": "stdout",
     "output_type": "stream",
     "text": [
      "19,22,34,56,778,"
     ]
    }
   ],
   "source": [
    "list_1=[19,22,34,56,778]\n",
    "\n",
    "for i in list_1:\n",
    "    print(i,end=\",\")"
   ]
  },
  {
   "cell_type": "code",
   "execution_count": 9,
   "id": "494da6d4-ff06-4529-9c6a-3a1528037832",
   "metadata": {},
   "outputs": [
    {
     "name": "stdout",
     "output_type": "stream",
     "text": [
      "apple\n",
      "233\n",
      "bat\n"
     ]
    }
   ],
   "source": [
    "str_2=\"apple\",233,\"bat\"\n",
    "\n",
    "for i in str_2:\n",
    "    print(i)"
   ]
  },
  {
   "cell_type": "code",
   "execution_count": 19,
   "id": "0f7f3898-8ecb-4349-81cf-bee5ee562759",
   "metadata": {},
   "outputs": [
    {
     "name": "stdout",
     "output_type": "stream",
     "text": [
      "34\n",
      "67\n",
      "iphone\n",
      "bikes\n",
      "cars\n",
      "45\n"
     ]
    }
   ],
   "source": [
    "set_3={\"iphone\",34,\"bikes\",45,67,\"cars\"}\n",
    "\n",
    "for i in set_3:\n",
    "    print(i)"
   ]
  },
  {
   "cell_type": "code",
   "execution_count": 13,
   "id": "075c4b98-770e-4b42-b2ad-b1b5b4dda400",
   "metadata": {},
   "outputs": [
    {
     "name": "stdout",
     "output_type": "stream",
     "text": [
      "{'a', 'e', 't'}\n"
     ]
    }
   ],
   "source": [
    "list_str=[\"apple\",\"banana\",\"cat\",\"mouse\"]\n",
    "set_ans=set()\n",
    "for i in list_str:\n",
    "    set_ans.add(i[-1])\n",
    "print (set_ans)"
   ]
  },
  {
   "cell_type": "code",
   "execution_count": 19,
   "id": "8c91f4e4-ae04-4cc9-b090-c3e4cfe130a5",
   "metadata": {},
   "outputs": [
    {
     "name": "stdout",
     "output_type": "stream",
     "text": [
      "{'apple': 'e', 'banana': 'a', 'cat': 't', 'mouse': 'e'}\n"
     ]
    }
   ],
   "source": [
    "list_str=[\"apple\",\"banana\",\"cat\",\"mouse\"]\n",
    "dict_1={}\n",
    "\n",
    "for i in list_str:\n",
    "    dict_1[i]=i[-1]\n",
    "print(dict_1)"
   ]
  },
  {
   "cell_type": "code",
   "execution_count": 23,
   "id": "7e48ac60-8854-412b-bc10-297906bff965",
   "metadata": {},
   "outputs": [
    {
     "name": "stdout",
     "output_type": "stream",
     "text": [
      "['e', 'a', 't', 'e']\n"
     ]
    }
   ],
   "source": [
    "list_str=[\"apple\",\"banana\",\"cat\",\"mouse\"]\n",
    "list_ans=[]\n",
    "for i in list_str:\n",
    "    list_ans.append(i[-1])\n",
    "print(list_ans)"
   ]
  },
  {
   "cell_type": "code",
   "execution_count": 29,
   "id": "e9178512-a577-4286-a155-c982c7d26c3e",
   "metadata": {},
   "outputs": [
    {
     "name": "stdout",
     "output_type": "stream",
     "text": [
      "[144, 529, 6084]\n"
     ]
    }
   ],
   "source": [
    "dict_2={\"val_1\":12,\"val_2\":23,\"val_3\":78}\n",
    "list_sqr=[]\n",
    "for i in dict_2.values():\n",
    "    list_sqr.append(i**2)\n",
    "print(list_sqr)"
   ]
  },
  {
   "cell_type": "code",
   "execution_count": 37,
   "id": "94e6eab2-51fa-428c-acfe-7b6fe351c77a",
   "metadata": {},
   "outputs": [
    {
     "name": "stdin",
     "output_type": "stream",
     "text": [
      "enter the string apple\n"
     ]
    },
    {
     "name": "stdout",
     "output_type": "stream",
     "text": [
      "e\n",
      "l\n",
      "p\n",
      "p\n",
      "a\n"
     ]
    }
   ],
   "source": [
    "str_in=input(\"enter the string\")\n",
    "for i in str_in[::-1]:\n",
    "    print(i)"
   ]
  },
  {
   "cell_type": "code",
   "execution_count": 39,
   "id": "fca679f1-3527-41fe-a0bd-9a02b2f5266e",
   "metadata": {},
   "outputs": [
    {
     "name": "stdout",
     "output_type": "stream",
     "text": [
      "8\n"
     ]
    }
   ],
   "source": [
    "#write a python program that accepts a string and calculate the number of digit in it.\n",
    "count=0\n",
    "string=\"12344524@megha\"\n",
    "for i in string:\n",
    "    if i.isdigit()==True:\n",
    "        count+=1\n",
    "print(count)"
   ]
  },
  {
   "cell_type": "code",
   "execution_count": 77,
   "id": "bba4e4ab-fd84-4c50-9842-7aa7a088005f",
   "metadata": {},
   "outputs": [
    {
     "name": "stdin",
     "output_type": "stream",
     "text": [
      "enter the name of the month: may\n"
     ]
    },
    {
     "name": "stdout",
     "output_type": "stream",
     "text": [
      "May has 31 days\n"
     ]
    }
   ],
   "source": [
    "# write  a program to print the number of days for the month entered by user.\n",
    "months_30_days=[\"april\",\"june\",\"september\",\"november\"]\n",
    "\n",
    "month_31_days=[\"january\",\"march\",\"may\",\"july\",\"august\",\"october\",\"december\"]\n",
    "\n",
    "month=input(\"enter the name of the month:\").lower()\n",
    "\n",
    "if month in months_30_days:\n",
    "    print(f\"{month.capitalize()} has 30 days\")\n",
    "    \n",
    "elif month == \"february\":\n",
    "    print(f\"{month.capitalize()} has either 28 days or 29 days\")\n",
    "    \n",
    "elif month in month_31_days:\n",
    "    print(f\"{month.capitalize()} has 31 days\")\n",
    "else:\n",
    "    print(f\"{month.capitalize()} is not a valid month\")"
   ]
  },
  {
   "cell_type": "code",
   "execution_count": 75,
   "id": "3d71c099-a6c6-46e2-93fe-f46b07d4117f",
   "metadata": {},
   "outputs": [
    {
     "name": "stdin",
     "output_type": "stream",
     "text": [
      "Enter the name of the month: may\n"
     ]
    },
    {
     "name": "stdout",
     "output_type": "stream",
     "text": [
      "May has 31 days\n"
     ]
    }
   ],
   "source": [
    "# List of months with 30 and 31 days\n",
    "months_30_days = [\"april\", \"june\", \"september\", \"november\"]\n",
    "month_31_days = [\"january\", \"march\", \"may\", \"july\", \"august\", \"october\", \"december\"]\n",
    "\n",
    "# Prompt user for the month\n",
    "month = input(\"Enter the name of the month:\").lower()  # Convert input to lowercase for consistency\n",
    "\n",
    "# Check the number of days in the month\n",
    "if month in months_30_days:\n",
    "    print(f\"{month.capitalize()} has 30 days\")\n",
    "elif month == \"february\":\n",
    "    print(f\"{month.capitalize()} has either 28 days or 29 days\")\n",
    "elif month in month_31_days:\n",
    "    print(f\"{month.capitalize()} has 31 days\")\n",
    "else:\n",
    "    print(f\"{month.capitalize()} is not a valid month\")\n",
    "\n"
   ]
  },
  {
   "cell_type": "code",
   "execution_count": 89,
   "id": "cf7fdc3f-bae0-49ec-b5c8-a725e4c5760a",
   "metadata": {},
   "outputs": [
    {
     "name": "stdin",
     "output_type": "stream",
     "text": [
      "enter the name of the month: november\n"
     ]
    },
    {
     "name": "stdout",
     "output_type": "stream",
     "text": [
      "not valid month\n"
     ]
    }
   ],
   "source": [
    "dict1={('january','march','may','july','august','october','december'):31, ('febuary','april','june','september','november'):30}\n",
    "mon=input('enter the name of the month:').lower()\n",
    "if mon in dict1.keys():\n",
    "    if dict1[mon] ==31:\n",
    "        print('31 days')\n",
    "    else:\n",
    "        print('30 days')\n",
    "else:\n",
    "    print('not valid month')\n"
   ]
  },
  {
   "cell_type": "code",
   "execution_count": null,
   "id": "623ae4d8-922f-41db-ad78-fb31fd51d41b",
   "metadata": {},
   "outputs": [],
   "source": []
  },
  {
   "cell_type": "code",
   "execution_count": null,
   "id": "069680bf-0049-4069-be0e-dff3fbc50c9e",
   "metadata": {},
   "outputs": [],
   "source": []
  },
  {
   "cell_type": "code",
   "execution_count": 29,
   "id": "9f1df049-b83f-4352-8fe6-b74691a4ea8d",
   "metadata": {},
   "outputs": [
    {
     "name": "stdout",
     "output_type": "stream",
     "text": [
      "34\n",
      "67\n",
      "iphone\n",
      "bikes\n",
      "cars\n",
      "45\n"
     ]
    }
   ],
   "source": [
    "set_3={\"iphone\",34,\"bikes\",45,67,\"cars\"}\n",
    "i=frozenset(set_3)\n",
    "for item in set_3:\n",
    "    print(item)"
   ]
  },
  {
   "cell_type": "code",
   "execution_count": null,
   "id": "731f46c6-26f2-461f-876f-cc8ccd5acf80",
   "metadata": {},
   "outputs": [],
   "source": []
  },
  {
   "cell_type": "code",
   "execution_count": 7,
   "id": "bc255278-266c-4d51-b3e2-4b0b6ea7c2d9",
   "metadata": {},
   "outputs": [
    {
     "name": "stdout",
     "output_type": "stream",
     "text": [
      "iphone, 34, bikes, 45, 67, cars, "
     ]
    }
   ],
   "source": [
    "set_3={\"iphone\",34,\"bikes\",45,67,\"cars\"}\n",
    "ordered_list= [\"iphone\",34,\"bikes\",45,67,\"cars\"]\n",
    "for i in ordered_list:\n",
    "    print(i, end=\", \")"
   ]
  },
  {
   "cell_type": "code",
   "execution_count": 33,
   "id": "a5ff5cee-6e36-4dee-9459-a1846b982623",
   "metadata": {},
   "outputs": [
    {
     "name": "stdout",
     "output_type": "stream",
     "text": [
      "name\n",
      "age\n",
      "hobby\n"
     ]
    }
   ],
   "source": [
    "dict_1={\"name\":\"prudvi\",\"age\":20,\"hobby\":\"cricket\"}\n",
    "for i in dict_1:\n",
    "    print(i)"
   ]
  },
  {
   "cell_type": "code",
   "execution_count": 59,
   "id": "73578dba-e9f7-46d8-8565-78fe2a1cbd20",
   "metadata": {},
   "outputs": [
    {
     "name": "stdout",
     "output_type": "stream",
     "text": [
      "('area', 'madhurawada'),('duration', '20 days'),('quantity', 30),"
     ]
    }
   ],
   "source": [
    "dict_1={\"area\":\"madhurawada\",\"duration\":\"20 days\",\"quantity\":30}\n",
    "for i in dict_1.items():\n",
    "    print(i,end=\",\")"
   ]
  },
  {
   "cell_type": "code",
   "execution_count": 83,
   "id": "da9914d6-cd51-4c97-a18b-ee56398679f1",
   "metadata": {},
   "outputs": [
    {
     "name": "stdout",
     "output_type": "stream",
     "text": [
      "['e', 'e', 't', 'a']\n"
     ]
    }
   ],
   "source": [
    "#given list of the strings print the last alphabet of every string inside the list.\n",
    "\n",
    "list_str={\"apple\",\"cat\",\"mouse\",\"banana\"}\n",
    "list_ans=[]\n",
    "for i in list_str:\n",
    "    list_ans.append(i[-1])\n",
    "\n",
    "    \n",
    "print(list_ans)"
   ]
  },
  {
   "cell_type": "code",
   "execution_count": 85,
   "id": "c429ad57-cc8f-448e-92fa-53e3f9940ef3",
   "metadata": {},
   "outputs": [
    {
     "name": "stdout",
     "output_type": "stream",
     "text": [
      "['e', 'e', 't', 'a']\n"
     ]
    }
   ],
   "source": [
    "ist_str={\"apple\",\"cat\",\"mouse\",\"banana\"}\n",
    "set_ans=set()\n",
    "\n",
    "for i in list_str:\n",
    "    set_ans.add(i[-1])\n",
    "\n",
    "    \n",
    "print(list_ans)"
   ]
  },
  {
   "cell_type": "code",
   "execution_count": 87,
   "id": "7b24216d-b619-43f1-a13e-b26258d1154a",
   "metadata": {},
   "outputs": [
    {
     "name": "stdout",
     "output_type": "stream",
     "text": [
      "{'mouse': [-1], 'apple': [-1], 'cat': [-1], 'banana': [-1]}\n"
     ]
    }
   ],
   "source": [
    "ist_str={\"apple\",\"cat\",\"mouse\",\"banana\"}\n",
    "dict_1={}\n",
    "for i in list_str:\n",
    "    dict_1[i]=i=[-1]\n",
    "\n",
    "    \n",
    "print(dict_1)"
   ]
  },
  {
   "cell_type": "code",
   "execution_count": 13,
   "id": "040a8edb-77d0-49ab-b817-cb64535bdc40",
   "metadata": {},
   "outputs": [],
   "source": [
    "#given the dict find the square of all the values of the dict and print it inside the list:\n",
    "dict_2={\"val_1\":12,\"val_2\":23,\"val_3\":78}\n",
    "squared_values=[]\n",
    "for value in dict_2.values():\n",
    "    squared_values.append(value **2)\n",
    "#hints:\n",
    "# run for loop in the values of dict.\n",
    "# declare the empty list\n",
    "# append the squared value into empty list."
   ]
  },
  {
   "cell_type": "code",
   "execution_count": 17,
   "id": "f06d1ec7-c939-45bd-96f3-94918a74d1f6",
   "metadata": {},
   "outputs": [
    {
     "name": "stdout",
     "output_type": "stream",
     "text": [
      "[144, 529, 6084]\n"
     ]
    }
   ],
   "source": [
    "dict_2={\"val_1\":12,\"val_2\":23,\"val_3\":78}\n",
    "squared_values=[]\n",
    "for value in dict_2.values():\n",
    "    squared_values.append(value **2)\n",
    "print(squared_values)"
   ]
  },
  {
   "cell_type": "code",
   "execution_count": null,
   "id": "ffbac651-25d4-4433-8851-3419fd174de4",
   "metadata": {},
   "outputs": [],
   "source": [
    "# write a python program that accepts a word from the user and reverse it.\n",
    "#apple------->elppa\n",
    "\n",
    "#hints:\n",
    "# try to reverse the string with the help of slicing\n",
    "# run the for loop on the str\n",
    "# take the help of end for printing the values\n"
   ]
  },
  {
   "cell_type": "code",
   "execution_count": null,
   "id": "2587c55d-d9e9-4d95-8bc5-caaf1728ff39",
   "metadata": {},
   "outputs": [],
   "source": [
    "# write a python program that accepts a string and calculate the number of digits in it.\n",
    "#hints:\n",
    "#run for loop over string\n",
    "#check with the help of string method\n",
    "# make a count of it"
   ]
  },
  {
   "cell_type": "code",
   "execution_count": null,
   "id": "61bbbfae-0f8d-4c93-b97c-f94098de2a29",
   "metadata": {},
   "outputs": [],
   "source": [
    "#write a program to print the number of days for the month entered by user.\n",
    "#hints:\n",
    "decalare one list of months that has 30days.\n",
    "use conditional statement to solve this problem.\n"
   ]
  },
  {
   "cell_type": "markdown",
   "id": "b01715c6-7762-47b6-b5f9-baffe43ee4d7",
   "metadata": {},
   "source": [
    "### range():\n",
    "range syntax\n",
    "range(starting number,ending number+1,jumps)"
   ]
  },
  {
   "cell_type": "code",
   "execution_count": 6,
   "id": "55f09ece-6c26-4570-9305-af363dc1f8f9",
   "metadata": {},
   "outputs": [
    {
     "name": "stdout",
     "output_type": "stream",
     "text": [
      "the number 1\n",
      "the number 3\n",
      "the number 5\n",
      "the number 7\n",
      "the number 9\n"
     ]
    }
   ],
   "source": [
    "for i in range(1,10+1,2):\n",
    "    print(f\"the number {i}\") "
   ]
  },
  {
   "cell_type": "code",
   "execution_count": 14,
   "id": "7a07c637-2593-4612-aed9-565a82657b67",
   "metadata": {},
   "outputs": [
    {
     "name": "stdout",
     "output_type": "stream",
     "text": [
      "2\n",
      "4\n",
      "6\n",
      "8\n",
      "10\n",
      "12\n",
      "14\n",
      "16\n",
      "18\n",
      "20\n",
      "22\n",
      "24\n"
     ]
    }
   ],
   "source": [
    "#print the table to 2 with the help of range\n",
    "for i in range(2,24+1,2):\n",
    "    print(i)"
   ]
  },
  {
   "cell_type": "code",
   "execution_count": 18,
   "id": "5c1520cf-1c0c-4fda-baa3-e850105f5006",
   "metadata": {},
   "outputs": [
    {
     "name": "stdout",
     "output_type": "stream",
     "text": [
      " 3* 1 = 3\n",
      " 3* 2 = 6\n",
      " 3* 3 = 9\n",
      " 3* 4 = 12\n",
      " 3* 5 = 15\n",
      " 3* 6 = 18\n",
      " 3* 7 = 21\n",
      " 3* 8 = 24\n",
      " 3* 9 = 27\n",
      " 3* 10 = 30\n"
     ]
    }
   ],
   "source": [
    "for i in range(1,11):\n",
    "    print(f\" 3* {i} =\", 3*i)"
   ]
  },
  {
   "cell_type": "markdown",
   "id": "cf086336-a6e4-4ba2-a172-727d7adac305",
   "metadata": {},
   "source": [
    "## enumerate():\n"
   ]
  },
  {
   "cell_type": "code",
   "execution_count": 37,
   "id": "88c56c90-ed17-4d7f-bc43-828dd59ac9e7",
   "metadata": {},
   "outputs": [
    {
     "name": "stdout",
     "output_type": "stream",
     "text": [
      "0 10\n",
      "1 20\n",
      "2 4050\n",
      "3 3350\n"
     ]
    }
   ],
   "source": [
    "list_1=[10,20,4050,3350] # enumerate helpsm us to find the index position of the respective objects present inside the iteratives.\n",
    "for i in enumerate(list_1): #enumerate prints the ans in the format of tuple where 1st item is the index and 2nd item is the object.\n",
    "    print(i[0] ,i[-1])#we can treat them same as that of the tuple data type."
   ]
  },
  {
   "cell_type": "code",
   "execution_count": 39,
   "id": "131c3884-4c28-4255-ac6d-b2158756cc40",
   "metadata": {},
   "outputs": [
    {
     "name": "stdout",
     "output_type": "stream",
     "text": [
      "(0, 34)\n",
      "(1, 23)\n",
      "(2, 'gojre')\n",
      "(3, 12)\n",
      "(4, 45)\n"
     ]
    }
   ],
   "source": [
    "set_1={12,23,34,45,\"gojre\"}\n",
    "for i in enumerate(set_1):\n",
    "    print(i)"
   ]
  },
  {
   "cell_type": "markdown",
   "id": "3a1144e8-14c7-4b4b-bff6-2dd881753949",
   "metadata": {},
   "source": [
    "## zip():"
   ]
  },
  {
   "cell_type": "code",
   "execution_count": 44,
   "id": "96f8c6bc-6a99-46ef-9697-156bdf6c9949",
   "metadata": {},
   "outputs": [
    {
     "name": "stdout",
     "output_type": "stream",
     "text": [
      "1 133\n",
      "2 454\n",
      "3 3543\n"
     ]
    }
   ],
   "source": [
    "#if we want to run the for loop over two or more iterative at a time then we take help of zip():\n",
    "\n",
    "list_n=[1,2,3,4,5]\n",
    "list_m=[133,454,3543]\n",
    "\n",
    "for i,j in zip(list_n,list_m):\n",
    "    print(i,j)"
   ]
  },
  {
   "cell_type": "code",
   "execution_count": 46,
   "id": "4a1e767a-26fc-4d7b-b35a-9955f40a1193",
   "metadata": {},
   "outputs": [
    {
     "name": "stdout",
     "output_type": "stream",
     "text": [
      "the first value of 1,and the second value is 133\n",
      "the first value of 2,and the second value is 454\n",
      "the first value of 3,and the second value is 3543\n"
     ]
    }
   ],
   "source": [
    "list_n=[1,2,3,4,5]\n",
    "list_m=[133,454,3543]\n",
    "\n",
    "for i,j in zip(list_n,list_m):\n",
    "    print(f'the first value of {i},and the second value is {j}')"
   ]
  },
  {
   "cell_type": "code",
   "execution_count": 54,
   "id": "b823f4f1-beb9-465b-be79-b9d0dc696008",
   "metadata": {},
   "outputs": [
    {
     "name": "stdout",
     "output_type": "stream",
     "text": [
      "the sum of 1 and 133 is : 134\n",
      "the sum of 2 and 454 is : 456\n",
      "the sum of 3 and 3543 is : 3546\n"
     ]
    }
   ],
   "source": [
    "list_n=[1,2,3,4,5]\n",
    "list_m=[133,454,3543]\n",
    "\n",
    "for i,j in zip(list_n,list_m):\n",
    "    print(f\"the sum of {i} and {j} is : {i+j}\")"
   ]
  },
  {
   "cell_type": "code",
   "execution_count": 60,
   "id": "0b4d9a50-7e25-4b1b-8b83-9de4877ee87d",
   "metadata": {},
   "outputs": [
    {
     "name": "stdout",
     "output_type": "stream",
     "text": [
      "[134, 456, 3546]\n"
     ]
    }
   ],
   "source": [
    "list_n=[1,2,3,4,5]\n",
    "list_m=[133,454,3543]\n",
    "output=[]\n",
    "for i,j in zip(list_n,list_m):\n",
    "    output.append(i+j)\n",
    "    \n",
    "print(output)\n",
    "    "
   ]
  },
  {
   "cell_type": "code",
   "execution_count": 62,
   "id": "b35fe060-a30e-4d05-9113-5296802cd753",
   "metadata": {},
   "outputs": [
    {
     "name": "stdin",
     "output_type": "stream",
     "text": [
      "please enter the number 12\n"
     ]
    },
    {
     "name": "stdout",
     "output_type": "stream",
     "text": [
      "the cube of number 1 is 1\n",
      "the cube of number 2 is 8\n",
      "the cube of number 3 is 27\n",
      "the cube of number 4 is 64\n",
      "the cube of number 5 is 125\n",
      "the cube of number 6 is 216\n",
      "the cube of number 7 is 343\n",
      "the cube of number 8 is 512\n",
      "the cube of number 9 is 729\n",
      "the cube of number 10 is 1000\n",
      "the cube of number 11 is 1331\n",
      "the cube of number 12 is 1728\n"
     ]
    }
   ],
   "source": [
    "# calculate the cube of all the number from 1 to given.\n",
    "num=int(input(\"please enter the number\"))\n",
    "\n",
    "for i in range(1,num+1):\n",
    "    print(f\"the cube of number {i} is {i**3}\")"
   ]
  },
  {
   "cell_type": "markdown",
   "id": "506c9d4d-d43c-4156-bbc5-1a9ed7a7f94a",
   "metadata": {},
   "source": [
    "## while loop"
   ]
  },
  {
   "cell_type": "markdown",
   "id": "d6b3d2ad-e8d2-461c-b183-c0d81db2023f",
   "metadata": {},
   "source": [
    "## print sum of all the number until user enters the number 0."
   ]
  },
  {
   "cell_type": "code",
   "execution_count": null,
   "id": "d6426b13-bbb8-4b0e-8ad1-76b91a8eff6c",
   "metadata": {},
   "outputs": [],
   "source": [
    "num=int(input(\"please enter the number\"))\n",
    "\n",
    "total=0\n",
    "\n",
    "while num!=0:\n",
    "    total+=num\n",
    "    num=int(input(\"please enter the next number\"))\n",
    "\n",
    "\n",
    " print(total)"
   ]
  },
  {
   "cell_type": "markdown",
   "id": "58587073-c39e-4082-a4b0-63394d63d942",
   "metadata": {},
   "source": [
    "### infinite looping (disadvantage of while):\n",
    "#### inifinte looping is nothing but when the condition of the while loop turns out to be true everytime ans we dont mention the exit statement.\n",
    "\n",
    "##### x=10\n",
    "##### while x==10:\n",
    "##### print(x)\n"
   ]
  },
  {
   "cell_type": "markdown",
   "id": "5304c115-8bdd-4e26-8532-9bfe7a855696",
   "metadata": {},
   "source": [
    "# for else and while else:"
   ]
  },
  {
   "cell_type": "code",
   "execution_count": 22,
   "id": "90143c4b-8480-4ef9-8503-69d96ddce52a",
   "metadata": {},
   "outputs": [
    {
     "name": "stdout",
     "output_type": "stream",
     "text": [
      "10\n",
      "20\n",
      "30\n",
      "40\n",
      "50\n",
      "60\n",
      "70\n",
      "80\n",
      "99\n",
      "200\n",
      "453\n",
      "667\n",
      "8945\n",
      "546443\n",
      "3456534354\n",
      "3453453535324\n"
     ]
    }
   ],
   "source": [
    "list_1=[10,20,30,40,50,60,70,80,99,200,453,667,8945,546443,3456534354,3453453535324,3453454354324345,345345345344]\n",
    "for i in list_1:\n",
    "    print(i)\n",
    "    if i==3453453535324:\n",
    "        break\n",
    "else:\n",
    "    print(40)"
   ]
  },
  {
   "cell_type": "code",
   "execution_count": 24,
   "id": "97cb89e4-5a57-4842-ae62-9df202e8f0f9",
   "metadata": {},
   "outputs": [
    {
     "name": "stdout",
     "output_type": "stream",
     "text": [
      "prudvi\n",
      "achu\n",
      "45\n",
      "67\n",
      "89\n",
      "99\n",
      "902\n",
      "this is my first continue code\n"
     ]
    }
   ],
   "source": [
    "list_5=[\"prudvi\",\"achu\",45,67,89,99,902]\n",
    "for i in list_5:\n",
    "    print(i)\n",
    "    if i == 89:\n",
    "        continue\n",
    "else:\n",
    "    print(\"this is my first continue code\")"
   ]
  },
  {
   "cell_type": "code",
   "execution_count": 58,
   "id": "5f122d0b-ab9c-4f7b-96c0-d333fd8b04d8",
   "metadata": {},
   "outputs": [
    {
     "name": "stdout",
     "output_type": "stream",
     "text": [
      "11\n",
      "12\n",
      "13\n",
      "14\n"
     ]
    }
   ],
   "source": [
    "x=10\n",
    "while x<=15:\n",
    "    x+=1\n",
    "    print(x)\n",
    "    if x==14:\n",
    "        break\n",
    "\n",
    "else:\n",
    "    print(\"hey\")"
   ]
  },
  {
   "attachments": {},
   "cell_type": "markdown",
   "id": "2a7ce59d-4598-4501-846c-941eacb108db",
   "metadata": {},
   "source": [
    "## break\n",
    "\n",
    "# write a program to check if a given number is a prime number ."
   ]
  },
  {
   "cell_type": "code",
   "execution_count": null,
   "id": "e96d20f6-ae36-46d1-9085-cea0029165f0",
   "metadata": {},
   "outputs": [],
   "source": [
    "num_1=int(input(\"enter the value\"))\n",
    "if num_1<2:\n",
    "    print(\"we cannot check for this number\")\n",
    "else:\n",
    "    for  i in range(2,num_1):\n",
    "        if num_1%i==0:\n",
    "            print(\"not a prime number\")\n",
    "            break\n",
    "    else:\n",
    "        print(\"prime number\")"
   ]
  },
  {
   "cell_type": "code",
   "execution_count": null,
   "id": "740698b1-71b2-422f-ba5f-1ec8570e54aa",
   "metadata": {},
   "outputs": [],
   "source": []
  }
 ],
 "metadata": {
  "kernelspec": {
   "display_name": "Python 3 (ipykernel)",
   "language": "python",
   "name": "python3"
  },
  "language_info": {
   "codemirror_mode": {
    "name": "ipython",
    "version": 3
   },
   "file_extension": ".py",
   "mimetype": "text/x-python",
   "name": "python",
   "nbconvert_exporter": "python",
   "pygments_lexer": "ipython3",
   "version": "3.12.7"
  }
 },
 "nbformat": 4,
 "nbformat_minor": 5
}
