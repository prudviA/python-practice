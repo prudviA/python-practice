{
 "cells": [
  {
   "cell_type": "code",
   "execution_count": 9,
   "id": "652b0ca2-0e4b-45d8-b76d-14b9fa82c434",
   "metadata": {},
   "outputs": [
    {
     "name": "stdin",
     "output_type": "stream",
     "text": [
      "enter the value 33\n"
     ]
    },
    {
     "name": "stdout",
     "output_type": "stream",
     "text": [
      "not a prime number\n"
     ]
    }
   ],
   "source": [
    "num_1=int(input(\"enter the value\"))\n",
    "if num_1<2:\n",
    "    print(\"we cannot check for this number\")\n",
    "else:\n",
    "    for  i in range(2,num_1):\n",
    "        if num_1%i==0:\n",
    "            print(\"not a prime number\")\n",
    "            break\n",
    "    else:\n",
    "        print(\"prime number\")\n",
    "\n",
    "\n",
    "\n"
   ]
  },
  {
   "cell_type": "markdown",
   "id": "4a0ced9e-7954-4e4f-97c0-30f87a6b89b4",
   "metadata": {},
   "source": [
    "## syntax of basic list_comprehension:"
   ]
  },
  {
   "cell_type": "code",
   "execution_count": 2,
   "id": "778f309f-d9a2-4b66-98d1-a7c6d47f5cd6",
   "metadata": {},
   "outputs": [
    {
     "name": "stdout",
     "output_type": "stream",
     "text": [
      "[1, 2, 3, 4, 5]\n"
     ]
    }
   ],
   "source": [
    "var_1=[i for i in range(1,6)]\n",
    "print(var_1)"
   ]
  },
  {
   "cell_type": "markdown",
   "id": "054e3695-940c-474b-b471-49dfceb1d96d",
   "metadata": {},
   "source": [
    "### syntax of list_comprehensions with if:\n"
   ]
  },
  {
   "cell_type": "code",
   "execution_count": 13,
   "id": "f2e0e772-1596-4e68-b79a-06b800e235f6",
   "metadata": {},
   "outputs": [
    {
     "name": "stdout",
     "output_type": "stream",
     "text": [
      "[1, 4, 13, 16]\n"
     ]
    }
   ],
   "source": [
    "x=[i for i in range(1,20,3) if i&2==0]\n",
    "print(x)"
   ]
  },
  {
   "cell_type": "code",
   "execution_count": 17,
   "id": "f9b94d9d-a19d-4b18-90c4-19480e8e4b80",
   "metadata": {},
   "outputs": [
    {
     "name": "stdout",
     "output_type": "stream",
     "text": [
      "[1, 0, 1, 0, 0]\n",
      "3\n"
     ]
    }
   ],
   "source": [
    "list_str=[\"abc\",\"xyz\",\"efg\",\"bad\",\"good\"]\n",
    "\n",
    "var_3=[1 if i[0] in \"aeiou\" else 0 for i in  list_str]\n",
    "print(var_3)\n",
    "print(var_3.count(0))"
   ]
  },
  {
   "cell_type": "markdown",
   "id": "9b1203af-fde3-49a2-87ad-fda406ac05cb",
   "metadata": {},
   "source": [
    "## DICT comprehension:"
   ]
  },
  {
   "cell_type": "code",
   "execution_count": 24,
   "id": "7565da43-cec0-42ee-b756-8308cef2641f",
   "metadata": {},
   "outputs": [
    {
     "data": {
      "text/plain": [
       "{'abc': 3, 'xyz': 3, 'efg': 3, 'bad': 3, 'good': 4}"
      ]
     },
     "execution_count": 24,
     "metadata": {},
     "output_type": "execute_result"
    }
   ],
   "source": [
    "list_str=[\"abc\",\"xyz\",\"efg\",\"bad\",\"good\"]\n",
    "dict_1={i:len(i) for i in list_str}\n",
    "dict_1"
   ]
  },
  {
   "cell_type": "code",
   "execution_count": 26,
   "id": "bff2b53c-2b7a-4940-b635-7b7f3e503163",
   "metadata": {},
   "outputs": [
    {
     "data": {
      "text/plain": [
       "{1: 3, 2: 6, 3: 9, 4: 12, 5: 15, 6: 18, 7: 21, 8: 24, 9: 27, 10: 30}"
      ]
     },
     "execution_count": 26,
     "metadata": {},
     "output_type": "execute_result"
    }
   ],
   "source": [
    "dict_3={i:i*3 for i in range(1,11)}\n",
    "dict_3"
   ]
  },
  {
   "cell_type": "markdown",
   "id": "c2e9b1a8-a55f-437c-b0af-c02dfae7510a",
   "metadata": {},
   "source": [
    "# functions"
   ]
  },
  {
   "cell_type": "raw",
   "id": "91690371-d089-4e3a-83ae-8630998e8cc7",
   "metadata": {},
   "source": [
    "# functions are the block of code only runs when it is  called.\n",
    " functions are reusable in nature as well as flexible which means once define we can call it or use it any number of times.\n",
    "Types of functions:\n",
    "1.Built in functions. examples: print(),type(),len(),help() etc.\n",
    "2.User defined functions.\n",
    "3.Anonymous function.(functions with no name)\n",
    "4.Recursive functions.(function calls itself)\n"
   ]
  },
  {
   "cell_type": "markdown",
   "id": "025eee2a-f109-4ca6-b245-114a31e8eb23",
   "metadata": {},
   "source": [
    "## user defined functions:\n"
   ]
  },
  {
   "cell_type": "code",
   "execution_count": null,
   "id": "a3cfd782-bfbd-4245-8ea1-940fa1d6aad7",
   "metadata": {},
   "outputs": [],
   "source": []
  }
 ],
 "metadata": {
  "kernelspec": {
   "display_name": "Python 3 (ipykernel)",
   "language": "python",
   "name": "python3"
  },
  "language_info": {
   "codemirror_mode": {
    "name": "ipython",
    "version": 3
   },
   "file_extension": ".py",
   "mimetype": "text/x-python",
   "name": "python",
   "nbconvert_exporter": "python",
   "pygments_lexer": "ipython3",
   "version": "3.12.7"
  }
 },
 "nbformat": 4,
 "nbformat_minor": 5
}
